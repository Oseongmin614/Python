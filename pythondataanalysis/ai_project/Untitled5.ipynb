{
 "cells": [
  {
   "cell_type": "code",
   "execution_count": 1,
   "id": "0feebb62-c778-499c-9175-0f32c5714694",
   "metadata": {},
   "outputs": [
    {
     "name": "stdout",
     "output_type": "stream",
     "text": [
      "1\n"
     ]
    }
   ],
   "source": [
    "print(1)"
   ]
  },
  {
   "cell_type": "code",
   "execution_count": 3,
   "id": "ab654023-e70d-4eb7-aaf0-58de64d8202a",
   "metadata": {},
   "outputs": [
    {
     "name": "stdout",
     "output_type": "stream",
     "text": [
      "Found existing installation: torch 2.4.1\n",
      "Uninstalling torch-2.4.1:\n",
      "  Successfully uninstalled torch-2.4.1\n",
      "Found existing installation: torchvision 0.19.1\n",
      "Uninstalling torchvision-0.19.1:\n",
      "  Successfully uninstalled torchvision-0.19.1\n",
      "Found existing installation: torchaudio 2.4.1\n",
      "Uninstalling torchaudio-2.4.1:\n",
      "  Successfully uninstalled torchaudio-2.4.1\n"
     ]
    }
   ],
   "source": [
    "!pip uninstall torch torchvision torchaudio -y\n"
   ]
  },
  {
   "cell_type": "code",
   "execution_count": 4,
   "id": "0a11c391-e99d-41c8-ac23-a26304428290",
   "metadata": {},
   "outputs": [
    {
     "name": "stderr",
     "output_type": "stream",
     "text": [
      "WARNING: Skipping ultralytics as it is not installed.\n"
     ]
    }
   ],
   "source": [
    "!pip uninstall ultralytics -y"
   ]
  },
  {
   "cell_type": "code",
   "execution_count": 5,
   "id": "b2e55b8d-3f54-4087-93c2-d3fd3da9d74d",
   "metadata": {},
   "outputs": [
    {
     "name": "stderr",
     "output_type": "stream",
     "text": [
      "WARNING: Skipping accelerate as it is not installed.\n"
     ]
    }
   ],
   "source": [
    "!pip uninstall accelerate -y"
   ]
  },
  {
   "cell_type": "code",
   "execution_count": 6,
   "id": "b6f0a0a0-447b-4724-b534-ae25e5ccbd7f",
   "metadata": {},
   "outputs": [
    {
     "name": "stderr",
     "output_type": "stream",
     "text": [
      "WARNING: Skipping ultralytics-thop as it is not installed.\n"
     ]
    }
   ],
   "source": [
    "!pip uninstall ultralytics-thop -y"
   ]
  },
  {
   "cell_type": "code",
   "execution_count": 7,
   "id": "685c96f7-af0f-4311-9548-14eb626d431e",
   "metadata": {},
   "outputs": [
    {
     "name": "stderr",
     "output_type": "stream",
     "text": [
      "WARNING: Skipping xformers as it is not installed.\n"
     ]
    }
   ],
   "source": [
    "!pip uninstall xformers -y\n"
   ]
  },
  {
   "cell_type": "code",
   "execution_count": 8,
   "id": "409c1179-f707-482b-a628-77a3a6bf59a6",
   "metadata": {},
   "outputs": [
    {
     "name": "stdout",
     "output_type": "stream",
     "text": [
      "Collecting numpy==1.26.4\n",
      "  Using cached numpy-1.26.4-cp311-cp311-win_amd64.whl.metadata (61 kB)\n",
      "Using cached numpy-1.26.4-cp311-cp311-win_amd64.whl (15.8 MB)\n",
      "Installing collected packages: numpy\n",
      "Successfully installed numpy-1.26.4\n"
     ]
    }
   ],
   "source": [
    "!pip install numpy==1.26.4\n"
   ]
  },
  {
   "cell_type": "code",
   "execution_count": 9,
   "id": "c5e42eed-999c-40a7-a8c6-66a267ab4528",
   "metadata": {},
   "outputs": [
    {
     "name": "stdout",
     "output_type": "stream",
     "text": [
      "Requirement already satisfied: diffusers in c:\\users\\user\\anaconda3\\envs\\yolo_env01\\lib\\site-packages (0.33.1)\n",
      "Requirement already satisfied: importlib-metadata in c:\\users\\user\\anaconda3\\envs\\yolo_env01\\lib\\site-packages (from diffusers) (8.7.0)\n",
      "Requirement already satisfied: filelock in c:\\users\\user\\anaconda3\\envs\\yolo_env01\\lib\\site-packages (from diffusers) (3.17.0)\n",
      "Requirement already satisfied: huggingface-hub>=0.27.0 in c:\\users\\user\\anaconda3\\envs\\yolo_env01\\lib\\site-packages (from diffusers) (0.33.0)\n",
      "Requirement already satisfied: numpy in c:\\users\\user\\anaconda3\\envs\\yolo_env01\\lib\\site-packages (from diffusers) (1.26.4)\n",
      "Requirement already satisfied: regex!=2019.12.17 in c:\\users\\user\\anaconda3\\envs\\yolo_env01\\lib\\site-packages (from diffusers) (2024.11.6)\n",
      "Requirement already satisfied: requests in c:\\users\\user\\anaconda3\\envs\\yolo_env01\\lib\\site-packages (from diffusers) (2.32.3)\n",
      "Requirement already satisfied: safetensors>=0.3.1 in c:\\users\\user\\anaconda3\\envs\\yolo_env01\\lib\\site-packages (from diffusers) (0.5.3)\n",
      "Requirement already satisfied: Pillow in c:\\users\\user\\anaconda3\\envs\\yolo_env01\\lib\\site-packages (from diffusers) (11.1.0)\n",
      "Requirement already satisfied: fsspec>=2023.5.0 in c:\\users\\user\\anaconda3\\envs\\yolo_env01\\lib\\site-packages (from huggingface-hub>=0.27.0->diffusers) (2025.5.0)\n",
      "Requirement already satisfied: packaging>=20.9 in c:\\users\\user\\anaconda3\\envs\\yolo_env01\\lib\\site-packages (from huggingface-hub>=0.27.0->diffusers) (25.0)\n",
      "Requirement already satisfied: pyyaml>=5.1 in c:\\users\\user\\anaconda3\\envs\\yolo_env01\\lib\\site-packages (from huggingface-hub>=0.27.0->diffusers) (6.0.2)\n",
      "Requirement already satisfied: tqdm>=4.42.1 in c:\\users\\user\\anaconda3\\envs\\yolo_env01\\lib\\site-packages (from huggingface-hub>=0.27.0->diffusers) (4.67.1)\n",
      "Requirement already satisfied: typing-extensions>=3.7.4.3 in c:\\users\\user\\anaconda3\\envs\\yolo_env01\\lib\\site-packages (from huggingface-hub>=0.27.0->diffusers) (4.12.2)\n",
      "Requirement already satisfied: colorama in c:\\users\\user\\anaconda3\\envs\\yolo_env01\\lib\\site-packages (from tqdm>=4.42.1->huggingface-hub>=0.27.0->diffusers) (0.4.6)\n",
      "Requirement already satisfied: zipp>=3.20 in c:\\users\\user\\anaconda3\\envs\\yolo_env01\\lib\\site-packages (from importlib-metadata->diffusers) (3.23.0)\n",
      "Requirement already satisfied: charset-normalizer<4,>=2 in c:\\users\\user\\anaconda3\\envs\\yolo_env01\\lib\\site-packages (from requests->diffusers) (3.3.2)\n",
      "Requirement already satisfied: idna<4,>=2.5 in c:\\users\\user\\anaconda3\\envs\\yolo_env01\\lib\\site-packages (from requests->diffusers) (3.10)\n",
      "Requirement already satisfied: urllib3<3,>=1.21.1 in c:\\users\\user\\anaconda3\\envs\\yolo_env01\\lib\\site-packages (from requests->diffusers) (2.3.0)\n",
      "Requirement already satisfied: certifi>=2017.4.17 in c:\\users\\user\\anaconda3\\envs\\yolo_env01\\lib\\site-packages (from requests->diffusers) (2025.4.26)\n"
     ]
    }
   ],
   "source": [
    "!pip install --upgrade diffusers\n"
   ]
  },
  {
   "cell_type": "code",
   "execution_count": 10,
   "id": "d9ec68ec-c845-4720-ab85-45ea6623f74b",
   "metadata": {},
   "outputs": [
    {
     "name": "stdout",
     "output_type": "stream",
     "text": [
      "Requirement already satisfied: transformers in c:\\users\\user\\anaconda3\\envs\\yolo_env01\\lib\\site-packages (4.52.4)\n",
      "Requirement already satisfied: filelock in c:\\users\\user\\anaconda3\\envs\\yolo_env01\\lib\\site-packages (from transformers) (3.17.0)\n",
      "Requirement already satisfied: huggingface-hub<1.0,>=0.30.0 in c:\\users\\user\\anaconda3\\envs\\yolo_env01\\lib\\site-packages (from transformers) (0.33.0)\n",
      "Requirement already satisfied: numpy>=1.17 in c:\\users\\user\\anaconda3\\envs\\yolo_env01\\lib\\site-packages (from transformers) (1.26.4)\n",
      "Requirement already satisfied: packaging>=20.0 in c:\\users\\user\\anaconda3\\envs\\yolo_env01\\lib\\site-packages (from transformers) (25.0)\n",
      "Requirement already satisfied: pyyaml>=5.1 in c:\\users\\user\\anaconda3\\envs\\yolo_env01\\lib\\site-packages (from transformers) (6.0.2)\n",
      "Requirement already satisfied: regex!=2019.12.17 in c:\\users\\user\\anaconda3\\envs\\yolo_env01\\lib\\site-packages (from transformers) (2024.11.6)\n",
      "Requirement already satisfied: requests in c:\\users\\user\\anaconda3\\envs\\yolo_env01\\lib\\site-packages (from transformers) (2.32.3)\n",
      "Requirement already satisfied: tokenizers<0.22,>=0.21 in c:\\users\\user\\anaconda3\\envs\\yolo_env01\\lib\\site-packages (from transformers) (0.21.1)\n",
      "Requirement already satisfied: safetensors>=0.4.3 in c:\\users\\user\\anaconda3\\envs\\yolo_env01\\lib\\site-packages (from transformers) (0.5.3)\n",
      "Requirement already satisfied: tqdm>=4.27 in c:\\users\\user\\anaconda3\\envs\\yolo_env01\\lib\\site-packages (from transformers) (4.67.1)\n",
      "Requirement already satisfied: fsspec>=2023.5.0 in c:\\users\\user\\anaconda3\\envs\\yolo_env01\\lib\\site-packages (from huggingface-hub<1.0,>=0.30.0->transformers) (2025.5.0)\n",
      "Requirement already satisfied: typing-extensions>=3.7.4.3 in c:\\users\\user\\anaconda3\\envs\\yolo_env01\\lib\\site-packages (from huggingface-hub<1.0,>=0.30.0->transformers) (4.12.2)\n",
      "Requirement already satisfied: colorama in c:\\users\\user\\anaconda3\\envs\\yolo_env01\\lib\\site-packages (from tqdm>=4.27->transformers) (0.4.6)\n",
      "Requirement already satisfied: charset-normalizer<4,>=2 in c:\\users\\user\\anaconda3\\envs\\yolo_env01\\lib\\site-packages (from requests->transformers) (3.3.2)\n",
      "Requirement already satisfied: idna<4,>=2.5 in c:\\users\\user\\anaconda3\\envs\\yolo_env01\\lib\\site-packages (from requests->transformers) (3.10)\n",
      "Requirement already satisfied: urllib3<3,>=1.21.1 in c:\\users\\user\\anaconda3\\envs\\yolo_env01\\lib\\site-packages (from requests->transformers) (2.3.0)\n",
      "Requirement already satisfied: certifi>=2017.4.17 in c:\\users\\user\\anaconda3\\envs\\yolo_env01\\lib\\site-packages (from requests->transformers) (2025.4.26)\n"
     ]
    }
   ],
   "source": [
    "!pip install --upgrade transformers\n"
   ]
  },
  {
   "cell_type": "code",
   "execution_count": 11,
   "id": "37387e47-b8e5-453a-9410-cc50405adfb4",
   "metadata": {},
   "outputs": [
    {
     "name": "stdout",
     "output_type": "stream",
     "text": [
      "Looking in indexes: https://download.pytorch.org/whl/cu118\n",
      "Collecting torch==2.4.0\n",
      "  Downloading https://download.pytorch.org/whl/cu118/torch-2.4.0%2Bcu118-cp311-cp311-win_amd64.whl (2692.5 MB)\n",
      "     ---------------------------------------- 0.0/2.7 GB ? eta -:--:--\n",
      "     ---------------------------------------- 0.0/2.7 GB 91.4 MB/s eta 0:00:30\n",
      "     ---------------------------------------- 0.0/2.7 GB 81.4 MB/s eta 0:00:33\n",
      "      --------------------------------------- 0.1/2.7 GB 90.2 MB/s eta 0:00:30\n",
      "     - -------------------------------------- 0.1/2.7 GB 93.4 MB/s eta 0:00:28\n",
      "     - -------------------------------------- 0.1/2.7 GB 94.8 MB/s eta 0:00:28\n",
      "     - -------------------------------------- 0.1/2.7 GB 96.8 MB/s eta 0:00:27\n",
      "     -- ------------------------------------- 0.1/2.7 GB 98.1 MB/s eta 0:00:27\n",
      "     -- ------------------------------------- 0.2/2.7 GB 99.2 MB/s eta 0:00:26\n",
      "     -- ------------------------------------- 0.2/2.7 GB 98.8 MB/s eta 0:00:26\n",
      "     -- ------------------------------------- 0.2/2.7 GB 95.4 MB/s eta 0:00:27\n",
      "     --- ------------------------------------ 0.2/2.7 GB 94.5 MB/s eta 0:00:27\n",
      "     --- ------------------------------------ 0.2/2.7 GB 94.1 MB/s eta 0:00:27\n",
      "     --- ------------------------------------ 0.3/2.7 GB 93.0 MB/s eta 0:00:27\n",
      "     ---- ----------------------------------- 0.3/2.7 GB 94.2 MB/s eta 0:00:26\n",
      "     ---- ----------------------------------- 0.3/2.7 GB 95.8 MB/s eta 0:00:26\n",
      "     ---- ----------------------------------- 0.3/2.7 GB 96.3 MB/s eta 0:00:25\n",
      "     ----- ---------------------------------- 0.3/2.7 GB 96.4 MB/s eta 0:00:25\n",
      "     ----- ---------------------------------- 0.4/2.7 GB 96.3 MB/s eta 0:00:25\n",
      "     ----- ---------------------------------- 0.4/2.7 GB 92.6 MB/s eta 0:00:26\n",
      "     ----- ---------------------------------- 0.4/2.7 GB 90.6 MB/s eta 0:00:26\n",
      "     ------ --------------------------------- 0.4/2.7 GB 90.1 MB/s eta 0:00:26\n",
      "     ------ --------------------------------- 0.4/2.7 GB 90.1 MB/s eta 0:00:26\n",
      "     ------ --------------------------------- 0.4/2.7 GB 86.4 MB/s eta 0:00:27\n",
      "     ------ --------------------------------- 0.5/2.7 GB 89.2 MB/s eta 0:00:25\n",
      "     ------- -------------------------------- 0.5/2.7 GB 88.2 MB/s eta 0:00:26\n",
      "     ------- -------------------------------- 0.5/2.7 GB 89.1 MB/s eta 0:00:25\n",
      "     ------- -------------------------------- 0.5/2.7 GB 88.7 MB/s eta 0:00:25\n",
      "     -------- ------------------------------- 0.5/2.7 GB 90.1 MB/s eta 0:00:24\n",
      "     -------- ------------------------------- 0.6/2.7 GB 89.6 MB/s eta 0:00:24\n",
      "     -------- ------------------------------- 0.6/2.7 GB 89.1 MB/s eta 0:00:24\n",
      "     -------- ------------------------------- 0.6/2.7 GB 87.3 MB/s eta 0:00:24\n",
      "     --------- ------------------------------ 0.6/2.7 GB 87.3 MB/s eta 0:00:24\n",
      "     --------- ------------------------------ 0.6/2.7 GB 90.1 MB/s eta 0:00:23\n",
      "     --------- ------------------------------ 0.7/2.7 GB 91.6 MB/s eta 0:00:23\n",
      "     ---------- ----------------------------- 0.7/2.7 GB 92.6 MB/s eta 0:00:22\n",
      "     ---------- ----------------------------- 0.7/2.7 GB 93.6 MB/s eta 0:00:22\n",
      "     ---------- ----------------------------- 0.7/2.7 GB 95.8 MB/s eta 0:00:21\n",
      "     ----------- ---------------------------- 0.7/2.7 GB 96.3 MB/s eta 0:00:21\n",
      "     ----------- ---------------------------- 0.8/2.7 GB 96.3 MB/s eta 0:00:21\n",
      "     ----------- ---------------------------- 0.8/2.7 GB 93.1 MB/s eta 0:00:21\n",
      "     ----------- ---------------------------- 0.8/2.7 GB 90.6 MB/s eta 0:00:21\n",
      "     ------------ --------------------------- 0.8/2.7 GB 89.1 MB/s eta 0:00:22\n",
      "     ------------ --------------------------- 0.8/2.7 GB 89.6 MB/s eta 0:00:21\n",
      "     ------------ --------------------------- 0.8/2.7 GB 87.8 MB/s eta 0:00:22\n",
      "     ------------ --------------------------- 0.9/2.7 GB 83.8 MB/s eta 0:00:22\n",
      "     ------------ --------------------------- 0.9/2.7 GB 85.5 MB/s eta 0:00:22\n",
      "     ------------- -------------------------- 0.9/2.7 GB 84.7 MB/s eta 0:00:22\n",
      "     ------------- -------------------------- 0.9/2.7 GB 85.1 MB/s eta 0:00:21\n",
      "     ------------- -------------------------- 0.9/2.7 GB 85.5 MB/s eta 0:00:21\n",
      "     -------------- ------------------------- 1.0/2.7 GB 86.4 MB/s eta 0:00:21\n",
      "     -------------- ------------------------- 1.0/2.7 GB 85.9 MB/s eta 0:00:20\n",
      "     -------------- ------------------------- 1.0/2.7 GB 85.5 MB/s eta 0:00:20\n",
      "     --------------- ------------------------ 1.0/2.7 GB 85.5 MB/s eta 0:00:20\n",
      "     --------------- ------------------------ 1.0/2.7 GB 87.3 MB/s eta 0:00:19\n",
      "     --------------- ------------------------ 1.1/2.7 GB 90.6 MB/s eta 0:00:19\n",
      "     ---------------- ----------------------- 1.1/2.7 GB 91.1 MB/s eta 0:00:18\n",
      "     ---------------- ----------------------- 1.1/2.7 GB 90.1 MB/s eta 0:00:18\n",
      "     ---------------- ----------------------- 1.1/2.7 GB 98.6 MB/s eta 0:00:16\n",
      "     ---------------- ----------------------- 1.1/2.7 GB 96.3 MB/s eta 0:00:17\n",
      "     ----------------- ---------------------- 1.2/2.7 GB 96.3 MB/s eta 0:00:16\n",
      "     ----------------- ---------------------- 1.2/2.7 GB 95.8 MB/s eta 0:00:16\n",
      "     ----------------- ---------------------- 1.2/2.7 GB 96.3 MB/s eta 0:00:16\n",
      "     ------------------ --------------------- 1.2/2.7 GB 95.8 MB/s eta 0:00:16\n",
      "     ------------------ --------------------- 1.2/2.7 GB 94.7 MB/s eta 0:00:16\n",
      "     ------------------ --------------------- 1.3/2.7 GB 94.7 MB/s eta 0:00:16\n",
      "     ------------------ --------------------- 1.3/2.7 GB 94.1 MB/s eta 0:00:16\n",
      "     ------------------- -------------------- 1.3/2.7 GB 94.2 MB/s eta 0:00:15\n",
      "     ------------------- -------------------- 1.3/2.7 GB 93.6 MB/s eta 0:00:15\n",
      "     ------------------- -------------------- 1.3/2.7 GB 92.1 MB/s eta 0:00:15\n",
      "     ------------------- -------------------- 1.3/2.7 GB 91.1 MB/s eta 0:00:15\n",
      "     -------------------- ------------------- 1.4/2.7 GB 90.1 MB/s eta 0:00:15\n",
      "     -------------------- ------------------- 1.4/2.7 GB 88.2 MB/s eta 0:00:15\n",
      "     -------------------- ------------------- 1.4/2.7 GB 87.8 MB/s eta 0:00:15\n",
      "     -------------------- ------------------- 1.4/2.7 GB 85.9 MB/s eta 0:00:15\n",
      "     --------------------- ------------------ 1.4/2.7 GB 84.7 MB/s eta 0:00:15\n",
      "     --------------------- ------------------ 1.4/2.7 GB 83.4 MB/s eta 0:00:16\n",
      "     --------------------- ------------------ 1.5/2.7 GB 81.4 MB/s eta 0:00:16\n",
      "     --------------------- ------------------ 1.5/2.7 GB 79.8 MB/s eta 0:00:16\n",
      "     --------------------- ------------------ 1.5/2.7 GB 77.2 MB/s eta 0:00:16\n",
      "     ---------------------- ----------------- 1.5/2.7 GB 74.8 MB/s eta 0:00:17\n",
      "     ---------------------- ----------------- 1.5/2.7 GB 73.5 MB/s eta 0:00:17\n",
      "     ---------------------- ----------------- 1.5/2.7 GB 72.2 MB/s eta 0:00:17\n",
      "     ---------------------- ----------------- 1.5/2.7 GB 71.9 MB/s eta 0:00:17\n",
      "     ---------------------- ----------------- 1.5/2.7 GB 70.4 MB/s eta 0:00:17\n",
      "     ----------------------- ---------------- 1.6/2.7 GB 69.8 MB/s eta 0:00:17\n",
      "     ----------------------- ---------------- 1.6/2.7 GB 70.1 MB/s eta 0:00:16\n",
      "     ----------------------- ---------------- 1.6/2.7 GB 70.1 MB/s eta 0:00:16\n",
      "     ----------------------- ---------------- 1.6/2.7 GB 70.1 MB/s eta 0:00:16\n",
      "     ------------------------ --------------- 1.6/2.7 GB 71.0 MB/s eta 0:00:15\n",
      "     ------------------------ --------------- 1.7/2.7 GB 72.2 MB/s eta 0:00:15\n",
      "     ------------------------ --------------- 1.7/2.7 GB 73.8 MB/s eta 0:00:14\n",
      "     ------------------------- -------------- 1.7/2.7 GB 75.2 MB/s eta 0:00:14\n",
      "     ------------------------- -------------- 1.7/2.7 GB 71.0 MB/s eta 0:00:15\n",
      "     ------------------------- -------------- 1.7/2.7 GB 72.5 MB/s eta 0:00:14\n",
      "     ------------------------- -------------- 1.7/2.7 GB 75.8 MB/s eta 0:00:13\n",
      "     -------------------------- ------------- 1.8/2.7 GB 80.2 MB/s eta 0:00:12\n",
      "     -------------------------- ------------- 1.8/2.7 GB 81.4 MB/s eta 0:00:12\n",
      "     -------------------------- ------------- 1.8/2.7 GB 81.8 MB/s eta 0:00:12\n",
      "     -------------------------- ------------- 1.8/2.7 GB 84.6 MB/s eta 0:00:11\n",
      "     --------------------------- ------------ 1.8/2.7 GB 86.9 MB/s eta 0:00:10\n",
      "     --------------------------- ------------ 1.9/2.7 GB 88.7 MB/s eta 0:00:10\n",
      "     --------------------------- ------------ 1.9/2.7 GB 88.7 MB/s eta 0:00:10\n",
      "     ---------------------------- ----------- 1.9/2.7 GB 88.2 MB/s eta 0:00:10\n",
      "     ---------------------------- ----------- 1.9/2.7 GB 88.7 MB/s eta 0:00:09\n",
      "     ---------------------------- ----------- 1.9/2.7 GB 89.1 MB/s eta 0:00:09\n",
      "     ----------------------------- ---------- 2.0/2.7 GB 95.2 MB/s eta 0:00:08\n",
      "     ----------------------------- ---------- 2.0/2.7 GB 95.2 MB/s eta 0:00:08\n",
      "     ----------------------------- ---------- 2.0/2.7 GB 95.2 MB/s eta 0:00:08\n",
      "     ----------------------------- ---------- 2.0/2.7 GB 95.8 MB/s eta 0:00:08\n",
      "     ------------------------------ --------- 2.0/2.7 GB 96.3 MB/s eta 0:00:07\n",
      "     ------------------------------ --------- 2.1/2.7 GB 96.9 MB/s eta 0:00:07\n",
      "     ------------------------------ --------- 2.1/2.7 GB 97.5 MB/s eta 0:00:07\n",
      "     ------------------------------- -------- 2.1/2.7 GB 96.9 MB/s eta 0:00:07\n",
      "     ------------------------------- -------- 2.1/2.7 GB 97.4 MB/s eta 0:00:06\n",
      "     ------------------------------- -------- 2.1/2.7 GB 96.9 MB/s eta 0:00:06\n",
      "     -------------------------------- ------- 2.2/2.7 GB 97.5 MB/s eta 0:00:06\n",
      "     -------------------------------- ------- 2.2/2.7 GB 97.4 MB/s eta 0:00:06\n",
      "     -------------------------------- ------- 2.2/2.7 GB 95.8 MB/s eta 0:00:06\n",
      "     --------------------------------- ------ 2.2/2.7 GB 95.8 MB/s eta 0:00:05\n",
      "     --------------------------------- ------ 2.2/2.7 GB 96.3 MB/s eta 0:00:05\n",
      "     --------------------------------- ------ 2.3/2.7 GB 96.9 MB/s eta 0:00:05\n",
      "     --------------------------------- ------ 2.3/2.7 GB 96.9 MB/s eta 0:00:05\n",
      "     ---------------------------------- ----- 2.3/2.7 GB 94.7 MB/s eta 0:00:05\n",
      "     ---------------------------------- ----- 2.3/2.7 GB 94.7 MB/s eta 0:00:04\n",
      "     ---------------------------------- ----- 2.3/2.7 GB 95.2 MB/s eta 0:00:04\n",
      "     ----------------------------------- ---- 2.4/2.7 GB 95.2 MB/s eta 0:00:04\n",
      "     ----------------------------------- ---- 2.4/2.7 GB 95.2 MB/s eta 0:00:04\n",
      "     ----------------------------------- ---- 2.4/2.7 GB 94.2 MB/s eta 0:00:04\n",
      "     ----------------------------------- ---- 2.4/2.7 GB 94.7 MB/s eta 0:00:03\n",
      "     ------------------------------------ --- 2.4/2.7 GB 94.7 MB/s eta 0:00:03\n",
      "     ------------------------------------ --- 2.5/2.7 GB 96.3 MB/s eta 0:00:03\n",
      "     ------------------------------------ --- 2.5/2.7 GB 95.8 MB/s eta 0:00:03\n",
      "     ------------------------------------- -- 2.5/2.7 GB 96.3 MB/s eta 0:00:02\n",
      "     ------------------------------------- -- 2.5/2.7 GB 96.4 MB/s eta 0:00:02\n",
      "     ------------------------------------- -- 2.6/2.7 GB 97.5 MB/s eta 0:00:02\n",
      "     -------------------------------------- - 2.6/2.7 GB 98.6 MB/s eta 0:00:02\n",
      "     -------------------------------------- - 2.6/2.7 GB 98.0 MB/s eta 0:00:02\n",
      "     -------------------------------------- - 2.6/2.7 GB 98.6 MB/s eta 0:00:01\n",
      "     ---------------------------------------  2.6/2.7 GB 100.3 MB/s eta 0:00:01\n",
      "     ---------------------------------------  2.7/2.7 GB 102.8 MB/s eta 0:00:01\n",
      "     ---------------------------------------  2.7/2.7 GB 99.2 MB/s eta 0:00:01\n",
      "     ---------------------------------------  2.7/2.7 GB 94.2 MB/s eta 0:00:01\n",
      "     ---------------------------------------  2.7/2.7 GB 94.7 MB/s eta 0:00:01\n",
      "     ---------------------------------------  2.7/2.7 GB 94.7 MB/s eta 0:00:01\n",
      "     ---------------------------------------  2.7/2.7 GB 94.7 MB/s eta 0:00:01\n",
      "     ---------------------------------------  2.7/2.7 GB 94.7 MB/s eta 0:00:01\n",
      "     ---------------------------------------  2.7/2.7 GB 94.7 MB/s eta 0:00:01\n",
      "     ---------------------------------------  2.7/2.7 GB 94.7 MB/s eta 0:00:01\n",
      "     ---------------------------------------  2.7/2.7 GB 94.7 MB/s eta 0:00:01\n",
      "     ---------------------------------------  2.7/2.7 GB 94.7 MB/s eta 0:00:01\n",
      "     ---------------------------------------  2.7/2.7 GB 94.7 MB/s eta 0:00:01\n",
      "     ---------------------------------------- 2.7/2.7 GB 55.4 MB/s eta 0:00:00\n",
      "Collecting torchvision==0.19.0\n",
      "  Downloading https://download.pytorch.org/whl/cu118/torchvision-0.19.0%2Bcu118-cp311-cp311-win_amd64.whl (5.0 MB)\n",
      "     ---------------------------------------- 0.0/5.0 MB ? eta -:--:--\n",
      "     ---------------------------------------- 5.0/5.0 MB 38.1 MB/s eta 0:00:00\n",
      "Collecting torchaudio==2.4.0\n",
      "  Downloading https://download.pytorch.org/whl/cu118/torchaudio-2.4.0%2Bcu118-cp311-cp311-win_amd64.whl (4.0 MB)\n",
      "     ---------------------------------------- 0.0/4.0 MB ? eta -:--:--\n",
      "     ---------------------------------------- 4.0/4.0 MB 79.8 MB/s eta 0:00:00\n",
      "Requirement already satisfied: filelock in c:\\users\\user\\anaconda3\\envs\\yolo_env01\\lib\\site-packages (from torch==2.4.0) (3.17.0)\n",
      "Requirement already satisfied: typing-extensions>=4.8.0 in c:\\users\\user\\anaconda3\\envs\\yolo_env01\\lib\\site-packages (from torch==2.4.0) (4.12.2)\n",
      "Requirement already satisfied: sympy in c:\\users\\user\\anaconda3\\envs\\yolo_env01\\lib\\site-packages (from torch==2.4.0) (1.13.1)\n",
      "Requirement already satisfied: networkx in c:\\users\\user\\anaconda3\\envs\\yolo_env01\\lib\\site-packages (from torch==2.4.0) (3.4.2)\n",
      "Requirement already satisfied: jinja2 in c:\\users\\user\\anaconda3\\envs\\yolo_env01\\lib\\site-packages (from torch==2.4.0) (3.1.6)\n",
      "Requirement already satisfied: fsspec in c:\\users\\user\\anaconda3\\envs\\yolo_env01\\lib\\site-packages (from torch==2.4.0) (2025.5.0)\n",
      "Requirement already satisfied: numpy in c:\\users\\user\\anaconda3\\envs\\yolo_env01\\lib\\site-packages (from torchvision==0.19.0) (1.26.4)\n",
      "Requirement already satisfied: pillow!=8.3.*,>=5.3.0 in c:\\users\\user\\anaconda3\\envs\\yolo_env01\\lib\\site-packages (from torchvision==0.19.0) (11.1.0)\n",
      "Requirement already satisfied: MarkupSafe>=2.0 in c:\\users\\user\\anaconda3\\envs\\yolo_env01\\lib\\site-packages (from jinja2->torch==2.4.0) (3.0.2)\n",
      "Requirement already satisfied: mpmath<1.4,>=1.1.0 in c:\\users\\user\\anaconda3\\envs\\yolo_env01\\lib\\site-packages (from sympy->torch==2.4.0) (1.3.0)\n",
      "Installing collected packages: torch, torchvision, torchaudio\n",
      "\n",
      "   ---------------------------------------- 0/3 [torch]\n",
      "   ---------------------------------------- 0/3 [torch]\n",
      "   ---------------------------------------- 0/3 [torch]\n",
      "   ---------------------------------------- 0/3 [torch]\n",
      "   ---------------------------------------- 0/3 [torch]\n",
      "   ---------------------------------------- 0/3 [torch]\n",
      "   ---------------------------------------- 0/3 [torch]\n",
      "   ---------------------------------------- 0/3 [torch]\n",
      "   ---------------------------------------- 0/3 [torch]\n",
      "   ---------------------------------------- 0/3 [torch]\n",
      "   ---------------------------------------- 0/3 [torch]\n",
      "   ---------------------------------------- 0/3 [torch]\n",
      "   ---------------------------------------- 0/3 [torch]\n",
      "   ---------------------------------------- 0/3 [torch]\n",
      "   ---------------------------------------- 0/3 [torch]\n",
      "   ---------------------------------------- 0/3 [torch]\n",
      "   ---------------------------------------- 0/3 [torch]\n",
      "   ---------------------------------------- 0/3 [torch]\n",
      "   ---------------------------------------- 0/3 [torch]\n",
      "   ---------------------------------------- 0/3 [torch]\n",
      "   ---------------------------------------- 0/3 [torch]\n",
      "   ---------------------------------------- 0/3 [torch]\n",
      "   ---------------------------------------- 0/3 [torch]\n",
      "   ---------------------------------------- 0/3 [torch]\n",
      "   ---------------------------------------- 0/3 [torch]\n",
      "   ---------------------------------------- 0/3 [torch]\n",
      "   ---------------------------------------- 0/3 [torch]\n",
      "   ---------------------------------------- 0/3 [torch]\n",
      "   ---------------------------------------- 0/3 [torch]\n",
      "   ---------------------------------------- 0/3 [torch]\n",
      "   ---------------------------------------- 0/3 [torch]\n",
      "   ---------------------------------------- 0/3 [torch]\n",
      "   ---------------------------------------- 0/3 [torch]\n",
      "   ---------------------------------------- 0/3 [torch]\n",
      "   ---------------------------------------- 0/3 [torch]\n",
      "   ---------------------------------------- 0/3 [torch]\n",
      "   ---------------------------------------- 0/3 [torch]\n",
      "   ---------------------------------------- 0/3 [torch]\n",
      "   ---------------------------------------- 0/3 [torch]\n",
      "   ---------------------------------------- 0/3 [torch]\n",
      "   ---------------------------------------- 0/3 [torch]\n",
      "   ---------------------------------------- 0/3 [torch]\n",
      "   ---------------------------------------- 0/3 [torch]\n",
      "   ---------------------------------------- 0/3 [torch]\n",
      "   ---------------------------------------- 0/3 [torch]\n",
      "   ---------------------------------------- 0/3 [torch]\n",
      "   ---------------------------------------- 0/3 [torch]\n",
      "   ---------------------------------------- 0/3 [torch]\n",
      "   ---------------------------------------- 0/3 [torch]\n",
      "   ---------------------------------------- 0/3 [torch]\n",
      "   ---------------------------------------- 0/3 [torch]\n",
      "   ---------------------------------------- 0/3 [torch]\n",
      "   ---------------------------------------- 0/3 [torch]\n",
      "   ---------------------------------------- 0/3 [torch]\n",
      "   ---------------------------------------- 0/3 [torch]\n",
      "   ---------------------------------------- 0/3 [torch]\n",
      "   ---------------------------------------- 0/3 [torch]\n",
      "   ---------------------------------------- 0/3 [torch]\n",
      "   ---------------------------------------- 0/3 [torch]\n",
      "   ---------------------------------------- 0/3 [torch]\n",
      "   ---------------------------------------- 0/3 [torch]\n",
      "   ---------------------------------------- 0/3 [torch]\n",
      "   ---------------------------------------- 0/3 [torch]\n",
      "   ---------------------------------------- 0/3 [torch]\n",
      "   ---------------------------------------- 0/3 [torch]\n",
      "   ---------------------------------------- 0/3 [torch]\n",
      "   ---------------------------------------- 0/3 [torch]\n",
      "   ---------------------------------------- 0/3 [torch]\n",
      "   ---------------------------------------- 0/3 [torch]\n",
      "   ---------------------------------------- 0/3 [torch]\n",
      "   ---------------------------------------- 0/3 [torch]\n",
      "   ---------------------------------------- 0/3 [torch]\n",
      "   ---------------------------------------- 0/3 [torch]\n",
      "   ---------------------------------------- 0/3 [torch]\n",
      "   ---------------------------------------- 0/3 [torch]\n",
      "   ---------------------------------------- 0/3 [torch]\n",
      "   ---------------------------------------- 0/3 [torch]\n",
      "   ---------------------------------------- 0/3 [torch]\n",
      "   ---------------------------------------- 0/3 [torch]\n",
      "   ---------------------------------------- 0/3 [torch]\n",
      "   ---------------------------------------- 0/3 [torch]\n",
      "   ---------------------------------------- 0/3 [torch]\n",
      "   ---------------------------------------- 0/3 [torch]\n",
      "   ---------------------------------------- 0/3 [torch]\n",
      "   ---------------------------------------- 0/3 [torch]\n",
      "   ---------------------------------------- 0/3 [torch]\n",
      "   ---------------------------------------- 0/3 [torch]\n",
      "   ---------------------------------------- 0/3 [torch]\n",
      "   ---------------------------------------- 0/3 [torch]\n",
      "   ---------------------------------------- 0/3 [torch]\n",
      "   ---------------------------------------- 0/3 [torch]\n",
      "   ---------------------------------------- 0/3 [torch]\n",
      "   ---------------------------------------- 0/3 [torch]\n",
      "   ---------------------------------------- 0/3 [torch]\n",
      "   ---------------------------------------- 0/3 [torch]\n",
      "   ---------------------------------------- 0/3 [torch]\n",
      "   ---------------------------------------- 0/3 [torch]\n",
      "   ---------------------------------------- 0/3 [torch]\n",
      "   ---------------------------------------- 0/3 [torch]\n",
      "   ---------------------------------------- 0/3 [torch]\n",
      "   ---------------------------------------- 0/3 [torch]\n",
      "   ---------------------------------------- 0/3 [torch]\n",
      "   ---------------------------------------- 0/3 [torch]\n",
      "   ---------------------------------------- 0/3 [torch]\n",
      "   ---------------------------------------- 0/3 [torch]\n",
      "   ---------------------------------------- 0/3 [torch]\n",
      "   ---------------------------------------- 0/3 [torch]\n",
      "   ---------------------------------------- 0/3 [torch]\n",
      "   ---------------------------------------- 0/3 [torch]\n",
      "   ---------------------------------------- 0/3 [torch]\n",
      "   ---------------------------------------- 0/3 [torch]\n",
      "   ---------------------------------------- 0/3 [torch]\n",
      "   ---------------------------------------- 0/3 [torch]\n",
      "   ---------------------------------------- 0/3 [torch]\n",
      "   ---------------------------------------- 0/3 [torch]\n",
      "   ---------------------------------------- 0/3 [torch]\n",
      "   ---------------------------------------- 0/3 [torch]\n",
      "   ---------------------------------------- 0/3 [torch]\n",
      "   ---------------------------------------- 0/3 [torch]\n",
      "   ---------------------------------------- 0/3 [torch]\n",
      "   ---------------------------------------- 0/3 [torch]\n",
      "   ---------------------------------------- 0/3 [torch]\n",
      "   ---------------------------------------- 0/3 [torch]\n",
      "   ---------------------------------------- 0/3 [torch]\n",
      "   ---------------------------------------- 0/3 [torch]\n",
      "   ---------------------------------------- 0/3 [torch]\n",
      "   ---------------------------------------- 0/3 [torch]\n",
      "   ---------------------------------------- 0/3 [torch]\n",
      "   ---------------------------------------- 0/3 [torch]\n",
      "   ---------------------------------------- 0/3 [torch]\n",
      "   ---------------------------------------- 0/3 [torch]\n",
      "   ---------------------------------------- 0/3 [torch]\n",
      "   ---------------------------------------- 0/3 [torch]\n",
      "   ---------------------------------------- 0/3 [torch]\n",
      "   ---------------------------------------- 0/3 [torch]\n",
      "   ---------------------------------------- 0/3 [torch]\n",
      "   ---------------------------------------- 0/3 [torch]\n",
      "   ---------------------------------------- 0/3 [torch]\n",
      "   ---------------------------------------- 0/3 [torch]\n",
      "   ---------------------------------------- 0/3 [torch]\n",
      "   ---------------------------------------- 0/3 [torch]\n",
      "   ---------------------------------------- 0/3 [torch]\n",
      "   ---------------------------------------- 0/3 [torch]\n",
      "   ---------------------------------------- 0/3 [torch]\n",
      "   ---------------------------------------- 0/3 [torch]\n",
      "   ---------------------------------------- 0/3 [torch]\n",
      "   ------------- -------------------------- 1/3 [torchvision]\n",
      "   ------------- -------------------------- 1/3 [torchvision]\n",
      "   ------------- -------------------------- 1/3 [torchvision]\n",
      "   -------------------------- ------------- 2/3 [torchaudio]\n",
      "   ---------------------------------------- 3/3 [torchaudio]\n",
      "\n",
      "Successfully installed torch-2.4.0+cu118 torchaudio-2.4.0+cu118 torchvision-0.19.0+cu118\n"
     ]
    }
   ],
   "source": [
    "!pip install torch==2.4.0 torchvision==0.19.0 torchaudio==2.4.0 --index-url https://download.pytorch.org/whl/cu118\n"
   ]
  },
  {
   "cell_type": "code",
   "execution_count": 12,
   "id": "ce1681e1-1bc6-4232-86fa-43da99c822b3",
   "metadata": {},
   "outputs": [
    {
     "name": "stdout",
     "output_type": "stream",
     "text": [
      "Collecting accelerate\n",
      "  Downloading accelerate-1.7.0-py3-none-any.whl.metadata (19 kB)\n",
      "Requirement already satisfied: numpy<3.0.0,>=1.17 in c:\\users\\user\\anaconda3\\envs\\yolo_env01\\lib\\site-packages (from accelerate) (1.26.4)\n",
      "Requirement already satisfied: packaging>=20.0 in c:\\users\\user\\anaconda3\\envs\\yolo_env01\\lib\\site-packages (from accelerate) (25.0)\n",
      "Requirement already satisfied: psutil in c:\\users\\user\\anaconda3\\envs\\yolo_env01\\lib\\site-packages (from accelerate) (7.0.0)\n",
      "Requirement already satisfied: pyyaml in c:\\users\\user\\anaconda3\\envs\\yolo_env01\\lib\\site-packages (from accelerate) (6.0.2)\n",
      "Requirement already satisfied: torch>=2.0.0 in c:\\users\\user\\anaconda3\\envs\\yolo_env01\\lib\\site-packages (from accelerate) (2.4.0+cu118)\n",
      "Requirement already satisfied: huggingface-hub>=0.21.0 in c:\\users\\user\\anaconda3\\envs\\yolo_env01\\lib\\site-packages (from accelerate) (0.33.0)\n",
      "Requirement already satisfied: safetensors>=0.4.3 in c:\\users\\user\\anaconda3\\envs\\yolo_env01\\lib\\site-packages (from accelerate) (0.5.3)\n",
      "Requirement already satisfied: filelock in c:\\users\\user\\anaconda3\\envs\\yolo_env01\\lib\\site-packages (from huggingface-hub>=0.21.0->accelerate) (3.17.0)\n",
      "Requirement already satisfied: fsspec>=2023.5.0 in c:\\users\\user\\anaconda3\\envs\\yolo_env01\\lib\\site-packages (from huggingface-hub>=0.21.0->accelerate) (2025.5.0)\n",
      "Requirement already satisfied: requests in c:\\users\\user\\anaconda3\\envs\\yolo_env01\\lib\\site-packages (from huggingface-hub>=0.21.0->accelerate) (2.32.3)\n",
      "Requirement already satisfied: tqdm>=4.42.1 in c:\\users\\user\\anaconda3\\envs\\yolo_env01\\lib\\site-packages (from huggingface-hub>=0.21.0->accelerate) (4.67.1)\n",
      "Requirement already satisfied: typing-extensions>=3.7.4.3 in c:\\users\\user\\anaconda3\\envs\\yolo_env01\\lib\\site-packages (from huggingface-hub>=0.21.0->accelerate) (4.12.2)\n",
      "Requirement already satisfied: sympy in c:\\users\\user\\anaconda3\\envs\\yolo_env01\\lib\\site-packages (from torch>=2.0.0->accelerate) (1.13.1)\n",
      "Requirement already satisfied: networkx in c:\\users\\user\\anaconda3\\envs\\yolo_env01\\lib\\site-packages (from torch>=2.0.0->accelerate) (3.4.2)\n",
      "Requirement already satisfied: jinja2 in c:\\users\\user\\anaconda3\\envs\\yolo_env01\\lib\\site-packages (from torch>=2.0.0->accelerate) (3.1.6)\n",
      "Requirement already satisfied: colorama in c:\\users\\user\\anaconda3\\envs\\yolo_env01\\lib\\site-packages (from tqdm>=4.42.1->huggingface-hub>=0.21.0->accelerate) (0.4.6)\n",
      "Requirement already satisfied: MarkupSafe>=2.0 in c:\\users\\user\\anaconda3\\envs\\yolo_env01\\lib\\site-packages (from jinja2->torch>=2.0.0->accelerate) (3.0.2)\n",
      "Requirement already satisfied: charset-normalizer<4,>=2 in c:\\users\\user\\anaconda3\\envs\\yolo_env01\\lib\\site-packages (from requests->huggingface-hub>=0.21.0->accelerate) (3.3.2)\n",
      "Requirement already satisfied: idna<4,>=2.5 in c:\\users\\user\\anaconda3\\envs\\yolo_env01\\lib\\site-packages (from requests->huggingface-hub>=0.21.0->accelerate) (3.10)\n",
      "Requirement already satisfied: urllib3<3,>=1.21.1 in c:\\users\\user\\anaconda3\\envs\\yolo_env01\\lib\\site-packages (from requests->huggingface-hub>=0.21.0->accelerate) (2.3.0)\n",
      "Requirement already satisfied: certifi>=2017.4.17 in c:\\users\\user\\anaconda3\\envs\\yolo_env01\\lib\\site-packages (from requests->huggingface-hub>=0.21.0->accelerate) (2025.4.26)\n",
      "Requirement already satisfied: mpmath<1.4,>=1.1.0 in c:\\users\\user\\anaconda3\\envs\\yolo_env01\\lib\\site-packages (from sympy->torch>=2.0.0->accelerate) (1.3.0)\n",
      "Downloading accelerate-1.7.0-py3-none-any.whl (362 kB)\n",
      "Installing collected packages: accelerate\n",
      "Successfully installed accelerate-1.7.0\n"
     ]
    }
   ],
   "source": [
    "!pip install --upgrade accelerate\n"
   ]
  },
  {
   "cell_type": "code",
   "execution_count": 13,
   "id": "b15ea039-5b62-4192-9388-40906a578fb7",
   "metadata": {},
   "outputs": [
    {
     "name": "stdout",
     "output_type": "stream",
     "text": [
      "Requirement already satisfied: safetensors in c:\\users\\user\\anaconda3\\envs\\yolo_env01\\lib\\site-packages (0.5.3)\n"
     ]
    }
   ],
   "source": [
    "!pip install --upgrade safetensors\n"
   ]
  },
  {
   "cell_type": "code",
   "execution_count": 14,
   "id": "cafaba77-b155-428e-a729-9b1b34de393e",
   "metadata": {},
   "outputs": [
    {
     "name": "stdout",
     "output_type": "stream",
     "text": [
      "Looking in indexes: https://download.pytorch.org/whl/cu118\n",
      "Collecting xformers\n",
      "  Downloading https://download.pytorch.org/whl/cu118/xformers-0.0.27.post2%2Bcu118-cp311-cp311-win_amd64.whl (10.8 MB)\n",
      "     ---------------------------------------- 0.0/10.8 MB ? eta -:--:--\n",
      "     --------------------------------------- 10.8/10.8 MB 95.5 MB/s eta 0:00:00\n",
      "Requirement already satisfied: numpy in c:\\users\\user\\anaconda3\\envs\\yolo_env01\\lib\\site-packages (from xformers) (1.26.4)\n",
      "Requirement already satisfied: torch==2.4.0 in c:\\users\\user\\anaconda3\\envs\\yolo_env01\\lib\\site-packages (from xformers) (2.4.0+cu118)\n",
      "Requirement already satisfied: filelock in c:\\users\\user\\anaconda3\\envs\\yolo_env01\\lib\\site-packages (from torch==2.4.0->xformers) (3.17.0)\n",
      "Requirement already satisfied: typing-extensions>=4.8.0 in c:\\users\\user\\anaconda3\\envs\\yolo_env01\\lib\\site-packages (from torch==2.4.0->xformers) (4.12.2)\n",
      "Requirement already satisfied: sympy in c:\\users\\user\\anaconda3\\envs\\yolo_env01\\lib\\site-packages (from torch==2.4.0->xformers) (1.13.1)\n",
      "Requirement already satisfied: networkx in c:\\users\\user\\anaconda3\\envs\\yolo_env01\\lib\\site-packages (from torch==2.4.0->xformers) (3.4.2)\n",
      "Requirement already satisfied: jinja2 in c:\\users\\user\\anaconda3\\envs\\yolo_env01\\lib\\site-packages (from torch==2.4.0->xformers) (3.1.6)\n",
      "Requirement already satisfied: fsspec in c:\\users\\user\\anaconda3\\envs\\yolo_env01\\lib\\site-packages (from torch==2.4.0->xformers) (2025.5.0)\n",
      "Requirement already satisfied: MarkupSafe>=2.0 in c:\\users\\user\\anaconda3\\envs\\yolo_env01\\lib\\site-packages (from jinja2->torch==2.4.0->xformers) (3.0.2)\n",
      "Requirement already satisfied: mpmath<1.4,>=1.1.0 in c:\\users\\user\\anaconda3\\envs\\yolo_env01\\lib\\site-packages (from sympy->torch==2.4.0->xformers) (1.3.0)\n",
      "Installing collected packages: xformers\n",
      "Successfully installed xformers-0.0.27.post2+cu118\n"
     ]
    }
   ],
   "source": [
    "!pip install -U xformers --index-url https://download.pytorch.org/whl/cu118\n"
   ]
  },
  {
   "cell_type": "code",
   "execution_count": null,
   "id": "185ced28-add8-49f8-8d2e-00882c72e4b5",
   "metadata": {},
   "outputs": [],
   "source": [
    "import torch\n",
    "import torchvision\n",
    "import torchaudio\n",
    "# 설치한 버전을 확인하여 정상 설치 여부를 점검합니다.\n",
    "print(torch.__version__)          # PyTorch 버전을 출력합니다.\n",
    "print(torchvision.__version__)   # torchvision 버전을 출력합니다.\n",
    "print(torchaudio.__version__)    # torchaudio 버전을 출력합니다.\n",
    "print(torch.cuda.is_available()) # GPU 사용 가능 여부를 출력합니다. True면 GPU 사용 가능합니다."
   ]
  },
  {
   "cell_type": "code",
   "execution_count": null,
   "id": "51002788-1390-4bd3-8964-3c640467a2c3",
   "metadata": {},
   "outputs": [],
   "source": [
    "!pip uninstall triton"
   ]
  },
  {
   "cell_type": "code",
   "execution_count": null,
   "id": "a24e05d6-7d50-4ec4-8684-121f3ecec582",
   "metadata": {},
   "outputs": [],
   "source": [
    "!pip install -U \"triton-windows<3.4\""
   ]
  },
  {
   "cell_type": "code",
   "execution_count": null,
   "id": "fd833cc3-de4e-4e1b-a1b5-ee8e381ccc9a",
   "metadata": {},
   "outputs": [],
   "source": [
    "import torch\n",
    "import torchvision\n",
    "import torchaudio\n",
    "# 설치한 버전을 확인하여 정상 설치 여부를 점검합니다.\n",
    "print(torch.__version__)          # PyTorch 버전을 출력합니다.\n",
    "print(torchvision.__version__)   # torchvision 버전을 출력합니다.\n",
    "print(torchaudio.__version__)    # torchaudio 버전을 출력합니다.\n",
    "print(torch.cuda.is_available()) # GPU 사용 가능 여부를 출력합니다. True면 GPU 사용 가능합니다."
   ]
  },
  {
   "cell_type": "code",
   "execution_count": null,
   "id": "3ed129fe-c964-4645-9bee-103e601e9848",
   "metadata": {},
   "outputs": [],
   "source": [
    "pip install torch torchvision torchaudio"
   ]
  },
  {
   "cell_type": "code",
   "execution_count": null,
   "id": "89c75a53-d286-4f0b-9cde-efc0c26958e7",
   "metadata": {},
   "outputs": [],
   "source": [
    "pip install -r requirements.txt"
   ]
  },
  {
   "cell_type": "code",
   "execution_count": null,
   "id": "6774588b-b98c-407e-86c6-f85ed26ecce9",
   "metadata": {},
   "outputs": [],
   "source": [
    "!pip install torch"
   ]
  },
  {
   "cell_type": "code",
   "execution_count": null,
   "id": "bd15e96a-d822-4f69-833e-698a72728fb9",
   "metadata": {},
   "outputs": [],
   "source": [
    "!pip install torchvision"
   ]
  },
  {
   "cell_type": "code",
   "execution_count": null,
   "id": "271af4f6-64cf-466d-adcb-52cd213e82eb",
   "metadata": {},
   "outputs": [],
   "source": [
    "!pip install torchaudio"
   ]
  },
  {
   "cell_type": "code",
   "execution_count": null,
   "id": "35a9b4d0-3fd9-4601-9e77-83dcb2f0b54e",
   "metadata": {},
   "outputs": [],
   "source": [
    "import torch"
   ]
  },
  {
   "cell_type": "code",
   "execution_count": null,
   "id": "48439c1e-776c-419d-806c-0bc8de3d4c88",
   "metadata": {},
   "outputs": [],
   "source": [
    "!pip uninstall torch\n",
    "!pip uninstall torch "
   ]
  },
  {
   "cell_type": "code",
   "execution_count": null,
   "id": "792e95af-26c7-4e5a-8cad-bccf2d5af5e0",
   "metadata": {},
   "outputs": [],
   "source": []
  }
 ],
 "metadata": {
  "kernelspec": {
   "display_name": "Python [conda env:yolo_env01]",
   "language": "python",
   "name": "conda-env-yolo_env01-py"
  },
  "language_info": {
   "codemirror_mode": {
    "name": "ipython",
    "version": 3
   },
   "file_extension": ".py",
   "mimetype": "text/x-python",
   "name": "python",
   "nbconvert_exporter": "python",
   "pygments_lexer": "ipython3",
   "version": "3.11.11"
  }
 },
 "nbformat": 4,
 "nbformat_minor": 5
}

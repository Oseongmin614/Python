{
 "cells": [
  {
   "cell_type": "code",
   "execution_count": null,
   "id": "b9e9e5b0-d650-432c-861a-9ea2711d9f93",
   "metadata": {},
   "outputs": [],
   "source": []
  }
 ],
 "metadata": {
  "kernelspec": {
   "display_name": "",
   "name": ""
  },
  "language_info": {
   "name": ""
  }
 },
 "nbformat": 4,
 "nbformat_minor": 5
}

{
 "cells": [
  {
   "cell_type": "code",
   "execution_count": 2,
   "id": "79ae2609-bb47-430b-bde6-4afb65c70754",
   "metadata": {},
   "outputs": [
    {
     "name": "stdout",
     "output_type": "stream",
     "text": [
      "Found existing installation: numpy 2.0.2\n",
      "Uninstalling numpy-2.0.2:\n",
      "  Successfully uninstalled numpy-2.0.2\n"
     ]
    }
   ],
   "source": [
    "!pip uninstall numpy -y"
   ]
  },
  {
   "cell_type": "code",
   "execution_count": 3,
   "id": "7f76711e-ec22-446e-bc4b-8132389e32f2",
   "metadata": {},
   "outputs": [
    {
     "name": "stdout",
     "output_type": "stream",
     "text": [
      "Found existing installation: torch 2.5.1\n",
      "Uninstalling torch-2.5.1:\n",
      "  Successfully uninstalled torch-2.5.1\n",
      "Found existing installation: torchvision 0.20.1\n",
      "Uninstalling torchvision-0.20.1:\n",
      "  Successfully uninstalled torchvision-0.20.1\n",
      "Found existing installation: torchaudio 2.5.1\n",
      "Uninstalling torchaudio-2.5.1:\n",
      "  Successfully uninstalled torchaudio-2.5.1\n"
     ]
    }
   ],
   "source": [
    "!pip uninstall torch torchvision torchaudio -y"
   ]
  },
  {
   "cell_type": "code",
   "execution_count": 4,
   "id": "9e344c27-50ba-4679-9418-985d303a3414",
   "metadata": {},
   "outputs": [
    {
     "name": "stdout",
     "output_type": "stream",
     "text": [
      "Found existing installation: ultralytics 8.3.141\n",
      "Uninstalling ultralytics-8.3.141:\n",
      "  Successfully uninstalled ultralytics-8.3.141\n"
     ]
    }
   ],
   "source": [
    "!pip uninstall ultralytics -y"
   ]
  },
  {
   "cell_type": "code",
   "execution_count": 7,
   "id": "33644cf7-a0fb-4064-bc21-6c8574f2f432",
   "metadata": {},
   "outputs": [
    {
     "name": "stderr",
     "output_type": "stream",
     "text": [
      "WARNING: Skipping accelerate as it is not installed.\n"
     ]
    }
   ],
   "source": [
    "!pip uninstall accelerate -y"
   ]
  },
  {
   "cell_type": "code",
   "execution_count": 6,
   "id": "aee664c5-ea4b-418d-ac4b-e95bf5ba90f2",
   "metadata": {},
   "outputs": [
    {
     "name": "stdout",
     "output_type": "stream",
     "text": [
      "Found existing installation: ultralytics-thop 2.0.14\n",
      "Uninstalling ultralytics-thop-2.0.14:\n",
      "  Successfully uninstalled ultralytics-thop-2.0.14\n"
     ]
    }
   ],
   "source": [
    "!pip uninstall ultralytics-thop -y"
   ]
  },
  {
   "cell_type": "code",
   "execution_count": 8,
   "id": "ca170f5a-7ef8-449c-a926-c69d67fe78b8",
   "metadata": {},
   "outputs": [
    {
     "name": "stderr",
     "output_type": "stream",
     "text": [
      "WARNING: Skipping xformers as it is not installed.\n"
     ]
    }
   ],
   "source": [
    "!pip uninstall xformers -y"
   ]
  },
  {
   "cell_type": "code",
   "execution_count": 9,
   "id": "1ee39287-412f-419f-856a-aa1446c89d16",
   "metadata": {},
   "outputs": [
    {
     "name": "stdout",
     "output_type": "stream",
     "text": [
      "Collecting numpy==1.26.4\n",
      "  Downloading numpy-1.26.4-cp311-cp311-win_amd64.whl.metadata (61 kB)\n",
      "Downloading numpy-1.26.4-cp311-cp311-win_amd64.whl (15.8 MB)\n",
      "   ---------------------------------------- 0.0/15.8 MB ? eta -:--:--\n",
      "   -------- ------------------------------- 3.4/15.8 MB 15.5 MB/s eta 0:00:01\n",
      "   ------------------------------ --------- 12.1/15.8 MB 29.1 MB/s eta 0:00:01\n",
      "   ----------------------------------- ---- 14.2/15.8 MB 22.2 MB/s eta 0:00:01\n",
      "   ---------------------------------------  15.5/15.8 MB 18.4 MB/s eta 0:00:01\n",
      "   ---------------------------------------- 15.8/15.8 MB 17.2 MB/s eta 0:00:00\n",
      "Installing collected packages: numpy\n",
      "Successfully installed numpy-1.26.4\n"
     ]
    }
   ],
   "source": [
    "!pip install numpy==1.26.4"
   ]
  },
  {
   "cell_type": "code",
   "execution_count": 16,
   "id": "51030092-7836-4231-bc9f-efba38491ee9",
   "metadata": {},
   "outputs": [
    {
     "name": "stdout",
     "output_type": "stream",
     "text": [
      "Requirement already satisfied: diffusers in c:\\users\\user\\anaconda3\\envs\\yolo_env01\\lib\\site-packages (0.33.1)\n",
      "Requirement already satisfied: importlib-metadata in c:\\users\\user\\anaconda3\\envs\\yolo_env01\\lib\\site-packages (from diffusers) (8.7.0)\n",
      "Requirement already satisfied: filelock in c:\\users\\user\\anaconda3\\envs\\yolo_env01\\lib\\site-packages (from diffusers) (3.17.0)\n",
      "Requirement already satisfied: huggingface-hub>=0.27.0 in c:\\users\\user\\anaconda3\\envs\\yolo_env01\\lib\\site-packages (from diffusers) (0.33.0)\n",
      "Requirement already satisfied: numpy in c:\\users\\user\\anaconda3\\envs\\yolo_env01\\lib\\site-packages (from diffusers) (1.26.4)\n",
      "Requirement already satisfied: regex!=2019.12.17 in c:\\users\\user\\anaconda3\\envs\\yolo_env01\\lib\\site-packages (from diffusers) (2024.11.6)\n",
      "Requirement already satisfied: requests in c:\\users\\user\\anaconda3\\envs\\yolo_env01\\lib\\site-packages (from diffusers) (2.32.3)\n",
      "Requirement already satisfied: safetensors>=0.3.1 in c:\\users\\user\\anaconda3\\envs\\yolo_env01\\lib\\site-packages (from diffusers) (0.5.3)\n",
      "Requirement already satisfied: Pillow in c:\\users\\user\\anaconda3\\envs\\yolo_env01\\lib\\site-packages (from diffusers) (11.1.0)\n",
      "Requirement already satisfied: fsspec>=2023.5.0 in c:\\users\\user\\anaconda3\\envs\\yolo_env01\\lib\\site-packages (from huggingface-hub>=0.27.0->diffusers) (2025.5.0)\n",
      "Requirement already satisfied: packaging>=20.9 in c:\\users\\user\\anaconda3\\envs\\yolo_env01\\lib\\site-packages (from huggingface-hub>=0.27.0->diffusers) (25.0)\n",
      "Requirement already satisfied: pyyaml>=5.1 in c:\\users\\user\\anaconda3\\envs\\yolo_env01\\lib\\site-packages (from huggingface-hub>=0.27.0->diffusers) (6.0.2)\n",
      "Requirement already satisfied: tqdm>=4.42.1 in c:\\users\\user\\anaconda3\\envs\\yolo_env01\\lib\\site-packages (from huggingface-hub>=0.27.0->diffusers) (4.67.1)\n",
      "Requirement already satisfied: typing-extensions>=3.7.4.3 in c:\\users\\user\\anaconda3\\envs\\yolo_env01\\lib\\site-packages (from huggingface-hub>=0.27.0->diffusers) (4.12.2)\n",
      "Requirement already satisfied: colorama in c:\\users\\user\\anaconda3\\envs\\yolo_env01\\lib\\site-packages (from tqdm>=4.42.1->huggingface-hub>=0.27.0->diffusers) (0.4.6)\n",
      "Requirement already satisfied: zipp>=3.20 in c:\\users\\user\\anaconda3\\envs\\yolo_env01\\lib\\site-packages (from importlib-metadata->diffusers) (3.23.0)\n",
      "Requirement already satisfied: charset-normalizer<4,>=2 in c:\\users\\user\\anaconda3\\envs\\yolo_env01\\lib\\site-packages (from requests->diffusers) (3.3.2)\n",
      "Requirement already satisfied: idna<4,>=2.5 in c:\\users\\user\\anaconda3\\envs\\yolo_env01\\lib\\site-packages (from requests->diffusers) (3.10)\n",
      "Requirement already satisfied: urllib3<3,>=1.21.1 in c:\\users\\user\\anaconda3\\envs\\yolo_env01\\lib\\site-packages (from requests->diffusers) (2.3.0)\n",
      "Requirement already satisfied: certifi>=2017.4.17 in c:\\users\\user\\anaconda3\\envs\\yolo_env01\\lib\\site-packages (from requests->diffusers) (2025.4.26)\n"
     ]
    }
   ],
   "source": [
    "!pip install --upgrade diffusers"
   ]
  },
  {
   "cell_type": "code",
   "execution_count": 11,
   "id": "5c41d2f6-2af2-47c4-b578-fe1998acd940",
   "metadata": {},
   "outputs": [
    {
     "name": "stdout",
     "output_type": "stream",
     "text": [
      "^C\n",
      "\n",
      "Note: you may need to restart the kernel to use updated packages.\n",
      "Channels:\n",
      " - pytorch\n",
      " - nvidia\n",
      " - defaults\n",
      "Platform: win-64\n",
      "Collecting package metadata (repodata.json): ...working... done\n",
      "Solving environment: ...working... done\n",
      "\n",
      "## Package Plan ##\n",
      "\n",
      "  environment location: C:\\Users\\User\\anaconda3\\envs\\yolo_env01\n",
      "\n",
      "  added / updated specs:\n",
      "    - pytorch-cuda=11.8\n",
      "    - pytorch==2.4.0\n",
      "    - torchaudio==2.4.0\n",
      "    - torchvision==0.19.0\n",
      "\n",
      "\n",
      "The following packages will be downloaded:\n",
      "\n",
      "    package                    |            build\n",
      "    ---------------------------|-----------------\n",
      "    pytorch-2.4.0              |py3.11_cuda11.8_cudnn9_0        1.38 GB  pytorch\n",
      "    ------------------------------------------------------------\n",
      "                                           Total:        1.38 GB\n",
      "\n",
      "The following packages will be DOWNGRADED:\n",
      "\n",
      "  cuda-cudart                                    12.1.105-0 --> 11.8.89-0 \n",
      "  cuda-cudart-dev                                12.1.105-0 --> 11.8.89-0 \n",
      "  cuda-cupti                                     12.1.105-0 --> 11.8.87-0 \n",
      "  cuda-libraries                                   12.1.0-0 --> 11.8.0-0 \n",
      "  cuda-libraries-dev                               12.1.0-0 --> 11.8.0-0 \n",
      "  cuda-nvrtc                                     12.1.105-0 --> 11.8.89-0 \n",
      "  cuda-nvrtc-dev                                 12.1.105-0 --> 11.8.89-0 \n",
      "  cuda-nvtx                                      12.1.105-0 --> 11.8.86-0 \n",
      "  cuda-runtime                                     12.1.0-0 --> 11.8.0-0 \n",
      "  libcublas                                     12.1.0.26-0 --> 11.11.3.6-0 \n",
      "  libcublas-dev                                 12.1.0.26-0 --> 11.11.3.6-0 \n",
      "  libcufft                                       11.0.2.4-0 --> 10.9.0.58-0 \n",
      "  libcufft-dev                                   11.0.2.4-0 --> 10.9.0.58-0 \n",
      "  libcusolver                                   11.4.4.55-0 --> 11.4.1.48-0 \n",
      "  libcusolver-dev                               11.4.4.55-0 --> 11.4.1.48-0 \n",
      "  libcusparse                                   12.0.2.55-0 --> 11.7.5.86-0 \n",
      "  libcusparse-dev                               12.0.2.55-0 --> 11.7.5.86-0 \n",
      "  libnpp                                        12.0.2.50-0 --> 11.8.0.86-0 \n",
      "  libnpp-dev                                    12.0.2.50-0 --> 11.8.0.86-0 \n",
      "  libnvjpeg                                     12.1.1.14-0 --> 11.9.0.86-0 \n",
      "  libnvjpeg-dev                                 12.1.1.14-0 --> 11.9.0.86-0 \n",
      "  pytorch                    2.5.1-py3.11_cuda12.1_cudnn9_0 --> 2.4.0-py3.11_cuda11.8_cudnn9_0 \n",
      "  pytorch-cuda                              12.1-hde6ce7c_6 --> 11.8-h24eeafa_6 \n",
      "  torchaudio                              2.5.1-py311_cu121 --> 2.4.0-py311_cu118 \n",
      "  torchvision                            0.20.1-py311_cu121 --> 0.19.0-py311_cu118 \n",
      "\n",
      "\n",
      "\n",
      "Downloading and Extracting Packages: ...working...\n",
      "pytorch-2.4.0        | 1.38 GB   |            |   0% \n",
      "                                                     \n",
      " done\n"
     ]
    },
    {
     "name": "stderr",
     "output_type": "stream",
     "text": [
      "\n",
      "[Errno 36] Resource deadlock avoided\n",
      "[Errno 36] Resource deadlock avoided\n",
      "\n"
     ]
    }
   ],
   "source": [
    "conda install pytorch==2.4.0 torchvision==0.19.0 torchaudio==2.4.0  pytorch-cuda=11.8 -c pytorch -c nvidia\n"
   ]
  },
  {
   "cell_type": "code",
   "execution_count": 17,
   "id": "01e57689-90b5-4144-839f-973f9f3962fd",
   "metadata": {},
   "outputs": [
    {
     "name": "stdout",
     "output_type": "stream",
     "text": [
      "Requirement already satisfied: transformers in c:\\users\\user\\anaconda3\\envs\\yolo_env01\\lib\\site-packages (4.52.4)\n",
      "Requirement already satisfied: filelock in c:\\users\\user\\anaconda3\\envs\\yolo_env01\\lib\\site-packages (from transformers) (3.17.0)\n",
      "Requirement already satisfied: huggingface-hub<1.0,>=0.30.0 in c:\\users\\user\\anaconda3\\envs\\yolo_env01\\lib\\site-packages (from transformers) (0.33.0)\n",
      "Requirement already satisfied: numpy>=1.17 in c:\\users\\user\\anaconda3\\envs\\yolo_env01\\lib\\site-packages (from transformers) (1.26.4)\n",
      "Requirement already satisfied: packaging>=20.0 in c:\\users\\user\\anaconda3\\envs\\yolo_env01\\lib\\site-packages (from transformers) (25.0)\n",
      "Requirement already satisfied: pyyaml>=5.1 in c:\\users\\user\\anaconda3\\envs\\yolo_env01\\lib\\site-packages (from transformers) (6.0.2)\n",
      "Requirement already satisfied: regex!=2019.12.17 in c:\\users\\user\\anaconda3\\envs\\yolo_env01\\lib\\site-packages (from transformers) (2024.11.6)\n",
      "Requirement already satisfied: requests in c:\\users\\user\\anaconda3\\envs\\yolo_env01\\lib\\site-packages (from transformers) (2.32.3)\n",
      "Requirement already satisfied: tokenizers<0.22,>=0.21 in c:\\users\\user\\anaconda3\\envs\\yolo_env01\\lib\\site-packages (from transformers) (0.21.1)\n",
      "Requirement already satisfied: safetensors>=0.4.3 in c:\\users\\user\\anaconda3\\envs\\yolo_env01\\lib\\site-packages (from transformers) (0.5.3)\n",
      "Requirement already satisfied: tqdm>=4.27 in c:\\users\\user\\anaconda3\\envs\\yolo_env01\\lib\\site-packages (from transformers) (4.67.1)\n",
      "Requirement already satisfied: fsspec>=2023.5.0 in c:\\users\\user\\anaconda3\\envs\\yolo_env01\\lib\\site-packages (from huggingface-hub<1.0,>=0.30.0->transformers) (2025.5.0)\n",
      "Requirement already satisfied: typing-extensions>=3.7.4.3 in c:\\users\\user\\anaconda3\\envs\\yolo_env01\\lib\\site-packages (from huggingface-hub<1.0,>=0.30.0->transformers) (4.12.2)\n",
      "Requirement already satisfied: colorama in c:\\users\\user\\anaconda3\\envs\\yolo_env01\\lib\\site-packages (from tqdm>=4.27->transformers) (0.4.6)\n",
      "Requirement already satisfied: charset-normalizer<4,>=2 in c:\\users\\user\\anaconda3\\envs\\yolo_env01\\lib\\site-packages (from requests->transformers) (3.3.2)\n",
      "Requirement already satisfied: idna<4,>=2.5 in c:\\users\\user\\anaconda3\\envs\\yolo_env01\\lib\\site-packages (from requests->transformers) (3.10)\n",
      "Requirement already satisfied: urllib3<3,>=1.21.1 in c:\\users\\user\\anaconda3\\envs\\yolo_env01\\lib\\site-packages (from requests->transformers) (2.3.0)\n",
      "Requirement already satisfied: certifi>=2017.4.17 in c:\\users\\user\\anaconda3\\envs\\yolo_env01\\lib\\site-packages (from requests->transformers) (2025.4.26)\n"
     ]
    }
   ],
   "source": [
    "!pip install --upgrade transformers"
   ]
  },
  {
   "cell_type": "code",
   "execution_count": null,
   "id": "2c5249e1-9125-4b6e-8acb-0e4883b55837",
   "metadata": {},
   "outputs": [],
   "source": []
  },
  {
   "cell_type": "code",
   "execution_count": null,
   "id": "1f274d55-9048-4b51-8781-a2bde40f1355",
   "metadata": {},
   "outputs": [],
   "source": []
  },
  {
   "cell_type": "code",
   "execution_count": null,
   "id": "81c913e4-b270-4a1d-abed-d15f89afe51a",
   "metadata": {},
   "outputs": [],
   "source": []
  }
 ],
 "metadata": {
  "kernelspec": {
   "display_name": "Python 3 (ipykernel)",
   "language": "python",
   "name": "python3"
  },
  "language_info": {
   "codemirror_mode": {
    "name": "ipython",
    "version": 3
   },
   "file_extension": ".py",
   "mimetype": "text/x-python",
   "name": "python",
   "nbconvert_exporter": "python",
   "pygments_lexer": "ipython3",
   "version": "3.11.11"
  }
 },
 "nbformat": 4,
 "nbformat_minor": 5
}

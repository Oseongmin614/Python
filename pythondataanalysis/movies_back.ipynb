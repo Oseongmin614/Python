{
 "cells": [
  {
   "cell_type": "code",
   "execution_count": 1,
   "id": "f3501c9a-d543-471d-84d3-f04b6fc1d3d6",
   "metadata": {},
   "outputs": [
    {
     "name": "stdout",
     "output_type": "stream",
     "text": [
      "Requirement already satisfied: fastapi in c:\\programdata\\anaconda3\\envs\\movie_env01\\lib\\site-packages (0.115.12)\n",
      "Requirement already satisfied: uvicorn in c:\\programdata\\anaconda3\\envs\\movie_env01\\lib\\site-packages (0.34.2)\n",
      "Requirement already satisfied: oracledb in c:\\programdata\\anaconda3\\envs\\movie_env01\\lib\\site-packages (3.1.0)\n",
      "Requirement already satisfied: pandas in c:\\programdata\\anaconda3\\envs\\movie_env01\\lib\\site-packages (2.2.3)\n",
      "Requirement already satisfied: nest_asyncio in c:\\programdata\\anaconda3\\envs\\movie_env01\\lib\\site-packages (1.6.0)\n",
      "Requirement already satisfied: scikit-learn in c:\\programdata\\anaconda3\\envs\\movie_env01\\lib\\site-packages (1.6.1)\n",
      "Requirement already satisfied: starlette<0.47.0,>=0.40.0 in c:\\programdata\\anaconda3\\envs\\movie_env01\\lib\\site-packages (from fastapi) (0.46.2)\n",
      "Requirement already satisfied: pydantic!=1.8,!=1.8.1,!=2.0.0,!=2.0.1,!=2.1.0,<3.0.0,>=1.7.4 in c:\\programdata\\anaconda3\\envs\\movie_env01\\lib\\site-packages (from fastapi) (2.11.3)\n",
      "Requirement already satisfied: typing-extensions>=4.8.0 in c:\\programdata\\anaconda3\\envs\\movie_env01\\lib\\site-packages (from fastapi) (4.13.2)\n",
      "Requirement already satisfied: click>=7.0 in c:\\programdata\\anaconda3\\envs\\movie_env01\\lib\\site-packages (from uvicorn) (8.1.8)\n",
      "Requirement already satisfied: h11>=0.8 in c:\\programdata\\anaconda3\\envs\\movie_env01\\lib\\site-packages (from uvicorn) (0.16.0)\n",
      "Requirement already satisfied: cryptography>=3.2.1 in c:\\programdata\\anaconda3\\envs\\movie_env01\\lib\\site-packages (from oracledb) (44.0.2)\n",
      "Requirement already satisfied: numpy>=1.22.4 in c:\\programdata\\anaconda3\\envs\\movie_env01\\lib\\site-packages (from pandas) (1.26.4)\n",
      "Requirement already satisfied: python-dateutil>=2.8.2 in c:\\programdata\\anaconda3\\envs\\movie_env01\\lib\\site-packages (from pandas) (2.9.0.post0)\n",
      "Requirement already satisfied: pytz>=2020.1 in c:\\programdata\\anaconda3\\envs\\movie_env01\\lib\\site-packages (from pandas) (2025.2)\n",
      "Requirement already satisfied: tzdata>=2022.7 in c:\\programdata\\anaconda3\\envs\\movie_env01\\lib\\site-packages (from pandas) (2025.2)\n",
      "Requirement already satisfied: scipy>=1.6.0 in c:\\programdata\\anaconda3\\envs\\movie_env01\\lib\\site-packages (from scikit-learn) (1.13.1)\n",
      "Requirement already satisfied: joblib>=1.2.0 in c:\\programdata\\anaconda3\\envs\\movie_env01\\lib\\site-packages (from scikit-learn) (1.4.2)\n",
      "Requirement already satisfied: threadpoolctl>=3.1.0 in c:\\programdata\\anaconda3\\envs\\movie_env01\\lib\\site-packages (from scikit-learn) (3.6.0)\n",
      "Requirement already satisfied: colorama in c:\\programdata\\anaconda3\\envs\\movie_env01\\lib\\site-packages (from click>=7.0->uvicorn) (0.4.6)\n",
      "Requirement already satisfied: cffi>=1.12 in c:\\programdata\\anaconda3\\envs\\movie_env01\\lib\\site-packages (from cryptography>=3.2.1->oracledb) (1.17.1)\n",
      "Requirement already satisfied: annotated-types>=0.6.0 in c:\\programdata\\anaconda3\\envs\\movie_env01\\lib\\site-packages (from pydantic!=1.8,!=1.8.1,!=2.0.0,!=2.0.1,!=2.1.0,<3.0.0,>=1.7.4->fastapi) (0.7.0)\n",
      "Requirement already satisfied: pydantic-core==2.33.1 in c:\\programdata\\anaconda3\\envs\\movie_env01\\lib\\site-packages (from pydantic!=1.8,!=1.8.1,!=2.0.0,!=2.0.1,!=2.1.0,<3.0.0,>=1.7.4->fastapi) (2.33.1)\n",
      "Requirement already satisfied: typing-inspection>=0.4.0 in c:\\programdata\\anaconda3\\envs\\movie_env01\\lib\\site-packages (from pydantic!=1.8,!=1.8.1,!=2.0.0,!=2.0.1,!=2.1.0,<3.0.0,>=1.7.4->fastapi) (0.4.0)\n",
      "Requirement already satisfied: six>=1.5 in c:\\programdata\\anaconda3\\envs\\movie_env01\\lib\\site-packages (from python-dateutil>=2.8.2->pandas) (1.17.0)\n",
      "Requirement already satisfied: anyio<5,>=3.6.2 in c:\\programdata\\anaconda3\\envs\\movie_env01\\lib\\site-packages (from starlette<0.47.0,>=0.40.0->fastapi) (4.9.0)\n",
      "Requirement already satisfied: exceptiongroup>=1.0.2 in c:\\programdata\\anaconda3\\envs\\movie_env01\\lib\\site-packages (from anyio<5,>=3.6.2->starlette<0.47.0,>=0.40.0->fastapi) (1.2.2)\n",
      "Requirement already satisfied: idna>=2.8 in c:\\programdata\\anaconda3\\envs\\movie_env01\\lib\\site-packages (from anyio<5,>=3.6.2->starlette<0.47.0,>=0.40.0->fastapi) (3.10)\n",
      "Requirement already satisfied: sniffio>=1.1 in c:\\programdata\\anaconda3\\envs\\movie_env01\\lib\\site-packages (from anyio<5,>=3.6.2->starlette<0.47.0,>=0.40.0->fastapi) (1.3.1)\n",
      "Requirement already satisfied: pycparser in c:\\programdata\\anaconda3\\envs\\movie_env01\\lib\\site-packages (from cffi>=1.12->cryptography>=3.2.1->oracledb) (2.22)\n"
     ]
    }
   ],
   "source": [
    "!pip install fastapi uvicorn oracledb pandas nest_asyncio scikit-learn"
   ]
  },
  {
   "cell_type": "code",
   "execution_count": 2,
   "id": "d4d3a8f9-f8ed-497a-ad84-78b0efff5ce8",
   "metadata": {},
   "outputs": [],
   "source": [
    "from fastapi import FastAPI\n",
    "# oracledb: 오라클 데이터베이스와 연결해서 데이터를 가져오거나 저장하는 도구입니다.\n",
    "import oracledb\n",
    "# pandas(pd): 데이터프레임을 쉽게 만들고 다룰 수 있게 해주는 도구입니다.\n",
    "import pandas as pd\n",
    "# nest_asyncio: fastapi를 주피터 노트북처럼 여러 셀에서 사용할 수 있게 해주는 도구입니다.\n",
    "import nest_asyncio\n",
    "# uvicorn: FastAPI 애플리케이션을 띄우는 도구입니다.\n",
    "import uvicorn\n",
    "# pickle: 데이터를 쉽게 저장하거나 다시 읽을 수 있게 해주는 도구입니다.\n",
    "import pickle\n",
    "# cosine_similarity: 데이터의 유사도를 비교하고 계산할 수 있는 도구입니다.\n",
    "from sklearn.metrics.pairwise import cosine_similarity\n",
    "# BaseModel: 데이터 검증과 모델링을 도와주는 도구입니다.\n",
    "from pydantic import BaseModel\n",
    "# numpy(np): 수치 연산을 빠르고 쉽게 해주는 도구입니다.\n",
    "import numpy as np\n",
    "# CORS Middleware: 외부 클라이언트가 만든 요청을 서버에 허용할 수 있도록 설정해주는 도구입니다.\n",
    "from fastapi.middleware.cors import CORSMiddleware"
   ]
  },
  {
   "cell_type": "code",
   "execution_count": 3,
   "id": "7a3d3383-7559-4f57-ba45-6d654e0e493a",
   "metadata": {},
   "outputs": [],
   "source": [
    "app = FastAPI()"
   ]
  },
  {
   "cell_type": "code",
   "execution_count": 4,
   "id": "f067f9ff-17f6-4238-9f1e-40bc77481457",
   "metadata": {},
   "outputs": [],
   "source": [
    "app.add_middleware(\n",
    "    CORSMiddleware,\n",
    "    allow_origins=[\"*\"],\n",
    "    allow_credentials=True,\n",
    "    allow_methods=[\"*\"],\n",
    "    allow_headers=[\"*\"],\n",
    ")"
   ]
  },
  {
   "cell_type": "code",
   "execution_count": 5,
   "id": "60038c11-571f-4b45-858d-1884eaad863f",
   "metadata": {},
   "outputs": [],
   "source": [
    "@app.get(\"/movie/hello_backend\")\n",
    "async def hello():\n",
    "    return \"안녕 FastAPI\""
   ]
  },
  {
   "cell_type": "code",
   "execution_count": 6,
   "id": "14e44622-e487-4121-834b-c16232835eee",
   "metadata": {},
   "outputs": [],
   "source": [
    "userdsn  = oracledb.makedsn(\"localhost\",1521,service_name=\"XEPDB1\")\n",
    "username = \"MOVIE_ADMIN\"\n",
    "userpass= \"pass123\""
   ]
  },
  {
   "cell_type": "code",
   "execution_count": 7,
   "id": "86040578-a9cb-476d-a517-381356ed86ad",
   "metadata": {},
   "outputs": [],
   "source": [
    "@app.get(\"/movie/movie_popular\")\n",
    "async def movie_popular():\n",
    "    connection = oracledb.connect(user=username, password=userpass, dsn=userdsn)\n",
    "\n",
    "    query = \"\"\"\n",
    "        SELECT num, title, director\n",
    "                ,actor, box_office\n",
    "                ,synopsis, poster\n",
    "                ,open_date, degree\n",
    "                ,country, movie_time\n",
    "        From movie_tbl\n",
    "        ORDER BY box_office DESC\n",
    "        FETCH FIRST 30 ROWS ONLY\n",
    "    \"\"\"\n",
    "\n",
    "    movie_df = pd.read_sql(query, con=connection)\n",
    "    connection.close()\n",
    "\n",
    "    return movie_df.to_dict(orient='records')"
   ]
  },
  {
   "cell_type": "code",
   "execution_count": 8,
   "id": "6801b15b-fd8d-40cd-a4b1-b4a128107166",
   "metadata": {},
   "outputs": [],
   "source": [
    "nest_asyncio.apply()"
   ]
  },
  {
   "cell_type": "code",
   "execution_count": null,
   "id": "857850a8-7b58-49e5-9b63-d5d6f9d28dd9",
   "metadata": {},
   "outputs": [
    {
     "name": "stderr",
     "output_type": "stream",
     "text": [
      "INFO:     Started server process [25148]\n",
      "INFO:     Waiting for application startup.\n",
      "INFO:     Application startup complete.\n",
      "INFO:     Uvicorn running on http://0.0.0.0:7070 (Press CTRL+C to quit)\n"
     ]
    },
    {
     "name": "stdout",
     "output_type": "stream",
     "text": [
      "INFO:     127.0.0.1:51046 - \"GET /movie/hello_backen HTTP/1.1\" 404 Not Found\n",
      "INFO:     127.0.0.1:51048 - \"GET /movie/hello_backend HTTP/1.1\" 200 OK\n",
      "INFO:     127.0.0.1:51056 - \"GET /movie/movie_popular HTTP/1.1\" 200 OK\n"
     ]
    },
    {
     "name": "stderr",
     "output_type": "stream",
     "text": [
      "C:\\Users\\User\\AppData\\Local\\Temp\\ipykernel_25148\\629524516.py:16: UserWarning: pandas only supports SQLAlchemy connectable (engine/connection) or database string URI or sqlite3 DBAPI2 connection. Other DBAPI2 objects are not tested. Please consider using SQLAlchemy.\n",
      "  movie_df = pd.read_sql(query, con=connection)\n"
     ]
    }
   ],
   "source": [
    "uvicorn.run(app, host=\"0.0.0.0\", port=7070)"
   ]
  },
  {
   "cell_type": "code",
   "execution_count": null,
   "id": "31ddcb88-d7ce-42c9-acfa-cad9968aa451",
   "metadata": {},
   "outputs": [],
   "source": []
  }
 ],
 "metadata": {
  "kernelspec": {
   "display_name": "Python 3 (ipykernel)",
   "language": "python",
   "name": "python3"
  },
  "language_info": {
   "codemirror_mode": {
    "name": "ipython",
    "version": 3
   },
   "file_extension": ".py",
   "mimetype": "text/x-python",
   "name": "python",
   "nbconvert_exporter": "python",
   "pygments_lexer": "ipython3",
   "version": "3.10.16"
  }
 },
 "nbformat": 4,
 "nbformat_minor": 5
}

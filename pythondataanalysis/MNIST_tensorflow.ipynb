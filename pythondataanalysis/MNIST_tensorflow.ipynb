{
 "cells": [
  {
   "cell_type": "code",
   "execution_count": 1,
   "id": "5a841713-01d4-4e68-9e67-36c4d023aab4",
   "metadata": {},
   "outputs": [
    {
     "name": "stderr",
     "output_type": "stream",
     "text": [
      "WARNING: Skipping opencv-python as it is not installed.\n"
     ]
    },
    {
     "name": "stdout",
     "output_type": "stream",
     "text": [
      "Found existing installation: numpy 1.23.5\n",
      "Uninstalling numpy-1.23.5:\n",
      "  Successfully uninstalled numpy-1.23.5\n"
     ]
    },
    {
     "name": "stderr",
     "output_type": "stream",
     "text": [
      "WARNING: Failed to remove contents in a temporary directory 'C:\\Users\\User\\anaconda3\\envs\\pytorch_env01\\Lib\\site-packages\\~-mpy'.\n",
      "You can safely remove it manually.\n"
     ]
    }
   ],
   "source": [
    "!pip uninstall opencv-python -y\n",
    "!pip uninstall numpy -y"
   ]
  },
  {
   "cell_type": "code",
   "execution_count": 4,
   "id": "c627ad14-d338-4fe1-b34e-58679672975b",
   "metadata": {},
   "outputs": [
    {
     "name": "stdout",
     "output_type": "stream",
     "text": [
      "Collecting numpy==1.23.5\n",
      "  Using cached numpy-1.23.5-cp311-cp311-win_amd64.whl.metadata (2.3 kB)\n",
      "Using cached numpy-1.23.5-cp311-cp311-win_amd64.whl (14.6 MB)\n",
      "Installing collected packages: numpy\n",
      "Successfully installed numpy-1.23.5\n",
      "Collecting opencv-python==4.7.0.72\n",
      "  Downloading opencv_python-4.7.0.72-cp37-abi3-win_amd64.whl.metadata (18 kB)\n",
      "Requirement already satisfied: numpy>=1.21.2 in c:\\users\\user\\anaconda3\\envs\\pytorch_env01\\lib\\site-packages (from opencv-python==4.7.0.72) (1.23.5)\n",
      "Downloading opencv_python-4.7.0.72-cp37-abi3-win_amd64.whl (38.2 MB)\n",
      "   ---------------------------------------- 0.0/38.2 MB ? eta -:--:--\n",
      "   -- ------------------------------------- 2.4/38.2 MB 13.4 MB/s eta 0:00:03\n",
      "   ---------- ----------------------------- 10.0/38.2 MB 24.9 MB/s eta 0:00:02\n",
      "   ---------------------------------- ----- 33.0/38.2 MB 53.8 MB/s eta 0:00:01\n",
      "   ---------------------------------------- 38.2/38.2 MB 48.5 MB/s eta 0:00:00\n",
      "Installing collected packages: opencv-python\n",
      "Successfully installed opencv-python-4.7.0.72\n"
     ]
    }
   ],
   "source": [
    "!pip install numpy==1.23.5\n",
    "!pip install opencv-python==4.7.0.72"
   ]
  },
  {
   "cell_type": "code",
   "execution_count": 5,
   "id": "ecd640b9-1527-4e49-8516-20c7a271703d",
   "metadata": {},
   "outputs": [],
   "source": [
    "import tensorflow as tf\n",
    "import numpy as np\n",
    "import matplotlib.pyplot as plt \n",
    "from tensorflow.keras.callbacks import ReduceLROnPlateau\n",
    "from tensorflow.keras.callbacks import ModelCheckpoint\n"
   ]
  },
  {
   "cell_type": "code",
   "execution_count": 6,
   "id": "e680fe81-2f81-42f7-a807-41207de3e445",
   "metadata": {},
   "outputs": [
    {
     "name": "stdout",
     "output_type": "stream",
     "text": [
      "Downloading data from https://storage.googleapis.com/tensorflow/tf-keras-datasets/mnist.npz\n",
      "11490434/11490434 [==============================] - 1s 0us/step\n"
     ]
    },
    {
     "data": {
      "text/plain": [
       "array([[[  0,   0,   0,   0,   0,   0,   0,   0,   0,   0,   0,   0,\n",
       "           0,   0,   0,   0,   0,   0,   0,   0,   0,   0,   0,   0,\n",
       "           0,   0,   0,   0],\n",
       "        [  0,   0,   0,   0,   0,   0,   0,   0,   0,   0,   0,   0,\n",
       "           0,   0,   0,   0,   0,   0,   0,   0,   0,   0,   0,   0,\n",
       "           0,   0,   0,   0],\n",
       "        [  0,   0,   0,   0,   0,   0,   0,   0,   0,   0,   0,   0,\n",
       "           0,   0,   0,   0,   0,   0,   0,   0,   0,   0,   0,   0,\n",
       "           0,   0,   0,   0],\n",
       "        [  0,   0,   0,   0,   0,   0,   0,   0,   0,   0,   0,   0,\n",
       "           0,   0,   0,   0,   0,   0,   0,   0,   0,   0,   0,   0,\n",
       "           0,   0,   0,   0],\n",
       "        [  0,   0,   0,   0,   0,   0,   0,   0,   0,   0,   0,   0,\n",
       "           0,   0,   0,   0,   0,   0,   0,   0,   0,   0,   0,   0,\n",
       "           0,   0,   0,   0],\n",
       "        [  0,   0,   0,   0,   0,   0,   0,   0,   0,   0,   0,   0,\n",
       "           3,  18,  18,  18, 126, 136, 175,  26, 166, 255, 247, 127,\n",
       "           0,   0,   0,   0],\n",
       "        [  0,   0,   0,   0,   0,   0,   0,   0,  30,  36,  94, 154,\n",
       "         170, 253, 253, 253, 253, 253, 225, 172, 253, 242, 195,  64,\n",
       "           0,   0,   0,   0],\n",
       "        [  0,   0,   0,   0,   0,   0,   0,  49, 238, 253, 253, 253,\n",
       "         253, 253, 253, 253, 253, 251,  93,  82,  82,  56,  39,   0,\n",
       "           0,   0,   0,   0],\n",
       "        [  0,   0,   0,   0,   0,   0,   0,  18, 219, 253, 253, 253,\n",
       "         253, 253, 198, 182, 247, 241,   0,   0,   0,   0,   0,   0,\n",
       "           0,   0,   0,   0],\n",
       "        [  0,   0,   0,   0,   0,   0,   0,   0,  80, 156, 107, 253,\n",
       "         253, 205,  11,   0,  43, 154,   0,   0,   0,   0,   0,   0,\n",
       "           0,   0,   0,   0],\n",
       "        [  0,   0,   0,   0,   0,   0,   0,   0,   0,  14,   1, 154,\n",
       "         253,  90,   0,   0,   0,   0,   0,   0,   0,   0,   0,   0,\n",
       "           0,   0,   0,   0],\n",
       "        [  0,   0,   0,   0,   0,   0,   0,   0,   0,   0,   0, 139,\n",
       "         253, 190,   2,   0,   0,   0,   0,   0,   0,   0,   0,   0,\n",
       "           0,   0,   0,   0],\n",
       "        [  0,   0,   0,   0,   0,   0,   0,   0,   0,   0,   0,  11,\n",
       "         190, 253,  70,   0,   0,   0,   0,   0,   0,   0,   0,   0,\n",
       "           0,   0,   0,   0],\n",
       "        [  0,   0,   0,   0,   0,   0,   0,   0,   0,   0,   0,   0,\n",
       "          35, 241, 225, 160, 108,   1,   0,   0,   0,   0,   0,   0,\n",
       "           0,   0,   0,   0],\n",
       "        [  0,   0,   0,   0,   0,   0,   0,   0,   0,   0,   0,   0,\n",
       "           0,  81, 240, 253, 253, 119,  25,   0,   0,   0,   0,   0,\n",
       "           0,   0,   0,   0],\n",
       "        [  0,   0,   0,   0,   0,   0,   0,   0,   0,   0,   0,   0,\n",
       "           0,   0,  45, 186, 253, 253, 150,  27,   0,   0,   0,   0,\n",
       "           0,   0,   0,   0],\n",
       "        [  0,   0,   0,   0,   0,   0,   0,   0,   0,   0,   0,   0,\n",
       "           0,   0,   0,  16,  93, 252, 253, 187,   0,   0,   0,   0,\n",
       "           0,   0,   0,   0],\n",
       "        [  0,   0,   0,   0,   0,   0,   0,   0,   0,   0,   0,   0,\n",
       "           0,   0,   0,   0,   0, 249, 253, 249,  64,   0,   0,   0,\n",
       "           0,   0,   0,   0],\n",
       "        [  0,   0,   0,   0,   0,   0,   0,   0,   0,   0,   0,   0,\n",
       "           0,   0,  46, 130, 183, 253, 253, 207,   2,   0,   0,   0,\n",
       "           0,   0,   0,   0],\n",
       "        [  0,   0,   0,   0,   0,   0,   0,   0,   0,   0,   0,   0,\n",
       "          39, 148, 229, 253, 253, 253, 250, 182,   0,   0,   0,   0,\n",
       "           0,   0,   0,   0],\n",
       "        [  0,   0,   0,   0,   0,   0,   0,   0,   0,   0,  24, 114,\n",
       "         221, 253, 253, 253, 253, 201,  78,   0,   0,   0,   0,   0,\n",
       "           0,   0,   0,   0],\n",
       "        [  0,   0,   0,   0,   0,   0,   0,   0,  23,  66, 213, 253,\n",
       "         253, 253, 253, 198,  81,   2,   0,   0,   0,   0,   0,   0,\n",
       "           0,   0,   0,   0],\n",
       "        [  0,   0,   0,   0,   0,   0,  18, 171, 219, 253, 253, 253,\n",
       "         253, 195,  80,   9,   0,   0,   0,   0,   0,   0,   0,   0,\n",
       "           0,   0,   0,   0],\n",
       "        [  0,   0,   0,   0,  55, 172, 226, 253, 253, 253, 253, 244,\n",
       "         133,  11,   0,   0,   0,   0,   0,   0,   0,   0,   0,   0,\n",
       "           0,   0,   0,   0],\n",
       "        [  0,   0,   0,   0, 136, 253, 253, 253, 212, 135, 132,  16,\n",
       "           0,   0,   0,   0,   0,   0,   0,   0,   0,   0,   0,   0,\n",
       "           0,   0,   0,   0],\n",
       "        [  0,   0,   0,   0,   0,   0,   0,   0,   0,   0,   0,   0,\n",
       "           0,   0,   0,   0,   0,   0,   0,   0,   0,   0,   0,   0,\n",
       "           0,   0,   0,   0],\n",
       "        [  0,   0,   0,   0,   0,   0,   0,   0,   0,   0,   0,   0,\n",
       "           0,   0,   0,   0,   0,   0,   0,   0,   0,   0,   0,   0,\n",
       "           0,   0,   0,   0],\n",
       "        [  0,   0,   0,   0,   0,   0,   0,   0,   0,   0,   0,   0,\n",
       "           0,   0,   0,   0,   0,   0,   0,   0,   0,   0,   0,   0,\n",
       "           0,   0,   0,   0]]], dtype=uint8)"
      ]
     },
     "execution_count": 6,
     "metadata": {},
     "output_type": "execute_result"
    }
   ],
   "source": [
    "(X_train,Y_train),(X_test,Y_test) = tf.keras.datasets.mnist.load_data()\n",
    "\n",
    "X_train[0:1]"
   ]
  },
  {
   "cell_type": "code",
   "execution_count": 7,
   "id": "48c8fe44-a8fe-414f-bb88-d091e262a2b9",
   "metadata": {},
   "outputs": [
    {
     "data": {
      "text/plain": [
       "(60000, 28, 28)"
      ]
     },
     "execution_count": 7,
     "metadata": {},
     "output_type": "execute_result"
    }
   ],
   "source": [
    "X_train=X_train/255.0\n",
    "X_test= X_test/255.0\n",
    "X_train.shape"
   ]
  },
  {
   "cell_type": "code",
   "execution_count": 8,
   "id": "3c546ed2-36db-4884-bdea-8f3ffcd800b5",
   "metadata": {},
   "outputs": [
    {
     "data": {
      "text/plain": [
       "(60000, 784)"
      ]
     },
     "execution_count": 8,
     "metadata": {},
     "output_type": "execute_result"
    }
   ],
   "source": [
    "X_train_flat=X_train.reshape(-1,28*28)\n",
    "X_train_flat.shape"
   ]
  },
  {
   "cell_type": "code",
   "execution_count": 9,
   "id": "99317cb8-7af7-4f14-b8da-4f87ceeea439",
   "metadata": {},
   "outputs": [],
   "source": [
    "X_test_flat = X_test.reshape(-1,28*28)"
   ]
  },
  {
   "cell_type": "code",
   "execution_count": 10,
   "id": "9e1e4cd5-95b9-419f-8d22-87da31542b0e",
   "metadata": {},
   "outputs": [],
   "source": [
    "model = tf.keras.Sequential([\n",
    "    tf.keras.layers.Dense(1024,input_shape=(784,),kernel_initializer='he_uniform'),\n",
    "    tf.keras.layers.BatchNormalization(),tf.keras.layers.ReLU(),tf.keras.layers.Dropout(0.5),tf.keras.layers.Dense(512,kernel_initializer='he_uniform'),\n",
    "    tf.keras.layers.BatchNormalization(),tf.keras.layers.ReLU(),tf.keras.layers.Dropout(0.5),tf.keras.layers.Dense(256,kernel_initializer='he_uniform'),\n",
    "    tf.keras.layers.BatchNormalization(),tf.keras.layers.ReLU(),tf.keras.layers.Dropout(0.5),tf.keras.layers.Dense(10,kernel_initializer='glorot_uniform',activation='softmax')\n",
    "\n",
    "])"
   ]
  },
  {
   "cell_type": "code",
   "execution_count": 11,
   "id": "bbf9c1ec-d0a8-4d5e-9a30-a3ce9abd222c",
   "metadata": {},
   "outputs": [],
   "source": [
    "model.compile(optimizer=tf.keras.optimizers.Adam(learning_rate=0.001),\n",
    "             loss='sparse_categorical_crossentropy',metrics=['accuracy']\n",
    "             )"
   ]
  },
  {
   "cell_type": "code",
   "execution_count": 12,
   "id": "7143faf3-3be6-4f27-b525-695cb81d00af",
   "metadata": {},
   "outputs": [],
   "source": [
    "reduce_lr = ReduceLROnPlateau(monitor='val_loss',factor=0.9,patience=3,verbose=1,min_lr=1e-6)\n",
    "checkpoint = ModelCheckpoint('best_model.h5',monitor = 'val_loss',save_best_only=True,verbose=1)\n"
   ]
  },
  {
   "cell_type": "code",
   "execution_count": 14,
   "id": "f1ac47dc-8f7c-44d9-904c-90019233beee",
   "metadata": {},
   "outputs": [
    {
     "name": "stdout",
     "output_type": "stream",
     "text": [
      "Epoch 1/30\n",
      "29/30 [============================>.] - ETA: 0s - loss: 0.9285 - accuracy: 0.7052\n",
      "Epoch 1: val_loss improved from inf to 0.37739, saving model to best_model.h5\n",
      "30/30 [==============================] - 3s 59ms/step - loss: 0.9238 - accuracy: 0.7068 - val_loss: 0.3774 - val_accuracy: 0.8881 - lr: 0.0010\n",
      "Epoch 2/30\n",
      "29/30 [============================>.] - ETA: 0s - loss: 0.3399 - accuracy: 0.8982\n",
      "Epoch 2: val_loss improved from 0.37739 to 0.20167, saving model to best_model.h5\n",
      "30/30 [==============================] - 2s 55ms/step - loss: 0.3390 - accuracy: 0.8985 - val_loss: 0.2017 - val_accuracy: 0.9406 - lr: 0.0010\n",
      "Epoch 3/30\n",
      "29/30 [============================>.] - ETA: 0s - loss: 0.2561 - accuracy: 0.9245\n",
      "Epoch 3: val_loss improved from 0.20167 to 0.16184, saving model to best_model.h5\n",
      "30/30 [==============================] - 2s 55ms/step - loss: 0.2565 - accuracy: 0.9243 - val_loss: 0.1618 - val_accuracy: 0.9541 - lr: 0.0010\n",
      "Epoch 4/30\n",
      "29/30 [============================>.] - ETA: 0s - loss: 0.2142 - accuracy: 0.9355\n",
      "Epoch 4: val_loss improved from 0.16184 to 0.13403, saving model to best_model.h5\n",
      "30/30 [==============================] - 2s 55ms/step - loss: 0.2139 - accuracy: 0.9355 - val_loss: 0.1340 - val_accuracy: 0.9606 - lr: 0.0010\n",
      "Epoch 5/30\n",
      "29/30 [============================>.] - ETA: 0s - loss: 0.1834 - accuracy: 0.9448\n",
      "Epoch 5: val_loss improved from 0.13403 to 0.11957, saving model to best_model.h5\n",
      "30/30 [==============================] - 2s 54ms/step - loss: 0.1831 - accuracy: 0.9448 - val_loss: 0.1196 - val_accuracy: 0.9652 - lr: 0.0010\n",
      "Epoch 6/30\n",
      "29/30 [============================>.] - ETA: 0s - loss: 0.1626 - accuracy: 0.9509\n",
      "Epoch 6: val_loss improved from 0.11957 to 0.10097, saving model to best_model.h5\n",
      "30/30 [==============================] - 2s 55ms/step - loss: 0.1622 - accuracy: 0.9510 - val_loss: 0.1010 - val_accuracy: 0.9691 - lr: 0.0010\n",
      "Epoch 7/30\n",
      "29/30 [============================>.] - ETA: 0s - loss: 0.1438 - accuracy: 0.9568\n",
      "Epoch 7: val_loss improved from 0.10097 to 0.09576, saving model to best_model.h5\n",
      "30/30 [==============================] - 2s 54ms/step - loss: 0.1441 - accuracy: 0.9567 - val_loss: 0.0958 - val_accuracy: 0.9709 - lr: 0.0010\n",
      "Epoch 8/30\n",
      "29/30 [============================>.] - ETA: 0s - loss: 0.1276 - accuracy: 0.9618\n",
      "Epoch 8: val_loss improved from 0.09576 to 0.09162, saving model to best_model.h5\n",
      "30/30 [==============================] - 2s 53ms/step - loss: 0.1274 - accuracy: 0.9618 - val_loss: 0.0916 - val_accuracy: 0.9726 - lr: 0.0010\n",
      "Epoch 9/30\n",
      "29/30 [============================>.] - ETA: 0s - loss: 0.1184 - accuracy: 0.9648\n",
      "Epoch 9: val_loss improved from 0.09162 to 0.08290, saving model to best_model.h5\n",
      "30/30 [==============================] - 2s 54ms/step - loss: 0.1184 - accuracy: 0.9648 - val_loss: 0.0829 - val_accuracy: 0.9745 - lr: 0.0010\n",
      "Epoch 10/30\n",
      "29/30 [============================>.] - ETA: 0s - loss: 0.1078 - accuracy: 0.9675\n",
      "Epoch 10: val_loss improved from 0.08290 to 0.07902, saving model to best_model.h5\n",
      "30/30 [==============================] - 2s 53ms/step - loss: 0.1082 - accuracy: 0.9673 - val_loss: 0.0790 - val_accuracy: 0.9751 - lr: 0.0010\n",
      "Epoch 11/30\n",
      "29/30 [============================>.] - ETA: 0s - loss: 0.0985 - accuracy: 0.9692\n",
      "Epoch 11: val_loss improved from 0.07902 to 0.07618, saving model to best_model.h5\n",
      "30/30 [==============================] - 2s 53ms/step - loss: 0.0986 - accuracy: 0.9692 - val_loss: 0.0762 - val_accuracy: 0.9770 - lr: 0.0010\n",
      "Epoch 12/30\n",
      "30/30 [==============================] - ETA: 0s - loss: 0.0922 - accuracy: 0.9709\n",
      "Epoch 12: val_loss improved from 0.07618 to 0.07001, saving model to best_model.h5\n",
      "30/30 [==============================] - 2s 53ms/step - loss: 0.0922 - accuracy: 0.9709 - val_loss: 0.0700 - val_accuracy: 0.9783 - lr: 0.0010\n",
      "Epoch 13/30\n",
      "29/30 [============================>.] - ETA: 0s - loss: 0.0865 - accuracy: 0.9730\n",
      "Epoch 13: val_loss improved from 0.07001 to 0.06871, saving model to best_model.h5\n",
      "30/30 [==============================] - 2s 53ms/step - loss: 0.0865 - accuracy: 0.9730 - val_loss: 0.0687 - val_accuracy: 0.9792 - lr: 0.0010\n",
      "Epoch 14/30\n",
      "29/30 [============================>.] - ETA: 0s - loss: 0.0809 - accuracy: 0.9755\n",
      "Epoch 14: val_loss did not improve from 0.06871\n",
      "30/30 [==============================] - 2s 53ms/step - loss: 0.0808 - accuracy: 0.9755 - val_loss: 0.0698 - val_accuracy: 0.9787 - lr: 0.0010\n",
      "Epoch 15/30\n",
      "29/30 [============================>.] - ETA: 0s - loss: 0.0759 - accuracy: 0.9760\n",
      "Epoch 15: val_loss improved from 0.06871 to 0.06470, saving model to best_model.h5\n",
      "30/30 [==============================] - 2s 54ms/step - loss: 0.0761 - accuracy: 0.9759 - val_loss: 0.0647 - val_accuracy: 0.9806 - lr: 0.0010\n",
      "Epoch 16/30\n",
      "29/30 [============================>.] - ETA: 0s - loss: 0.0691 - accuracy: 0.9779\n",
      "Epoch 16: val_loss improved from 0.06470 to 0.06198, saving model to best_model.h5\n",
      "30/30 [==============================] - 2s 53ms/step - loss: 0.0693 - accuracy: 0.9778 - val_loss: 0.0620 - val_accuracy: 0.9809 - lr: 0.0010\n",
      "Epoch 17/30\n",
      "29/30 [============================>.] - ETA: 0s - loss: 0.0644 - accuracy: 0.9799\n",
      "Epoch 17: val_loss did not improve from 0.06198\n",
      "30/30 [==============================] - 2s 56ms/step - loss: 0.0642 - accuracy: 0.9799 - val_loss: 0.0625 - val_accuracy: 0.9812 - lr: 0.0010\n",
      "Epoch 18/30\n",
      "29/30 [============================>.] - ETA: 0s - loss: 0.0613 - accuracy: 0.9809\n",
      "Epoch 18: val_loss did not improve from 0.06198\n",
      "30/30 [==============================] - 2s 61ms/step - loss: 0.0611 - accuracy: 0.9809 - val_loss: 0.0627 - val_accuracy: 0.9815 - lr: 0.0010\n",
      "Epoch 19/30\n",
      "30/30 [==============================] - ETA: 0s - loss: 0.0584 - accuracy: 0.9812\n",
      "Epoch 19: ReduceLROnPlateau reducing learning rate to 0.0009000000427477062.\n",
      "\n",
      "Epoch 19: val_loss did not improve from 0.06198\n",
      "30/30 [==============================] - 2s 61ms/step - loss: 0.0584 - accuracy: 0.9812 - val_loss: 0.0629 - val_accuracy: 0.9812 - lr: 0.0010\n",
      "Epoch 20/30\n",
      "29/30 [============================>.] - ETA: 0s - loss: 0.0545 - accuracy: 0.9822\n",
      "Epoch 20: val_loss improved from 0.06198 to 0.06143, saving model to best_model.h5\n",
      "30/30 [==============================] - 2s 61ms/step - loss: 0.0547 - accuracy: 0.9821 - val_loss: 0.0614 - val_accuracy: 0.9823 - lr: 9.0000e-04\n",
      "Epoch 21/30\n",
      "29/30 [============================>.] - ETA: 0s - loss: 0.0519 - accuracy: 0.9828\n",
      "Epoch 21: val_loss improved from 0.06143 to 0.06098, saving model to best_model.h5\n",
      "30/30 [==============================] - 2s 62ms/step - loss: 0.0518 - accuracy: 0.9828 - val_loss: 0.0610 - val_accuracy: 0.9821 - lr: 9.0000e-04\n",
      "Epoch 22/30\n",
      "30/30 [==============================] - ETA: 0s - loss: 0.0495 - accuracy: 0.9839\n",
      "Epoch 22: val_loss improved from 0.06098 to 0.05940, saving model to best_model.h5\n",
      "30/30 [==============================] - 2s 61ms/step - loss: 0.0495 - accuracy: 0.9839 - val_loss: 0.0594 - val_accuracy: 0.9825 - lr: 9.0000e-04\n",
      "Epoch 23/30\n",
      "29/30 [============================>.] - ETA: 0s - loss: 0.0479 - accuracy: 0.9848\n",
      "Epoch 23: val_loss did not improve from 0.05940\n",
      "30/30 [==============================] - 2s 60ms/step - loss: 0.0478 - accuracy: 0.9848 - val_loss: 0.0652 - val_accuracy: 0.9810 - lr: 9.0000e-04\n",
      "Epoch 24/30\n",
      "29/30 [============================>.] - ETA: 0s - loss: 0.0454 - accuracy: 0.9855\n",
      "Epoch 24: val_loss improved from 0.05940 to 0.05873, saving model to best_model.h5\n",
      "30/30 [==============================] - 2s 61ms/step - loss: 0.0454 - accuracy: 0.9854 - val_loss: 0.0587 - val_accuracy: 0.9836 - lr: 9.0000e-04\n",
      "Epoch 25/30\n",
      "29/30 [============================>.] - ETA: 0s - loss: 0.0433 - accuracy: 0.9861\n",
      "Epoch 25: val_loss improved from 0.05873 to 0.05707, saving model to best_model.h5\n",
      "30/30 [==============================] - 2s 61ms/step - loss: 0.0433 - accuracy: 0.9861 - val_loss: 0.0571 - val_accuracy: 0.9836 - lr: 9.0000e-04\n",
      "Epoch 26/30\n",
      "29/30 [============================>.] - ETA: 0s - loss: 0.0401 - accuracy: 0.9866\n",
      "Epoch 26: val_loss did not improve from 0.05707\n",
      "30/30 [==============================] - 2s 60ms/step - loss: 0.0403 - accuracy: 0.9866 - val_loss: 0.0589 - val_accuracy: 0.9834 - lr: 9.0000e-04\n",
      "Epoch 27/30\n",
      "29/30 [============================>.] - ETA: 0s - loss: 0.0405 - accuracy: 0.9871\n",
      "Epoch 27: val_loss did not improve from 0.05707\n",
      "30/30 [==============================] - 2s 60ms/step - loss: 0.0406 - accuracy: 0.9871 - val_loss: 0.0588 - val_accuracy: 0.9831 - lr: 9.0000e-04\n",
      "Epoch 28/30\n",
      "29/30 [============================>.] - ETA: 0s - loss: 0.0376 - accuracy: 0.9881\n",
      "Epoch 28: ReduceLROnPlateau reducing learning rate to 0.0008100000384729356.\n",
      "\n",
      "Epoch 28: val_loss did not improve from 0.05707\n",
      "30/30 [==============================] - 2s 60ms/step - loss: 0.0376 - accuracy: 0.9882 - val_loss: 0.0619 - val_accuracy: 0.9830 - lr: 9.0000e-04\n",
      "Epoch 29/30\n",
      "29/30 [============================>.] - ETA: 0s - loss: 0.0357 - accuracy: 0.9889\n",
      "Epoch 29: val_loss did not improve from 0.05707\n",
      "30/30 [==============================] - 2s 61ms/step - loss: 0.0358 - accuracy: 0.9889 - val_loss: 0.0575 - val_accuracy: 0.9831 - lr: 8.1000e-04\n",
      "Epoch 30/30\n",
      "30/30 [==============================] - ETA: 0s - loss: 0.0356 - accuracy: 0.9882\n",
      "Epoch 30: val_loss did not improve from 0.05707\n",
      "30/30 [==============================] - 2s 60ms/step - loss: 0.0356 - accuracy: 0.9882 - val_loss: 0.0596 - val_accuracy: 0.9838 - lr: 8.1000e-04\n"
     ]
    },
    {
     "data": {
      "text/plain": [
       "<keras.callbacks.History at 0x2b30364b150>"
      ]
     },
     "execution_count": 14,
     "metadata": {},
     "output_type": "execute_result"
    }
   ],
   "source": [
    "model.fit(\n",
    "    X_train_flat,Y_train,epochs=30,batch_size=2048,validation_data=(X_test_flat,Y_test),callbacks=[reduce_lr,checkpoint]\n",
    ")"
   ]
  },
  {
   "cell_type": "code",
   "execution_count": 15,
   "id": "c64c82c9-87e1-4a07-b950-0ceb726b783d",
   "metadata": {},
   "outputs": [
    {
     "name": "stdout",
     "output_type": "stream",
     "text": [
      "5/5 [==============================] - 0s 12ms/step - loss: 0.0596 - accuracy: 0.9838\n",
      "테스트 정확도:98.38%\n"
     ]
    }
   ],
   "source": [
    "loss,accuracy=model.evaluate(X_test_flat,Y_test,batch_size=2048)\n",
    "print(f'테스트 정확도:{accuracy*100:.2f}%')"
   ]
  },
  {
   "cell_type": "code",
   "execution_count": 16,
   "id": "95c34933-97ab-464b-b4fd-3ee93cb30c07",
   "metadata": {},
   "outputs": [
    {
     "data": {
      "text/plain": [
       "array([5559, 1619, 5073, 8914, 2012, 6912, 4907, 8896, 5166, 1247, 8065,\n",
       "       8909, 1019, 8575, 6257, 1716, 8215, 2072, 4234, 6175, 5670, 4961,\n",
       "        716, 5599, 9515, 3368, 2993, 7625, 7072, 2553, 7454, 4678])"
      ]
     },
     "execution_count": 16,
     "metadata": {},
     "output_type": "execute_result"
    }
   ],
   "source": [
    "idx=np.random.choice(len(X_test_flat),32,replace=False)\n",
    "idx"
   ]
  },
  {
   "cell_type": "code",
   "execution_count": 17,
   "id": "6ea60ce7-4e92-4ad1-aabb-caef7d8380ec",
   "metadata": {},
   "outputs": [
    {
     "data": {
      "text/plain": [
       "array([[0.        , 0.        , 0.        , 0.        , 0.        ,\n",
       "        0.        , 0.        , 0.        , 0.        , 0.        ,\n",
       "        0.        , 0.        , 0.        , 0.        , 0.        ,\n",
       "        0.        , 0.        , 0.        , 0.        , 0.        ,\n",
       "        0.        , 0.        , 0.        , 0.        , 0.        ,\n",
       "        0.        , 0.        , 0.        , 0.        , 0.        ,\n",
       "        0.        , 0.        , 0.        , 0.        , 0.        ,\n",
       "        0.        , 0.        , 0.        , 0.        , 0.        ,\n",
       "        0.        , 0.        , 0.        , 0.        , 0.        ,\n",
       "        0.        , 0.        , 0.        , 0.        , 0.        ,\n",
       "        0.        , 0.        , 0.        , 0.        , 0.        ,\n",
       "        0.        , 0.        , 0.        , 0.        , 0.        ,\n",
       "        0.        , 0.        , 0.        , 0.        , 0.        ,\n",
       "        0.        , 0.        , 0.        , 0.        , 0.        ,\n",
       "        0.        , 0.        , 0.        , 0.        , 0.        ,\n",
       "        0.        , 0.        , 0.        , 0.        , 0.        ,\n",
       "        0.        , 0.        , 0.        , 0.        , 0.        ,\n",
       "        0.        , 0.        , 0.        , 0.        , 0.        ,\n",
       "        0.        , 0.        , 0.        , 0.        , 0.        ,\n",
       "        0.        , 0.        , 0.        , 0.        , 0.        ,\n",
       "        0.        , 0.        , 0.        , 0.        , 0.        ,\n",
       "        0.        , 0.        , 0.        , 0.        , 0.        ,\n",
       "        0.        , 0.        , 0.        , 0.        , 0.        ,\n",
       "        0.        , 0.        , 0.        , 0.        , 0.        ,\n",
       "        0.        , 0.        , 0.        , 0.        , 0.        ,\n",
       "        0.        , 0.        , 0.        , 0.        , 0.        ,\n",
       "        0.        , 0.        , 0.        , 0.        , 0.        ,\n",
       "        0.        , 0.        , 0.        , 0.        , 0.        ,\n",
       "        0.        , 0.        , 0.        , 0.        , 0.        ,\n",
       "        0.        , 0.        , 0.        , 0.        , 0.        ,\n",
       "        0.        , 0.        , 0.        , 0.        , 0.03529412,\n",
       "        0.30588235, 0.97647059, 0.90196078, 0.17254902, 0.        ,\n",
       "        0.        , 0.        , 0.        , 0.        , 0.        ,\n",
       "        0.        , 0.        , 0.        , 0.        , 0.        ,\n",
       "        0.        , 0.        , 0.        , 0.        , 0.        ,\n",
       "        0.        , 0.        , 0.        , 0.        , 0.        ,\n",
       "        0.        , 0.01960784, 0.63137255, 0.99607843, 0.99607843,\n",
       "        0.99607843, 0.61176471, 0.        , 0.        , 0.        ,\n",
       "        0.        , 0.        , 0.        , 0.        , 0.        ,\n",
       "        0.        , 0.        , 0.        , 0.        , 0.        ,\n",
       "        0.        , 0.        , 0.        , 0.        , 0.        ,\n",
       "        0.        , 0.        , 0.        , 0.00784314, 0.63137255,\n",
       "        0.99607843, 0.99607843, 0.99607843, 0.99607843, 0.61176471,\n",
       "        0.        , 0.        , 0.        , 0.        , 0.        ,\n",
       "        0.        , 0.        , 0.        , 0.        , 0.        ,\n",
       "        0.        , 0.        , 0.        , 0.        , 0.        ,\n",
       "        0.        , 0.        , 0.        , 0.        , 0.        ,\n",
       "        0.03529412, 0.63529412, 0.99607843, 0.99607843, 0.99607843,\n",
       "        0.99607843, 0.99607843, 0.61176471, 0.        , 0.        ,\n",
       "        0.        , 0.        , 0.        , 0.        , 0.        ,\n",
       "        0.        , 0.        , 0.        , 0.        , 0.        ,\n",
       "        0.        , 0.        , 0.        , 0.        , 0.        ,\n",
       "        0.        , 0.        , 0.01568627, 0.63137255, 0.99607843,\n",
       "        0.99607843, 0.92941176, 0.52156863, 0.95294118, 0.99607843,\n",
       "        0.61176471, 0.        , 0.        , 0.        , 0.        ,\n",
       "        0.        , 0.        , 0.        , 0.        , 0.        ,\n",
       "        0.        , 0.        , 0.        , 0.        , 0.        ,\n",
       "        0.        , 0.        , 0.        , 0.        , 0.        ,\n",
       "        0.2627451 , 0.99607843, 0.99607843, 0.97647059, 0.38823529,\n",
       "        0.        , 0.9372549 , 0.99607843, 0.61176471, 0.        ,\n",
       "        0.        , 0.        , 0.        , 0.        , 0.        ,\n",
       "        0.        , 0.        , 0.        , 0.        , 0.        ,\n",
       "        0.        , 0.        , 0.        , 0.        , 0.        ,\n",
       "        0.        , 0.        , 0.28235294, 0.96078431, 0.99607843,\n",
       "        0.99607843, 0.50588235, 0.        , 0.        , 0.9372549 ,\n",
       "        0.99607843, 0.61176471, 0.        , 0.        , 0.        ,\n",
       "        0.        , 0.        , 0.        , 0.        , 0.        ,\n",
       "        0.        , 0.        , 0.        , 0.        , 0.        ,\n",
       "        0.        , 0.        , 0.        , 0.        , 0.20784314,\n",
       "        0.83137255, 0.99607843, 0.99607843, 0.73333333, 0.15294118,\n",
       "        0.        , 0.        , 0.9372549 , 0.99607843, 0.61176471,\n",
       "        0.        , 0.        , 0.        , 0.        , 0.        ,\n",
       "        0.        , 0.        , 0.        , 0.        , 0.        ,\n",
       "        0.        , 0.        , 0.        , 0.        , 0.        ,\n",
       "        0.        , 0.00392157, 0.62352941, 0.99607843, 0.99607843,\n",
       "        0.8745098 , 0.11764706, 0.        , 0.        , 0.        ,\n",
       "        0.9372549 , 0.99607843, 0.61176471, 0.        , 0.        ,\n",
       "        0.        , 0.        , 0.        , 0.        , 0.        ,\n",
       "        0.        , 0.        , 0.        , 0.        , 0.        ,\n",
       "        0.        , 0.        , 0.        , 0.        , 0.11372549,\n",
       "        0.99607843, 0.99607843, 0.97254902, 0.1372549 , 0.        ,\n",
       "        0.        , 0.        , 0.        , 0.9372549 , 0.99607843,\n",
       "        0.61176471, 0.        , 0.        , 0.        , 0.        ,\n",
       "        0.        , 0.        , 0.        , 0.        , 0.        ,\n",
       "        0.        , 0.        , 0.        , 0.        , 0.        ,\n",
       "        0.        , 0.        , 0.45098039, 0.99607843, 0.99607843,\n",
       "        0.95686275, 0.        , 0.        , 0.        , 0.        ,\n",
       "        0.        , 0.9372549 , 0.99607843, 0.61176471, 0.35294118,\n",
       "        0.4745098 , 0.78823529, 0.35294118, 0.        , 0.        ,\n",
       "        0.        , 0.        , 0.        , 0.        , 0.        ,\n",
       "        0.        , 0.        , 0.        , 0.        , 0.        ,\n",
       "        0.45098039, 0.99607843, 0.99607843, 0.99607843, 0.9372549 ,\n",
       "        0.79215686, 0.5372549 , 0.6627451 , 0.66666667, 0.99607843,\n",
       "        0.99607843, 0.97647059, 0.99607843, 0.99607843, 0.96470588,\n",
       "        0.22745098, 0.        , 0.        , 0.        , 0.        ,\n",
       "        0.        , 0.        , 0.        , 0.        , 0.        ,\n",
       "        0.        , 0.        , 0.        , 0.16078431, 0.90196078,\n",
       "        0.99607843, 0.99607843, 0.99607843, 0.99607843, 0.99607843,\n",
       "        0.99607843, 0.99607843, 0.99607843, 0.99607843, 0.99607843,\n",
       "        0.87058824, 0.65490196, 0.20392157, 0.        , 0.        ,\n",
       "        0.        , 0.        , 0.        , 0.        , 0.        ,\n",
       "        0.        , 0.        , 0.        , 0.        , 0.        ,\n",
       "        0.        , 0.        , 0.11372549, 0.50588235, 0.63137255,\n",
       "        0.99607843, 0.99607843, 0.99607843, 0.99607843, 0.99607843,\n",
       "        0.99607843, 0.99607843, 0.68627451, 0.09019608, 0.        ,\n",
       "        0.        , 0.        , 0.        , 0.        , 0.        ,\n",
       "        0.        , 0.        , 0.        , 0.        , 0.        ,\n",
       "        0.        , 0.        , 0.        , 0.        , 0.        ,\n",
       "        0.        , 0.        , 0.00392157, 0.03921569, 0.03921569,\n",
       "        0.03921569, 0.03921569, 0.38823529, 0.99607843, 0.99607843,\n",
       "        0.61176471, 0.        , 0.        , 0.        , 0.        ,\n",
       "        0.        , 0.        , 0.        , 0.        , 0.        ,\n",
       "        0.        , 0.        , 0.        , 0.        , 0.        ,\n",
       "        0.        , 0.        , 0.        , 0.        , 0.        ,\n",
       "        0.        , 0.        , 0.        , 0.        , 0.        ,\n",
       "        0.36470588, 0.99607843, 1.        , 0.61176471, 0.        ,\n",
       "        0.        , 0.        , 0.        , 0.        , 0.        ,\n",
       "        0.        , 0.        , 0.        , 0.        , 0.        ,\n",
       "        0.        , 0.        , 0.        , 0.        , 0.        ,\n",
       "        0.        , 0.        , 0.        , 0.        , 0.        ,\n",
       "        0.        , 0.        , 0.        , 0.36470588, 0.99607843,\n",
       "        0.99607843, 0.76862745, 0.01568627, 0.        , 0.        ,\n",
       "        0.        , 0.        , 0.        , 0.        , 0.        ,\n",
       "        0.        , 0.        , 0.        , 0.        , 0.        ,\n",
       "        0.        , 0.        , 0.        , 0.        , 0.        ,\n",
       "        0.        , 0.        , 0.        , 0.        , 0.        ,\n",
       "        0.        , 0.36470588, 0.99607843, 0.99607843, 0.78431373,\n",
       "        0.01960784, 0.        , 0.        , 0.        , 0.        ,\n",
       "        0.        , 0.        , 0.        , 0.        , 0.        ,\n",
       "        0.        , 0.        , 0.        , 0.        , 0.        ,\n",
       "        0.        , 0.        , 0.        , 0.        , 0.        ,\n",
       "        0.        , 0.        , 0.        , 0.        , 0.10980392,\n",
       "        0.95686275, 0.99607843, 0.61176471, 0.        , 0.        ,\n",
       "        0.        , 0.        , 0.        , 0.        , 0.        ,\n",
       "        0.        , 0.        , 0.        , 0.        , 0.        ,\n",
       "        0.        , 0.        , 0.        , 0.        , 0.        ,\n",
       "        0.        , 0.        , 0.        , 0.        , 0.        ,\n",
       "        0.        , 0.        , 0.        , 0.75686275, 0.99607843,\n",
       "        0.43529412, 0.        , 0.        , 0.        , 0.        ,\n",
       "        0.        , 0.        , 0.        , 0.        , 0.        ,\n",
       "        0.        , 0.        , 0.        , 0.        , 0.        ,\n",
       "        0.        , 0.        , 0.        , 0.        , 0.        ,\n",
       "        0.        , 0.        , 0.        , 0.        , 0.        ,\n",
       "        0.        , 0.        , 0.        , 0.        , 0.        ,\n",
       "        0.        , 0.        , 0.        , 0.        , 0.        ,\n",
       "        0.        , 0.        , 0.        , 0.        , 0.        ,\n",
       "        0.        , 0.        , 0.        , 0.        , 0.        ,\n",
       "        0.        , 0.        , 0.        , 0.        , 0.        ,\n",
       "        0.        , 0.        , 0.        , 0.        , 0.        ,\n",
       "        0.        , 0.        , 0.        , 0.        , 0.        ,\n",
       "        0.        , 0.        , 0.        , 0.        , 0.        ,\n",
       "        0.        , 0.        , 0.        , 0.        , 0.        ,\n",
       "        0.        , 0.        , 0.        , 0.        , 0.        ,\n",
       "        0.        , 0.        , 0.        , 0.        , 0.        ,\n",
       "        0.        , 0.        , 0.        , 0.        , 0.        ,\n",
       "        0.        , 0.        , 0.        , 0.        , 0.        ,\n",
       "        0.        , 0.        , 0.        , 0.        ]])"
      ]
     },
     "execution_count": 17,
     "metadata": {},
     "output_type": "execute_result"
    }
   ],
   "source": [
    "X_sample= X_test_flat[idx]\n",
    "X_sample[0:1]"
   ]
  },
  {
   "cell_type": "code",
   "execution_count": 18,
   "id": "b0856dd8-0756-48a1-a744-377df3287dd5",
   "metadata": {},
   "outputs": [
    {
     "data": {
      "text/plain": [
       "array([4], dtype=uint8)"
      ]
     },
     "execution_count": 18,
     "metadata": {},
     "output_type": "execute_result"
    }
   ],
   "source": [
    "Y_sample=Y_test[idx]\n",
    "Y_sample[0:1]"
   ]
  },
  {
   "cell_type": "code",
   "execution_count": 20,
   "id": "42104efc-6a9e-4698-9eb5-b43a918bc3f0",
   "metadata": {},
   "outputs": [
    {
     "name": "stdout",
     "output_type": "stream",
     "text": [
      "1/1 [==============================] - 0s 83ms/step\n"
     ]
    },
    {
     "data": {
      "text/plain": [
       "array([[1.39524718e-06, 1.96490964e-06, 5.05655237e-07, 2.10388293e-08,\n",
       "        9.99930382e-01, 2.31125298e-07, 6.95793403e-07, 4.87556053e-06,\n",
       "        3.64470232e-08, 5.97635953e-05],\n",
       "       [9.99981999e-01, 3.48406708e-08, 1.88075933e-06, 6.94210982e-08,\n",
       "        3.78728231e-08, 1.17220634e-06, 1.07467176e-05, 2.29335774e-06,\n",
       "        3.56197631e-07, 1.42553267e-06],\n",
       "       [1.35387879e-09, 4.58003878e-11, 1.24430466e-10, 1.98969641e-08,\n",
       "        1.24274706e-07, 6.68685107e-10, 1.58653663e-11, 3.85022894e-08,\n",
       "        9.85418414e-09, 9.99999762e-01],\n",
       "       [2.96125435e-09, 9.99998569e-01, 1.07236538e-07, 1.68328917e-09,\n",
       "        4.20937340e-07, 5.55433299e-09, 4.03270022e-08, 7.78031165e-07,\n",
       "        4.17259258e-08, 5.99625460e-10],\n",
       "       [5.43122258e-09, 1.02472612e-07, 1.00351132e-08, 1.25151889e-10,\n",
       "        9.99999642e-01, 4.13798462e-09, 2.96792413e-09, 3.73399800e-08,\n",
       "        6.01244610e-09, 2.56315360e-07],\n",
       "       [3.99362193e-07, 2.79070591e-05, 9.99887943e-01, 1.68360257e-05,\n",
       "        6.02007674e-07, 1.76004079e-07, 4.03671911e-05, 2.50159646e-05,\n",
       "        6.80059486e-07, 1.21856036e-08],\n",
       "       [8.86858302e-08, 2.62536378e-06, 6.10982079e-06, 9.99943852e-01,\n",
       "        2.27536088e-08, 1.80491370e-05, 3.04147818e-08, 9.39515667e-06,\n",
       "        4.40348003e-06, 1.55596699e-05],\n",
       "       [2.52800078e-07, 8.82385809e-09, 6.30592609e-08, 1.29550495e-10,\n",
       "        1.26867894e-06, 2.26791084e-08, 9.99998331e-01, 2.08132053e-10,\n",
       "        2.06710027e-08, 2.16227236e-09],\n",
       "       [8.60294858e-09, 9.99988914e-01, 2.04788378e-07, 1.21030945e-08,\n",
       "        7.22926370e-06, 1.54496842e-08, 7.12398176e-08, 3.39904545e-06,\n",
       "        9.85464510e-08, 4.22797219e-09],\n",
       "       [4.78473725e-03, 2.39211542e-04, 1.58274663e-03, 2.40720227e-01,\n",
       "        1.41283601e-06, 7.52219558e-01, 1.86342986e-05, 2.16033979e-04,\n",
       "        2.18655459e-05, 1.95471075e-04],\n",
       "       [4.47809958e-04, 1.38004048e-04, 2.06767636e-05, 3.36882076e-05,\n",
       "        7.88153466e-06, 1.55630223e-05, 5.43220413e-05, 5.77192031e-06,\n",
       "        9.99191582e-01, 8.46895564e-05],\n",
       "       [6.27047581e-10, 7.92338556e-11, 2.97893550e-11, 1.33237961e-07,\n",
       "        6.46199240e-12, 9.99999881e-01, 7.07816783e-09, 6.45758447e-11,\n",
       "        8.17034174e-09, 1.58265863e-08],\n",
       "       [1.65240035e-08, 9.99944210e-01, 4.84513009e-07, 3.14149986e-08,\n",
       "        1.32816594e-05, 3.81460801e-08, 1.02713287e-07, 4.16845105e-05,\n",
       "        2.50394237e-07, 1.10622080e-08],\n",
       "       [6.08166957e-08, 9.99964476e-01, 7.65409766e-07, 5.37802691e-07,\n",
       "        1.89600155e-06, 8.92425405e-08, 8.48285282e-08, 2.99035564e-05,\n",
       "        1.91324625e-06, 1.96590179e-07],\n",
       "       [2.33907576e-12, 5.11238079e-13, 2.36536390e-14, 6.22824814e-09,\n",
       "        1.43599149e-13, 1.00000000e+00, 4.66639505e-10, 2.31538015e-13,\n",
       "        5.37560725e-11, 4.24024593e-09],\n",
       "       [1.65528945e-05, 1.27214042e-03, 4.23134625e-05, 1.09308727e-04,\n",
       "        3.65014021e-05, 2.69392376e-06, 3.48598178e-07, 9.97303486e-01,\n",
       "        7.85882730e-06, 1.20881572e-03],\n",
       "       [1.79215198e-10, 4.51003075e-08, 2.56076458e-08, 9.99990940e-01,\n",
       "        3.45337620e-10, 6.23504775e-06, 7.13414258e-11, 4.89311613e-09,\n",
       "        2.19857014e-07, 2.57356669e-06],\n",
       "       [9.54735069e-10, 2.03256121e-07, 8.44907163e-07, 9.99995470e-01,\n",
       "        1.73333836e-09, 2.84726570e-06, 2.06306264e-10, 7.67273001e-09,\n",
       "        5.24879511e-07, 1.03681678e-07],\n",
       "       [1.23242698e-13, 6.21278529e-10, 8.05475298e-10, 1.00000000e+00,\n",
       "        1.04286751e-13, 1.30153683e-08, 6.91750937e-14, 7.69432521e-12,\n",
       "        2.34074848e-09, 8.75817308e-10],\n",
       "       [1.73326009e-09, 1.78154327e-08, 1.66817027e-09, 2.48925030e-11,\n",
       "        9.99999881e-01, 5.79670978e-10, 8.89974205e-10, 3.07544319e-08,\n",
       "        9.75839742e-10, 9.73054668e-08],\n",
       "       [9.85721655e-08, 1.02518577e-07, 8.12859469e-08, 2.65946305e-08,\n",
       "        8.90177176e-08, 3.85263164e-08, 1.03478148e-09, 9.99988437e-01,\n",
       "        3.70725006e-09, 1.11567770e-05],\n",
       "       [8.36772696e-09, 3.92256467e-08, 9.99999046e-01, 5.38570134e-07,\n",
       "        6.96123159e-11, 6.15446513e-11, 2.57011568e-09, 2.37675177e-08,\n",
       "        3.79055024e-07, 9.47788861e-11],\n",
       "       [4.22226412e-06, 9.81001675e-01, 4.49601503e-05, 4.90878192e-05,\n",
       "        1.42078861e-05, 2.33250967e-06, 2.37212612e-06, 1.86615121e-02,\n",
       "        1.79413371e-04, 4.01566504e-05],\n",
       "       [1.96864988e-07, 8.86800393e-08, 2.04207268e-07, 1.02216313e-09,\n",
       "        2.78855782e-06, 4.51980168e-06, 9.99991059e-01, 2.21067653e-09,\n",
       "        1.04703349e-06, 4.41507062e-08],\n",
       "       [6.94081415e-09, 3.70943297e-07, 1.03492630e-06, 3.14739850e-07,\n",
       "        3.91552710e-08, 3.84630106e-09, 4.50036564e-10, 9.99998093e-01,\n",
       "        9.32771016e-09, 1.68070443e-07],\n",
       "       [9.99999404e-01, 2.07496492e-10, 6.19415275e-08, 6.31604935e-10,\n",
       "        1.58116054e-09, 5.84239634e-09, 2.58325116e-07, 5.76840016e-08,\n",
       "        3.22376503e-09, 6.99426437e-08],\n",
       "       [6.33060722e-07, 2.55565419e-06, 3.31111441e-05, 2.34126719e-06,\n",
       "        3.19367246e-06, 9.33027380e-08, 3.44904620e-08, 9.99931097e-01,\n",
       "        1.16867216e-06, 2.57577849e-05],\n",
       "       [1.00000000e+00, 2.03136119e-11, 8.87847040e-09, 5.01528298e-11,\n",
       "        2.56494877e-11, 2.43894599e-10, 3.37427544e-08, 5.52004842e-09,\n",
       "        2.89258811e-10, 1.32486966e-09],\n",
       "       [9.99968052e-01, 4.09093559e-08, 2.24107825e-05, 1.87621055e-07,\n",
       "        2.38220480e-07, 4.21675026e-07, 1.40916313e-06, 1.03606544e-06,\n",
       "        1.13515895e-07, 6.10964207e-06],\n",
       "       [9.31061379e-08, 9.99978900e-01, 4.39036853e-07, 3.64851161e-07,\n",
       "        5.37368805e-06, 3.70307760e-07, 5.93976097e-07, 8.68872394e-06,\n",
       "        4.92398840e-06, 1.91839774e-07],\n",
       "       [4.95942913e-07, 1.57776583e-07, 3.10182713e-07, 1.21815820e-05,\n",
       "        3.70086667e-07, 9.99964356e-01, 1.61844503e-06, 3.95933682e-07,\n",
       "        3.42959515e-06, 1.66726677e-05],\n",
       "       [1.39940425e-07, 2.03376700e-07, 2.71406066e-07, 1.38434118e-07,\n",
       "        1.72950749e-07, 2.97233456e-08, 1.86839810e-09, 9.99990582e-01,\n",
       "        4.77947371e-09, 8.43981434e-06]], dtype=float32)"
      ]
     },
     "execution_count": 20,
     "metadata": {},
     "output_type": "execute_result"
    }
   ],
   "source": [
    "predictions=model.predict(\n",
    "    X_sample\n",
    ")\n",
    "predictions"
   ]
  },
  {
   "cell_type": "code",
   "execution_count": 22,
   "id": "572c694b-cff2-41d3-abab-b7748fbddc28",
   "metadata": {},
   "outputs": [
    {
     "data": {
      "image/png": "[encoded data removed]",
      "text/plain": [
       "<Figure size 1400x800 with 32 Axes>"
      ]
     },
     "metadata": {},
     "output_type": "display_data"
    }
   ],
   "source": [
    "predicted_labels=np.argmax(predictions,axis=1)\n",
    "fig,axes = plt.subplots(4,8,figsize=(14,8))\n",
    "for i, ax in enumerate(axes.flat):\n",
    "    ax.imshow(X_sample[i].reshape(28,28),cmap='gray_r')\n",
    "    ax.axis('off')\n",
    "    true_label = Y_sample[i]\n",
    "    pred_label = predicted_labels[i]\n",
    "    ax.set_title(\n",
    "        f'Real:{true_label}|Rred:{pred_label}',\n",
    "        fontsize=10,\n",
    "        color='blue' if true_label==pred_label else 'red'\n",
    "    )\n",
    "plt.suptitle('32 Test Image Predictions',fontsize=16)\n",
    "plt.tight_layout()\n",
    "plt.show()"
   ]
  },
  {
   "cell_type": "code",
   "execution_count": null,
   "id": "aaab0512-dbab-4ae3-b3cb-02ea16f45ddf",
   "metadata": {},
   "outputs": [],
   "source": []
  },
  {
   "cell_type": "code",
   "execution_count": null,
   "id": "f9a8a060-24ac-450c-ac4d-5cdff0b7434b",
   "metadata": {},
   "outputs": [],
   "source": []
  },
  {
   "cell_type": "code",
   "execution_count": null,
   "id": "81e27f7e-26ce-497f-8814-d0decd21d148",
   "metadata": {},
   "outputs": [],
   "source": []
  },
  {
   "cell_type": "code",
   "execution_count": null,
   "id": "c8c0d972-218c-4b24-9695-5503cf44af38",
   "metadata": {},
   "outputs": [],
   "source": []
  },
  {
   "cell_type": "code",
   "execution_count": null,
   "id": "8154767a-1947-4c37-97a3-e8f96d675a76",
   "metadata": {},
   "outputs": [],
   "source": []
  },
  {
   "cell_type": "code",
   "execution_count": null,
   "id": "ca0ab4fe-66f2-48a1-b7a3-89e11cc34b62",
   "metadata": {},
   "outputs": [],
   "source": []
  },
  {
   "cell_type": "code",
   "execution_count": null,
   "id": "cb72c0cb-0446-4f4f-9ef2-ff8c189bb748",
   "metadata": {},
   "outputs": [],
   "source": []
  },
  {
   "cell_type": "code",
   "execution_count": null,
   "id": "9f08896f-421b-4f74-9ded-27fd15a1fa1b",
   "metadata": {},
   "outputs": [],
   "source": []
  },
  {
   "cell_type": "code",
   "execution_count": null,
   "id": "362c7d46-c6be-4e57-b9d3-552d2f624019",
   "metadata": {},
   "outputs": [],
   "source": []
  },
  {
   "cell_type": "code",
   "execution_count": null,
   "id": "cbccb362-b303-48df-88d8-f988e8a454de",
   "metadata": {},
   "outputs": [],
   "source": []
  },
  {
   "cell_type": "code",
   "execution_count": null,
   "id": "6947f799-de3e-439a-a2ef-585255e91725",
   "metadata": {},
   "outputs": [],
   "source": []
  },
  {
   "cell_type": "code",
   "execution_count": null,
   "id": "074e7b84-39ea-4d32-9a94-39242c69b5b4",
   "metadata": {},
   "outputs": [],
   "source": []
  },
  {
   "cell_type": "code",
   "execution_count": null,
   "id": "d9d90392-f412-444b-9292-c09220927620",
   "metadata": {},
   "outputs": [],
   "source": []
  },
  {
   "cell_type": "code",
   "execution_count": null,
   "id": "db346ab8-bc6f-42aa-8263-adefb0cea3ac",
   "metadata": {},
   "outputs": [],
   "source": []
  },
  {
   "cell_type": "code",
   "execution_count": null,
   "id": "abc1895c-0598-4031-ae45-263c84afbce0",
   "metadata": {},
   "outputs": [],
   "source": []
  },
  {
   "cell_type": "code",
   "execution_count": null,
   "id": "7696019c-12ba-4216-aaae-e86f65514568",
   "metadata": {},
   "outputs": [],
   "source": []
  },
  {
   "cell_type": "code",
   "execution_count": null,
   "id": "efd662fe-d5fd-412d-8a3f-4e673973cda0",
   "metadata": {},
   "outputs": [],
   "source": []
  },
  {
   "cell_type": "code",
   "execution_count": null,
   "id": "b11b1e88-312f-4d34-92ad-f8cb78a5cc87",
   "metadata": {},
   "outputs": [],
   "source": []
  },
  {
   "cell_type": "code",
   "execution_count": null,
   "id": "ac9c8810-6e12-47f6-904e-062a1ffa40eb",
   "metadata": {},
   "outputs": [],
   "source": []
  },
  {
   "cell_type": "code",
   "execution_count": null,
   "id": "d57389bc-39c8-46fe-a544-43633bd45912",
   "metadata": {},
   "outputs": [],
   "source": []
  },
  {
   "cell_type": "code",
   "execution_count": null,
   "id": "937ec040-b28a-4700-9931-0fe238a97122",
   "metadata": {},
   "outputs": [],
   "source": []
  },
  {
   "cell_type": "code",
   "execution_count": null,
   "id": "5f7fe84a-18ec-471d-b518-4c2904634c1a",
   "metadata": {},
   "outputs": [],
   "source": []
  },
  {
   "cell_type": "code",
   "execution_count": null,
   "id": "02486407-b0f8-4cb1-9af8-a42914796c1b",
   "metadata": {},
   "outputs": [],
   "source": []
  },
  {
   "cell_type": "code",
   "execution_count": null,
   "id": "2a4579ca-c2bd-41ad-b4cb-bfb64fc912c0",
   "metadata": {},
   "outputs": [],
   "source": []
  },
  {
   "cell_type": "code",
   "execution_count": null,
   "id": "4d5cdca1-8752-4bcd-bf54-8d9dd7b4b56c",
   "metadata": {},
   "outputs": [],
   "source": []
  }
 ],
 "metadata": {
  "kernelspec": {
   "display_name": "Python 3 (ipykernel)",
   "language": "python",
   "name": "python3"
  },
  "language_info": {
   "codemirror_mode": {
    "name": "ipython",
    "version": 3
   },
   "file_extension": ".py",
   "mimetype": "text/x-python",
   "name": "python",
   "nbconvert_exporter": "python",
   "pygments_lexer": "ipython3",
   "version": "3.11.13"
  }
 },
 "nbformat": 4,
 "nbformat_minor": 5
}

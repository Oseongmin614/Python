{
 "cells": [
  {
   "cell_type": "code",
   "execution_count": 86,
   "id": "cdaf0893-604c-4e51-b084-9e27b7530108",
   "metadata": {},
   "outputs": [
    {
     "data": {
      "text/plain": [
       "'\\n!pip install oracledb\\n!pip install gensim\\n!pip install cmake\\n!pip install kiwipiepy\\n!pip install pandas\\n!pip install tqdm\\n'"
      ]
     },
     "execution_count": 86,
     "metadata": {},
     "output_type": "execute_result"
    }
   ],
   "source": [
    "\"\"\"\n",
    "!pip install oracledb\n",
    "!pip install gensim\n",
    "!pip install cmake\n",
    "!pip install kiwipiepy\n",
    "!pip install pandas\n",
    "!pip install tqdm\n",
    "\"\"\""
   ]
  },
  {
   "cell_type": "code",
   "execution_count": 2,
   "id": "ae333c38-9de4-4cf9-be8e-f812a85d6bd9",
   "metadata": {},
   "outputs": [
    {
     "name": "stdout",
     "output_type": "stream",
     "text": [
      "Requirement already satisfied: cmake in c:\\programdata\\anaconda3\\envs\\movie_env01\\lib\\site-packages (4.0.0)\n"
     ]
    }
   ],
   "source": []
  },
  {
   "cell_type": "code",
   "execution_count": 3,
   "id": "47f3a065-deb0-4ac1-aa6d-8079dde9eec3",
   "metadata": {},
   "outputs": [
    {
     "name": "stdout",
     "output_type": "stream",
     "text": [
      "Requirement already satisfied: kiwipiepy in c:\\programdata\\anaconda3\\envs\\movie_env01\\lib\\site-packages (0.20.4)\n",
      "Requirement already satisfied: kiwipiepy_model<0.21,>=0.20 in c:\\programdata\\anaconda3\\envs\\movie_env01\\lib\\site-packages (from kiwipiepy) (0.20.0)\n",
      "Requirement already satisfied: numpy in c:\\programdata\\anaconda3\\envs\\movie_env01\\lib\\site-packages (from kiwipiepy) (1.26.4)\n",
      "Requirement already satisfied: tqdm in c:\\programdata\\anaconda3\\envs\\movie_env01\\lib\\site-packages (from kiwipiepy) (4.67.1)\n",
      "Requirement already satisfied: colorama in c:\\programdata\\anaconda3\\envs\\movie_env01\\lib\\site-packages (from tqdm->kiwipiepy) (0.4.6)\n"
     ]
    }
   ],
   "source": []
  },
  {
   "cell_type": "code",
   "execution_count": 4,
   "id": "c1a895e5-3723-4889-9a86-d34df8621d3f",
   "metadata": {},
   "outputs": [
    {
     "name": "stdout",
     "output_type": "stream",
     "text": [
      "Requirement already satisfied: pandas in c:\\programdata\\anaconda3\\envs\\movie_env01\\lib\\site-packages (2.2.3)\n",
      "Requirement already satisfied: numpy>=1.22.4 in c:\\programdata\\anaconda3\\envs\\movie_env01\\lib\\site-packages (from pandas) (1.26.4)\n",
      "Requirement already satisfied: python-dateutil>=2.8.2 in c:\\programdata\\anaconda3\\envs\\movie_env01\\lib\\site-packages (from pandas) (2.9.0.post0)\n",
      "Requirement already satisfied: pytz>=2020.1 in c:\\programdata\\anaconda3\\envs\\movie_env01\\lib\\site-packages (from pandas) (2025.2)\n",
      "Requirement already satisfied: tzdata>=2022.7 in c:\\programdata\\anaconda3\\envs\\movie_env01\\lib\\site-packages (from pandas) (2025.2)\n",
      "Requirement already satisfied: six>=1.5 in c:\\programdata\\anaconda3\\envs\\movie_env01\\lib\\site-packages (from python-dateutil>=2.8.2->pandas) (1.17.0)\n"
     ]
    }
   ],
   "source": []
  },
  {
   "cell_type": "code",
   "execution_count": 5,
   "id": "0de0e193-d999-45c4-8f70-04e68778aa80",
   "metadata": {},
   "outputs": [
    {
     "name": "stdout",
     "output_type": "stream",
     "text": [
      "Requirement already satisfied: tqdm in c:\\programdata\\anaconda3\\envs\\movie_env01\\lib\\site-packages (4.67.1)\n",
      "Requirement already satisfied: colorama in c:\\programdata\\anaconda3\\envs\\movie_env01\\lib\\site-packages (from tqdm) (0.4.6)\n"
     ]
    }
   ],
   "source": []
  },
  {
   "cell_type": "code",
   "execution_count": 6,
   "id": "e23eb107-197a-4f01-93f8-6f4f4544537e",
   "metadata": {},
   "outputs": [
    {
     "name": "stdout",
     "output_type": "stream",
     "text": [
      "Requirement already satisfied: gensim in c:\\programdata\\anaconda3\\envs\\movie_env01\\lib\\site-packages (4.3.3)\n",
      "Requirement already satisfied: numpy<2.0,>=1.18.5 in c:\\programdata\\anaconda3\\envs\\movie_env01\\lib\\site-packages (from gensim) (1.26.4)\n",
      "Requirement already satisfied: scipy<1.14.0,>=1.7.0 in c:\\programdata\\anaconda3\\envs\\movie_env01\\lib\\site-packages (from gensim) (1.13.1)\n",
      "Requirement already satisfied: smart-open>=1.8.1 in c:\\programdata\\anaconda3\\envs\\movie_env01\\lib\\site-packages (from gensim) (7.1.0)\n",
      "Requirement already satisfied: wrapt in c:\\programdata\\anaconda3\\envs\\movie_env01\\lib\\site-packages (from smart-open>=1.8.1->gensim) (1.17.2)\n"
     ]
    }
   ],
   "source": []
  },
  {
   "cell_type": "code",
   "execution_count": null,
   "id": "be6d2e19-630a-4d0f-9d9d-9364820937db",
   "metadata": {},
   "outputs": [],
   "source": []
  },
  {
   "cell_type": "code",
   "execution_count": 87,
   "id": "1c6e7fe8-ae8d-4d19-9fe6-e2a01e6182b6",
   "metadata": {},
   "outputs": [],
   "source": [
    "import os\n",
    "import oracledb\n",
    "import time\n",
    "import pandas as pd\n",
    "import numpy as np\n",
    "from tqdm.notebook import tqdm\n",
    "from kiwipiepy import Kiwi\n",
    "import pickle"
   ]
  },
  {
   "cell_type": "code",
   "execution_count": 88,
   "id": "18d20e22-42fa-4ba1-9d8c-4d6d769e17d7",
   "metadata": {},
   "outputs": [
    {
     "data": {
      "text/plain": [
       "<oracledb.Connection to movie_admin@(DESCRIPTION=(ADDRESS=(PROTOCOL=TCP)(HOST=localhost)(PORT=1521))(CONNECT_DATA=(SERVICE_NAME=XEPDB1)))>"
      ]
     },
     "execution_count": 88,
     "metadata": {},
     "output_type": "execute_result"
    }
   ],
   "source": [
    "dsn1 = oracledb. makedsn(\"localhost\",1521, service_name=\"XEPDB1\")\n",
    "username= \"movie_admin\"\n",
    "user_pass = \"pass123\"\n",
    "\n",
    "connection = oracledb.connect(user = username, password= user_pass, dsn= dsn1)\n",
    "\n",
    "connection"
   ]
  },
  {
   "cell_type": "code",
   "execution_count": 89,
   "id": "76633c5d-fc0f-4012-be4a-6166300376f0",
   "metadata": {},
   "outputs": [
    {
     "name": "stderr",
     "output_type": "stream",
     "text": [
      "C:\\Users\\User\\AppData\\Local\\Temp\\ipykernel_20236\\3433686458.py:2: UserWarning: pandas only supports SQLAlchemy connectable (engine/connection) or database string URI or sqlite3 DBAPI2 connection. Other DBAPI2 objects are not tested. Please consider using SQLAlchemy.\n",
      "  movie_df=pd.read_sql(query, con = connection)\n"
     ]
    },
    {
     "data": {
      "text/html": [
       "<div>\n",
       "<style scoped>\n",
       "    .dataframe tbody tr th:only-of-type {\n",
       "        vertical-align: middle;\n",
       "    }\n",
       "\n",
       "    .dataframe tbody tr th {\n",
       "        vertical-align: top;\n",
       "    }\n",
       "\n",
       "    .dataframe thead th {\n",
       "        text-align: right;\n",
       "    }\n",
       "</style>\n",
       "<table border=\"1\" class=\"dataframe\">\n",
       "  <thead>\n",
       "    <tr style=\"text-align: right;\">\n",
       "      <th></th>\n",
       "      <th>NUM</th>\n",
       "      <th>TITLE</th>\n",
       "      <th>DIRECTOR</th>\n",
       "      <th>ACTOR</th>\n",
       "      <th>SYNOPSIS</th>\n",
       "    </tr>\n",
       "  </thead>\n",
       "  <tbody>\n",
       "    <tr>\n",
       "      <th>0</th>\n",
       "      <td>1</td>\n",
       "      <td>파묘</td>\n",
       "      <td>장재현</td>\n",
       "      <td>최민식,김고은,유해진,이도현,김재철,김민준,김병오,전진기,박정자,박지일,이종구,이영...</td>\n",
       "      <td>미국 LA 거액의 의뢰를 받은 무당 화림(김고은)과 봉길(이도현)은 기이한 병이 대...</td>\n",
       "    </tr>\n",
       "    <tr>\n",
       "      <th>1</th>\n",
       "      <td>2</td>\n",
       "      <td>범죄도시4</td>\n",
       "      <td>허명행</td>\n",
       "      <td>김무열,박지환,이동휘,마동석,곽자형,이범수,김민재,이지훈,이주빈,김도건,김지훈,현봉...</td>\n",
       "      <td>신종 마약 사건 3년 뒤 괴물형사 마석도(마동석)와 서울 광수대는 배달앱을 이용한 ...</td>\n",
       "    </tr>\n",
       "    <tr>\n",
       "      <th>2</th>\n",
       "      <td>3</td>\n",
       "      <td>인사이드 아웃 2</td>\n",
       "      <td>켈시 만</td>\n",
       "      <td>에이미 포엘러,토니 헤일</td>\n",
       "      <td>디즈니픽사의 대표작 인사이드 아웃 새로운 감정과 함께 돌아오다 13살이 된 라일리의...</td>\n",
       "    </tr>\n",
       "    <tr>\n",
       "      <th>3</th>\n",
       "      <td>4</td>\n",
       "      <td>베테랑2</td>\n",
       "      <td>류승완</td>\n",
       "      <td>황정민,정해인,장윤주,정만식,신승환,오달수,오대환,김시후,안보현,진경,권해효,변홍준...</td>\n",
       "      <td>가족들도 못 챙기고 밤낮없이 범죄들과 싸우는 베테랑 형사 서도철(황정민)과 강력범죄...</td>\n",
       "    </tr>\n",
       "    <tr>\n",
       "      <th>4</th>\n",
       "      <td>5</td>\n",
       "      <td>파일럿</td>\n",
       "      <td>김한결</td>\n",
       "      <td>조정석,이주명,한선화,신승호,오민애,김지현,서재희,박다온,현봉식,서현철,유재석,조세...</td>\n",
       "      <td>하루 아침에 인생 추락한 스타 파일럿 제 2의 인생 이륙 준비 중 최고의 비행 실력...</td>\n",
       "    </tr>\n",
       "  </tbody>\n",
       "</table>\n",
       "</div>"
      ],
      "text/plain": [
       "   NUM      TITLE DIRECTOR                                              ACTOR  \\\n",
       "0    1         파묘      장재현  최민식,김고은,유해진,이도현,김재철,김민준,김병오,전진기,박정자,박지일,이종구,이영...   \n",
       "1    2      범죄도시4      허명행  김무열,박지환,이동휘,마동석,곽자형,이범수,김민재,이지훈,이주빈,김도건,김지훈,현봉...   \n",
       "2    3  인사이드 아웃 2     켈시 만                                      에이미 포엘러,토니 헤일   \n",
       "3    4       베테랑2      류승완  황정민,정해인,장윤주,정만식,신승환,오달수,오대환,김시후,안보현,진경,권해효,변홍준...   \n",
       "4    5        파일럿      김한결  조정석,이주명,한선화,신승호,오민애,김지현,서재희,박다온,현봉식,서현철,유재석,조세...   \n",
       "\n",
       "                                            SYNOPSIS  \n",
       "0  미국 LA 거액의 의뢰를 받은 무당 화림(김고은)과 봉길(이도현)은 기이한 병이 대...  \n",
       "1  신종 마약 사건 3년 뒤 괴물형사 마석도(마동석)와 서울 광수대는 배달앱을 이용한 ...  \n",
       "2  디즈니픽사의 대표작 인사이드 아웃 새로운 감정과 함께 돌아오다 13살이 된 라일리의...  \n",
       "3  가족들도 못 챙기고 밤낮없이 범죄들과 싸우는 베테랑 형사 서도철(황정민)과 강력범죄...  \n",
       "4  하루 아침에 인생 추락한 스타 파일럿 제 2의 인생 이륙 준비 중 최고의 비행 실력...  "
      ]
     },
     "execution_count": 89,
     "metadata": {},
     "output_type": "execute_result"
    }
   ],
   "source": [
    "query = \"SELECT num, title, director, actor, synopsis FROM movie_tbl order by num\"\n",
    "movie_df=pd.read_sql(query, con = connection)\n",
    "\n",
    "movie_df.head()"
   ]
  },
  {
   "cell_type": "code",
   "execution_count": 90,
   "id": "064bc865-a16f-463d-aa1e-d7c19e290b3a",
   "metadata": {},
   "outputs": [],
   "source": [
    "kiwi = Kiwi()"
   ]
  },
  {
   "cell_type": "code",
   "execution_count": 91,
   "id": "5edc89cf-b563-4ac3-a022-5a23f3f340b2",
   "metadata": {},
   "outputs": [
    {
     "data": {
      "text/plain": [
       "[Token(form='아버지', tag='NNG', start=0, len=3),\n",
       " Token(form='가', tag='JKS', start=3, len=1),\n",
       " Token(form='방', tag='NNG', start=5, len=1),\n",
       " Token(form='에', tag='JKB', start=6, len=1),\n",
       " Token(form='들어가', tag='VV', start=8, len=3),\n",
       " Token(form='시', tag='EP', start=11, len=1),\n",
       " Token(form='ᆫ다', tag='EF', start=11, len=2),\n",
       " Token(form='그래서', tag='MAJ', start=14, len=3),\n",
       " Token(form='슬프', tag='VA', start=18, len=2),\n",
       " Token(form='다', tag='EC', start=20, len=1),\n",
       " Token(form='배', tag='NNG', start=22, len=1),\n",
       " Token(form='가', tag='JKS', start=23, len=1),\n",
       " Token(form='아프', tag='VA', start=25, len=2),\n",
       " Token(form='어요', tag='EF', start=26, len=2)]"
      ]
     },
     "execution_count": 91,
     "metadata": {},
     "output_type": "execute_result"
    }
   ],
   "source": [
    "kiwi.tokenize(\"아버지가 방에 들어가신다 그래서 슬프다 배가 아파요\")"
   ]
  },
  {
   "cell_type": "code",
   "execution_count": 92,
   "id": "4c9ebfcc-9d66-477e-bef2-f9a86d1d86f3",
   "metadata": {},
   "outputs": [],
   "source": [
    "def preprocessingText(text):\n",
    "    stems = []\n",
    "    tagged_review = kiwi.tokenize(text)\n",
    "    for token in tagged_review:\n",
    "        word, pos = token.form, token.tag\n",
    "        if len(word) >= 2 and (pos == \"NNG\" or pos == \"NNP\" or pos == \"VA\"):\n",
    "            stems.append(word)\n",
    "    return \" \".join(stems)"
   ]
  },
  {
   "cell_type": "code",
   "execution_count": 93,
   "id": "31667e80-e3da-4083-b85f-fb1232d6b89f",
   "metadata": {},
   "outputs": [
    {
     "data": {
      "text/plain": [
       "'아버지 슬프 아프'"
      ]
     },
     "execution_count": 93,
     "metadata": {},
     "output_type": "execute_result"
    }
   ],
   "source": [
    "preprocessingText(\"아버지가 방에 들어가신다 그래서 슬펐다 배가 아파요\")"
   ]
  },
  {
   "cell_type": "code",
   "execution_count": 94,
   "id": "7ebad1dc-561d-4174-bb8b-d451c6ce3733",
   "metadata": {},
   "outputs": [
    {
     "data": {
      "text/plain": [
       "'신종 마약 사건 3년 뒤 괴물형사 마석도(마동석)와 서울 광수대는 배달앱을 이용한 마약 판매 사건을 수사하던 중 수배 중인 앱 개발자가 필리핀에서 사망한 사건이 대규모 온라인 불법 도박 조직과 연관되어 있음을 알아낸다 필리핀에 거점을 두고 납치 감금 폭행 살인 등으로 대한민국 온라인 불법 도박 시장을 장악한 특수부대 용병 출신의 빌런 백창기(김무열)와 한국에서 더 큰 판을 짜고 있는 IT업계 천재 CEO 장동철(이동휘) 마석도는 더 커진 판을 잡기 위해 장이수(박지환)에게 뜻밖의 협력을 제안하고 광역수사대는 물론 사이버수사대까지 합류해 범죄를 소탕하기 시작하는데 나쁜 놈 잡는데 국경도 영역도 제한 없다 업그레이드 소탕 작전 거침없이 싹 쓸어버린다'"
      ]
     },
     "execution_count": 94,
     "metadata": {},
     "output_type": "execute_result"
    }
   ],
   "source": [
    "movie_df.loc[1, 'SYNOPSIS']"
   ]
  },
  {
   "cell_type": "code",
   "execution_count": 95,
   "id": "d23765ad-2d94-48e8-ad0c-650fe058b6ad",
   "metadata": {},
   "outputs": [
    {
     "data": {
      "text/plain": [
       "'신종 마약 사건 괴물 형사 마석 마동석 서울 광수 배달 이용 마약 판매 사건 수사 수배 개발자 필리핀 사망 사건 규모 온라인 불법 도박 조직 연관 필리핀 거점 납치 감금 폭행 살인 대한민국 온라인 불법 도박 시장 장악 특수부대 용병 출신 빌런 백창기 김무열 한국 업계 천재 동철 이동휘 마석 지환 뜻밖 협력 제안 광역 수사대 물론 사이버 수사대 합류 범죄 소탕 시작 나쁘 국경 영역 제한 업그레이드 소탕 작전'"
      ]
     },
     "execution_count": 95,
     "metadata": {},
     "output_type": "execute_result"
    }
   ],
   "source": [
    "preprocessingText(movie_df.loc[1, 'SYNOPSIS'])"
   ]
  },
  {
   "cell_type": "code",
   "execution_count": 96,
   "id": "7fe0eca7-970a-4a82-8c65-d26ade6ff0f1",
   "metadata": {},
   "outputs": [],
   "source": [
    "movie_df[\"SYNOPSIS_CLEAR\"]=np.NaN"
   ]
  },
  {
   "cell_type": "code",
   "execution_count": 97,
   "id": "232ecbd4-85dd-4598-ad96-ec2dce9fb33f",
   "metadata": {},
   "outputs": [
    {
     "data": {
      "text/html": [
       "<div>\n",
       "<style scoped>\n",
       "    .dataframe tbody tr th:only-of-type {\n",
       "        vertical-align: middle;\n",
       "    }\n",
       "\n",
       "    .dataframe tbody tr th {\n",
       "        vertical-align: top;\n",
       "    }\n",
       "\n",
       "    .dataframe thead th {\n",
       "        text-align: right;\n",
       "    }\n",
       "</style>\n",
       "<table border=\"1\" class=\"dataframe\">\n",
       "  <thead>\n",
       "    <tr style=\"text-align: right;\">\n",
       "      <th></th>\n",
       "      <th>NUM</th>\n",
       "      <th>TITLE</th>\n",
       "      <th>DIRECTOR</th>\n",
       "      <th>ACTOR</th>\n",
       "      <th>SYNOPSIS</th>\n",
       "      <th>SYNOPSIS_CLEAR</th>\n",
       "    </tr>\n",
       "  </thead>\n",
       "  <tbody>\n",
       "    <tr>\n",
       "      <th>0</th>\n",
       "      <td>1</td>\n",
       "      <td>파묘</td>\n",
       "      <td>장재현</td>\n",
       "      <td>최민식,김고은,유해진,이도현,김재철,김민준,김병오,전진기,박정자,박지일,이종구,이영...</td>\n",
       "      <td>미국 LA 거액의 의뢰를 받은 무당 화림(김고은)과 봉길(이도현)은 기이한 병이 대...</td>\n",
       "      <td>NaN</td>\n",
       "    </tr>\n",
       "    <tr>\n",
       "      <th>1</th>\n",
       "      <td>2</td>\n",
       "      <td>범죄도시4</td>\n",
       "      <td>허명행</td>\n",
       "      <td>김무열,박지환,이동휘,마동석,곽자형,이범수,김민재,이지훈,이주빈,김도건,김지훈,현봉...</td>\n",
       "      <td>신종 마약 사건 3년 뒤 괴물형사 마석도(마동석)와 서울 광수대는 배달앱을 이용한 ...</td>\n",
       "      <td>NaN</td>\n",
       "    </tr>\n",
       "    <tr>\n",
       "      <th>2</th>\n",
       "      <td>3</td>\n",
       "      <td>인사이드 아웃 2</td>\n",
       "      <td>켈시 만</td>\n",
       "      <td>에이미 포엘러,토니 헤일</td>\n",
       "      <td>디즈니픽사의 대표작 인사이드 아웃 새로운 감정과 함께 돌아오다 13살이 된 라일리의...</td>\n",
       "      <td>NaN</td>\n",
       "    </tr>\n",
       "    <tr>\n",
       "      <th>3</th>\n",
       "      <td>4</td>\n",
       "      <td>베테랑2</td>\n",
       "      <td>류승완</td>\n",
       "      <td>황정민,정해인,장윤주,정만식,신승환,오달수,오대환,김시후,안보현,진경,권해효,변홍준...</td>\n",
       "      <td>가족들도 못 챙기고 밤낮없이 범죄들과 싸우는 베테랑 형사 서도철(황정민)과 강력범죄...</td>\n",
       "      <td>NaN</td>\n",
       "    </tr>\n",
       "    <tr>\n",
       "      <th>4</th>\n",
       "      <td>5</td>\n",
       "      <td>파일럿</td>\n",
       "      <td>김한결</td>\n",
       "      <td>조정석,이주명,한선화,신승호,오민애,김지현,서재희,박다온,현봉식,서현철,유재석,조세...</td>\n",
       "      <td>하루 아침에 인생 추락한 스타 파일럿 제 2의 인생 이륙 준비 중 최고의 비행 실력...</td>\n",
       "      <td>NaN</td>\n",
       "    </tr>\n",
       "  </tbody>\n",
       "</table>\n",
       "</div>"
      ],
      "text/plain": [
       "   NUM      TITLE DIRECTOR                                              ACTOR  \\\n",
       "0    1         파묘      장재현  최민식,김고은,유해진,이도현,김재철,김민준,김병오,전진기,박정자,박지일,이종구,이영...   \n",
       "1    2      범죄도시4      허명행  김무열,박지환,이동휘,마동석,곽자형,이범수,김민재,이지훈,이주빈,김도건,김지훈,현봉...   \n",
       "2    3  인사이드 아웃 2     켈시 만                                      에이미 포엘러,토니 헤일   \n",
       "3    4       베테랑2      류승완  황정민,정해인,장윤주,정만식,신승환,오달수,오대환,김시후,안보현,진경,권해효,변홍준...   \n",
       "4    5        파일럿      김한결  조정석,이주명,한선화,신승호,오민애,김지현,서재희,박다온,현봉식,서현철,유재석,조세...   \n",
       "\n",
       "                                            SYNOPSIS  SYNOPSIS_CLEAR  \n",
       "0  미국 LA 거액의 의뢰를 받은 무당 화림(김고은)과 봉길(이도현)은 기이한 병이 대...             NaN  \n",
       "1  신종 마약 사건 3년 뒤 괴물형사 마석도(마동석)와 서울 광수대는 배달앱을 이용한 ...             NaN  \n",
       "2  디즈니픽사의 대표작 인사이드 아웃 새로운 감정과 함께 돌아오다 13살이 된 라일리의...             NaN  \n",
       "3  가족들도 못 챙기고 밤낮없이 범죄들과 싸우는 베테랑 형사 서도철(황정민)과 강력범죄...             NaN  \n",
       "4  하루 아침에 인생 추락한 스타 파일럿 제 2의 인생 이륙 준비 중 최고의 비행 실력...             NaN  "
      ]
     },
     "execution_count": 97,
     "metadata": {},
     "output_type": "execute_result"
    }
   ],
   "source": [
    "movie_df.head()"
   ]
  },
  {
   "cell_type": "code",
   "execution_count": 98,
   "id": "8ab569cc-a200-4685-b029-3249a60efb64",
   "metadata": {},
   "outputs": [
    {
     "data": {
      "application/vnd.jupyter.widget-view+json": {
       "model_id": "800902fe7cc44b8fb8d7fe222b006a01",
       "version_major": 2,
       "version_minor": 0
      },
      "text/plain": [
       "  0%|          | 0/10000000 [00:00<?, ?it/s]"
      ]
     },
     "metadata": {},
     "output_type": "display_data"
    }
   ],
   "source": [
    "from tqdm.notebook import tqdm\n",
    "\n",
    "sum = 0\n",
    "for i in tqdm(range(10000000)):\n",
    "    sum=sum +i"
   ]
  },
  {
   "cell_type": "code",
   "execution_count": 99,
   "id": "6c263c0a-e83d-4557-acf8-b282b8ed557f",
   "metadata": {},
   "outputs": [
    {
     "data": {
      "text/plain": [
       "485"
      ]
     },
     "execution_count": 99,
     "metadata": {},
     "output_type": "execute_result"
    }
   ],
   "source": [
    "len(movie_df)"
   ]
  },
  {
   "cell_type": "code",
   "execution_count": 100,
   "id": "ce8d24eb-a255-4473-b909-d13069c145d5",
   "metadata": {},
   "outputs": [],
   "source": [
    "row_num = len(movie_df)"
   ]
  },
  {
   "cell_type": "code",
   "execution_count": 101,
   "id": "258e338c-4591-40a4-a0f4-5f3498bf5732",
   "metadata": {},
   "outputs": [
    {
     "data": {
      "text/plain": [
       "485"
      ]
     },
     "execution_count": 101,
     "metadata": {},
     "output_type": "execute_result"
    }
   ],
   "source": [
    "row_num"
   ]
  },
  {
   "cell_type": "code",
   "execution_count": 102,
   "id": "40a8bfe6-77e8-4105-a897-a53aa4f7be2b",
   "metadata": {},
   "outputs": [
    {
     "data": {
      "application/vnd.jupyter.widget-view+json": {
       "model_id": "56efbdce25314696b0aa0f164e11f17c",
       "version_major": 2,
       "version_minor": 0
      },
      "text/plain": [
       "  0%|          | 0/485 [00:00<?, ?it/s]"
      ]
     },
     "metadata": {},
     "output_type": "display_data"
    }
   ],
   "source": [
    "for index in tqdm(range(row_num)):\n",
    "    try:\n",
    "        synopsis = movie_df.loc[index, \"SYNOPSIS\"]\n",
    "        movie_df.loc[index, \"SYNOPSISCLEAR\"]= preprocessingText(synopsis)\n",
    "    except Exception as e:\n",
    "        movie_df.loc[index, \"SYNOPSISCLEAR\"]= np.NaN"
   ]
  },
  {
   "cell_type": "code",
   "execution_count": 103,
   "id": "0544b099-693b-406e-b062-215eb1a0bb2a",
   "metadata": {},
   "outputs": [
    {
     "data": {
      "text/html": [
       "<div>\n",
       "<style scoped>\n",
       "    .dataframe tbody tr th:only-of-type {\n",
       "        vertical-align: middle;\n",
       "    }\n",
       "\n",
       "    .dataframe tbody tr th {\n",
       "        vertical-align: top;\n",
       "    }\n",
       "\n",
       "    .dataframe thead th {\n",
       "        text-align: right;\n",
       "    }\n",
       "</style>\n",
       "<table border=\"1\" class=\"dataframe\">\n",
       "  <thead>\n",
       "    <tr style=\"text-align: right;\">\n",
       "      <th></th>\n",
       "      <th>NUM</th>\n",
       "      <th>TITLE</th>\n",
       "      <th>DIRECTOR</th>\n",
       "      <th>ACTOR</th>\n",
       "      <th>SYNOPSIS</th>\n",
       "      <th>SYNOPSIS_CLEAR</th>\n",
       "      <th>SYNOPSISCLEAR</th>\n",
       "    </tr>\n",
       "  </thead>\n",
       "  <tbody>\n",
       "    <tr>\n",
       "      <th>0</th>\n",
       "      <td>1</td>\n",
       "      <td>파묘</td>\n",
       "      <td>장재현</td>\n",
       "      <td>최민식,김고은,유해진,이도현,김재철,김민준,김병오,전진기,박정자,박지일,이종구,이영...</td>\n",
       "      <td>미국 LA 거액의 의뢰를 받은 무당 화림(김고은)과 봉길(이도현)은 기이한 병이 대...</td>\n",
       "      <td>NaN</td>\n",
       "      <td>미국 거액 의뢰 무당 화림 김고은 봉길 이도현 대물림 집안 장손 조상 자리 화근 냄...</td>\n",
       "    </tr>\n",
       "    <tr>\n",
       "      <th>1</th>\n",
       "      <td>2</td>\n",
       "      <td>범죄도시4</td>\n",
       "      <td>허명행</td>\n",
       "      <td>김무열,박지환,이동휘,마동석,곽자형,이범수,김민재,이지훈,이주빈,김도건,김지훈,현봉...</td>\n",
       "      <td>신종 마약 사건 3년 뒤 괴물형사 마석도(마동석)와 서울 광수대는 배달앱을 이용한 ...</td>\n",
       "      <td>NaN</td>\n",
       "      <td>신종 마약 사건 괴물 형사 마석 마동석 서울 광수 배달 이용 마약 판매 사건 수사 ...</td>\n",
       "    </tr>\n",
       "    <tr>\n",
       "      <th>2</th>\n",
       "      <td>3</td>\n",
       "      <td>인사이드 아웃 2</td>\n",
       "      <td>켈시 만</td>\n",
       "      <td>에이미 포엘러,토니 헤일</td>\n",
       "      <td>디즈니픽사의 대표작 인사이드 아웃 새로운 감정과 함께 돌아오다 13살이 된 라일리의...</td>\n",
       "      <td>NaN</td>\n",
       "      <td>디즈니 픽사 대표작 인사이드 아웃 감정 라일리 행복 바쁘 머릿속 감정 컨트롤 본부 ...</td>\n",
       "    </tr>\n",
       "    <tr>\n",
       "      <th>3</th>\n",
       "      <td>4</td>\n",
       "      <td>베테랑2</td>\n",
       "      <td>류승완</td>\n",
       "      <td>황정민,정해인,장윤주,정만식,신승환,오달수,오대환,김시후,안보현,진경,권해효,변홍준...</td>\n",
       "      <td>가족들도 못 챙기고 밤낮없이 범죄들과 싸우는 베테랑 형사 서도철(황정민)과 강력범죄...</td>\n",
       "      <td>NaN</td>\n",
       "      <td>가족 범죄 베테랑 형사 서도철 황정민 강력 범죄 수사대 형사 교수 죽음 이전 발생 ...</td>\n",
       "    </tr>\n",
       "    <tr>\n",
       "      <th>4</th>\n",
       "      <td>5</td>\n",
       "      <td>파일럿</td>\n",
       "      <td>김한결</td>\n",
       "      <td>조정석,이주명,한선화,신승호,오민애,김지현,서재희,박다온,현봉식,서현철,유재석,조세...</td>\n",
       "      <td>하루 아침에 인생 추락한 스타 파일럿 제 2의 인생 이륙 준비 중 최고의 비행 실력...</td>\n",
       "      <td>NaN</td>\n",
       "      <td>하루 아침 인생 추락 스타 파일럿 인생 이륙 준비 최고 비행 실력 스타 파일럿 인기...</td>\n",
       "    </tr>\n",
       "  </tbody>\n",
       "</table>\n",
       "</div>"
      ],
      "text/plain": [
       "   NUM      TITLE DIRECTOR                                              ACTOR  \\\n",
       "0    1         파묘      장재현  최민식,김고은,유해진,이도현,김재철,김민준,김병오,전진기,박정자,박지일,이종구,이영...   \n",
       "1    2      범죄도시4      허명행  김무열,박지환,이동휘,마동석,곽자형,이범수,김민재,이지훈,이주빈,김도건,김지훈,현봉...   \n",
       "2    3  인사이드 아웃 2     켈시 만                                      에이미 포엘러,토니 헤일   \n",
       "3    4       베테랑2      류승완  황정민,정해인,장윤주,정만식,신승환,오달수,오대환,김시후,안보현,진경,권해효,변홍준...   \n",
       "4    5        파일럿      김한결  조정석,이주명,한선화,신승호,오민애,김지현,서재희,박다온,현봉식,서현철,유재석,조세...   \n",
       "\n",
       "                                            SYNOPSIS  SYNOPSIS_CLEAR  \\\n",
       "0  미국 LA 거액의 의뢰를 받은 무당 화림(김고은)과 봉길(이도현)은 기이한 병이 대...             NaN   \n",
       "1  신종 마약 사건 3년 뒤 괴물형사 마석도(마동석)와 서울 광수대는 배달앱을 이용한 ...             NaN   \n",
       "2  디즈니픽사의 대표작 인사이드 아웃 새로운 감정과 함께 돌아오다 13살이 된 라일리의...             NaN   \n",
       "3  가족들도 못 챙기고 밤낮없이 범죄들과 싸우는 베테랑 형사 서도철(황정민)과 강력범죄...             NaN   \n",
       "4  하루 아침에 인생 추락한 스타 파일럿 제 2의 인생 이륙 준비 중 최고의 비행 실력...             NaN   \n",
       "\n",
       "                                       SYNOPSISCLEAR  \n",
       "0  미국 거액 의뢰 무당 화림 김고은 봉길 이도현 대물림 집안 장손 조상 자리 화근 냄...  \n",
       "1  신종 마약 사건 괴물 형사 마석 마동석 서울 광수 배달 이용 마약 판매 사건 수사 ...  \n",
       "2  디즈니 픽사 대표작 인사이드 아웃 감정 라일리 행복 바쁘 머릿속 감정 컨트롤 본부 ...  \n",
       "3  가족 범죄 베테랑 형사 서도철 황정민 강력 범죄 수사대 형사 교수 죽음 이전 발생 ...  \n",
       "4  하루 아침 인생 추락 스타 파일럿 인생 이륙 준비 최고 비행 실력 스타 파일럿 인기...  "
      ]
     },
     "execution_count": 103,
     "metadata": {},
     "output_type": "execute_result"
    }
   ],
   "source": [
    "movie_df.head()"
   ]
  },
  {
   "cell_type": "code",
   "execution_count": 104,
   "id": "cc99bd59-74e0-4f18-b48e-a838181b4121",
   "metadata": {},
   "outputs": [
    {
     "data": {
      "text/plain": [
       "'미국 거액 의뢰 무당 화림 김고은 봉길 이도현 대물림 집안 장손 조상 자리 화근 냄새 최고 풍수 상덕 최민식 장의사 유해진 합류 사람 악지 자리 상덕 기운 제안 거절 화림 설득 결국 파묘 시작'"
      ]
     },
     "execution_count": 104,
     "metadata": {},
     "output_type": "execute_result"
    }
   ],
   "source": [
    "movie_df.loc[0, \"SYNOPSISCLEAR\"]"
   ]
  },
  {
   "cell_type": "code",
   "execution_count": 105,
   "id": "5c7993ef-9e4c-4253-b51a-2248cb0bd184",
   "metadata": {},
   "outputs": [
    {
     "data": {
      "text/plain": [
       "0      [미국, 거액, 의뢰, 무당, 화림, 김고은, 봉길, 이도현, 대물림, 집안, 장손...\n",
       "1      [신종, 마약, 사건, 괴물, 형사, 마석, 마동석, 서울, 광수, 배달, 이용, ...\n",
       "2      [디즈니, 픽사, 대표작, 인사이드, 아웃, 감정, 라일리, 행복, 바쁘, 머릿속,...\n",
       "3      [가족, 범죄, 베테랑, 형사, 서도철, 황정민, 강력, 범죄, 수사대, 형사, 교...\n",
       "4      [하루, 아침, 인생, 추락, 스타, 파일럿, 인생, 이륙, 준비, 최고, 비행, ...\n",
       "                             ...                        \n",
       "480    [중년, 영화감독, 오랜만, 인테리어, 디자인, 여자, 건물, 인테리어, 디자인, ...\n",
       "481    [삼류, 건달, 강재, 막장, 인생, 마지막, 찬스, 평생, 보스, 대신, 감옥, ...\n",
       "482    [대결, 세상, 남자, 최동원, 선동열, 고독, 치열, 맞대결, 불안, 격동, 프로...\n",
       "483    [조직, 스파이, 색출, 사냥, 사냥감, 망명, 신청, 북한, 고위, 관리, 정보,...\n",
       "484    [고구려, 신라, 백제, 분쟁, 원수, 백제, 의자왕, 앙심, 김춘추, 태종, 무열...\n",
       "Name: SYNOPSISCLEAR, Length: 485, dtype: object"
      ]
     },
     "execution_count": 105,
     "metadata": {},
     "output_type": "execute_result"
    }
   ],
   "source": [
    "movie_df[\"SYNOPSISCLEAR\"].str.split(\" \")"
   ]
  },
  {
   "cell_type": "code",
   "execution_count": 106,
   "id": "7b7cfba1-b7b1-44b1-b200-333e9f9474d7",
   "metadata": {},
   "outputs": [],
   "source": [
    "movie_df[\"SYNOPSISCLEAR_LIST\"]= movie_df[\"SYNOPSISCLEAR\"].str.split(\" \")"
   ]
  },
  {
   "cell_type": "code",
   "execution_count": 107,
   "id": "0987130c-3bed-4e8d-88b0-ba298a1f634f",
   "metadata": {},
   "outputs": [
    {
     "data": {
      "text/html": [
       "<div>\n",
       "<style scoped>\n",
       "    .dataframe tbody tr th:only-of-type {\n",
       "        vertical-align: middle;\n",
       "    }\n",
       "\n",
       "    .dataframe tbody tr th {\n",
       "        vertical-align: top;\n",
       "    }\n",
       "\n",
       "    .dataframe thead th {\n",
       "        text-align: right;\n",
       "    }\n",
       "</style>\n",
       "<table border=\"1\" class=\"dataframe\">\n",
       "  <thead>\n",
       "    <tr style=\"text-align: right;\">\n",
       "      <th></th>\n",
       "      <th>NUM</th>\n",
       "      <th>TITLE</th>\n",
       "      <th>DIRECTOR</th>\n",
       "      <th>ACTOR</th>\n",
       "      <th>SYNOPSIS</th>\n",
       "      <th>SYNOPSIS_CLEAR</th>\n",
       "      <th>SYNOPSISCLEAR</th>\n",
       "      <th>SYNOPSISCLEAR_LIST</th>\n",
       "    </tr>\n",
       "  </thead>\n",
       "  <tbody>\n",
       "    <tr>\n",
       "      <th>0</th>\n",
       "      <td>1</td>\n",
       "      <td>파묘</td>\n",
       "      <td>장재현</td>\n",
       "      <td>최민식,김고은,유해진,이도현,김재철,김민준,김병오,전진기,박정자,박지일,이종구,이영...</td>\n",
       "      <td>미국 LA 거액의 의뢰를 받은 무당 화림(김고은)과 봉길(이도현)은 기이한 병이 대...</td>\n",
       "      <td>NaN</td>\n",
       "      <td>미국 거액 의뢰 무당 화림 김고은 봉길 이도현 대물림 집안 장손 조상 자리 화근 냄...</td>\n",
       "      <td>[미국, 거액, 의뢰, 무당, 화림, 김고은, 봉길, 이도현, 대물림, 집안, 장손...</td>\n",
       "    </tr>\n",
       "    <tr>\n",
       "      <th>1</th>\n",
       "      <td>2</td>\n",
       "      <td>범죄도시4</td>\n",
       "      <td>허명행</td>\n",
       "      <td>김무열,박지환,이동휘,마동석,곽자형,이범수,김민재,이지훈,이주빈,김도건,김지훈,현봉...</td>\n",
       "      <td>신종 마약 사건 3년 뒤 괴물형사 마석도(마동석)와 서울 광수대는 배달앱을 이용한 ...</td>\n",
       "      <td>NaN</td>\n",
       "      <td>신종 마약 사건 괴물 형사 마석 마동석 서울 광수 배달 이용 마약 판매 사건 수사 ...</td>\n",
       "      <td>[신종, 마약, 사건, 괴물, 형사, 마석, 마동석, 서울, 광수, 배달, 이용, ...</td>\n",
       "    </tr>\n",
       "    <tr>\n",
       "      <th>2</th>\n",
       "      <td>3</td>\n",
       "      <td>인사이드 아웃 2</td>\n",
       "      <td>켈시 만</td>\n",
       "      <td>에이미 포엘러,토니 헤일</td>\n",
       "      <td>디즈니픽사의 대표작 인사이드 아웃 새로운 감정과 함께 돌아오다 13살이 된 라일리의...</td>\n",
       "      <td>NaN</td>\n",
       "      <td>디즈니 픽사 대표작 인사이드 아웃 감정 라일리 행복 바쁘 머릿속 감정 컨트롤 본부 ...</td>\n",
       "      <td>[디즈니, 픽사, 대표작, 인사이드, 아웃, 감정, 라일리, 행복, 바쁘, 머릿속,...</td>\n",
       "    </tr>\n",
       "    <tr>\n",
       "      <th>3</th>\n",
       "      <td>4</td>\n",
       "      <td>베테랑2</td>\n",
       "      <td>류승완</td>\n",
       "      <td>황정민,정해인,장윤주,정만식,신승환,오달수,오대환,김시후,안보현,진경,권해효,변홍준...</td>\n",
       "      <td>가족들도 못 챙기고 밤낮없이 범죄들과 싸우는 베테랑 형사 서도철(황정민)과 강력범죄...</td>\n",
       "      <td>NaN</td>\n",
       "      <td>가족 범죄 베테랑 형사 서도철 황정민 강력 범죄 수사대 형사 교수 죽음 이전 발생 ...</td>\n",
       "      <td>[가족, 범죄, 베테랑, 형사, 서도철, 황정민, 강력, 범죄, 수사대, 형사, 교...</td>\n",
       "    </tr>\n",
       "    <tr>\n",
       "      <th>4</th>\n",
       "      <td>5</td>\n",
       "      <td>파일럿</td>\n",
       "      <td>김한결</td>\n",
       "      <td>조정석,이주명,한선화,신승호,오민애,김지현,서재희,박다온,현봉식,서현철,유재석,조세...</td>\n",
       "      <td>하루 아침에 인생 추락한 스타 파일럿 제 2의 인생 이륙 준비 중 최고의 비행 실력...</td>\n",
       "      <td>NaN</td>\n",
       "      <td>하루 아침 인생 추락 스타 파일럿 인생 이륙 준비 최고 비행 실력 스타 파일럿 인기...</td>\n",
       "      <td>[하루, 아침, 인생, 추락, 스타, 파일럿, 인생, 이륙, 준비, 최고, 비행, ...</td>\n",
       "    </tr>\n",
       "  </tbody>\n",
       "</table>\n",
       "</div>"
      ],
      "text/plain": [
       "   NUM      TITLE DIRECTOR                                              ACTOR  \\\n",
       "0    1         파묘      장재현  최민식,김고은,유해진,이도현,김재철,김민준,김병오,전진기,박정자,박지일,이종구,이영...   \n",
       "1    2      범죄도시4      허명행  김무열,박지환,이동휘,마동석,곽자형,이범수,김민재,이지훈,이주빈,김도건,김지훈,현봉...   \n",
       "2    3  인사이드 아웃 2     켈시 만                                      에이미 포엘러,토니 헤일   \n",
       "3    4       베테랑2      류승완  황정민,정해인,장윤주,정만식,신승환,오달수,오대환,김시후,안보현,진경,권해효,변홍준...   \n",
       "4    5        파일럿      김한결  조정석,이주명,한선화,신승호,오민애,김지현,서재희,박다온,현봉식,서현철,유재석,조세...   \n",
       "\n",
       "                                            SYNOPSIS  SYNOPSIS_CLEAR  \\\n",
       "0  미국 LA 거액의 의뢰를 받은 무당 화림(김고은)과 봉길(이도현)은 기이한 병이 대...             NaN   \n",
       "1  신종 마약 사건 3년 뒤 괴물형사 마석도(마동석)와 서울 광수대는 배달앱을 이용한 ...             NaN   \n",
       "2  디즈니픽사의 대표작 인사이드 아웃 새로운 감정과 함께 돌아오다 13살이 된 라일리의...             NaN   \n",
       "3  가족들도 못 챙기고 밤낮없이 범죄들과 싸우는 베테랑 형사 서도철(황정민)과 강력범죄...             NaN   \n",
       "4  하루 아침에 인생 추락한 스타 파일럿 제 2의 인생 이륙 준비 중 최고의 비행 실력...             NaN   \n",
       "\n",
       "                                       SYNOPSISCLEAR  \\\n",
       "0  미국 거액 의뢰 무당 화림 김고은 봉길 이도현 대물림 집안 장손 조상 자리 화근 냄...   \n",
       "1  신종 마약 사건 괴물 형사 마석 마동석 서울 광수 배달 이용 마약 판매 사건 수사 ...   \n",
       "2  디즈니 픽사 대표작 인사이드 아웃 감정 라일리 행복 바쁘 머릿속 감정 컨트롤 본부 ...   \n",
       "3  가족 범죄 베테랑 형사 서도철 황정민 강력 범죄 수사대 형사 교수 죽음 이전 발생 ...   \n",
       "4  하루 아침 인생 추락 스타 파일럿 인생 이륙 준비 최고 비행 실력 스타 파일럿 인기...   \n",
       "\n",
       "                                  SYNOPSISCLEAR_LIST  \n",
       "0  [미국, 거액, 의뢰, 무당, 화림, 김고은, 봉길, 이도현, 대물림, 집안, 장손...  \n",
       "1  [신종, 마약, 사건, 괴물, 형사, 마석, 마동석, 서울, 광수, 배달, 이용, ...  \n",
       "2  [디즈니, 픽사, 대표작, 인사이드, 아웃, 감정, 라일리, 행복, 바쁘, 머릿속,...  \n",
       "3  [가족, 범죄, 베테랑, 형사, 서도철, 황정민, 강력, 범죄, 수사대, 형사, 교...  \n",
       "4  [하루, 아침, 인생, 추락, 스타, 파일럿, 인생, 이륙, 준비, 최고, 비행, ...  "
      ]
     },
     "execution_count": 107,
     "metadata": {},
     "output_type": "execute_result"
    }
   ],
   "source": [
    "movie_df.head()"
   ]
  },
  {
   "cell_type": "code",
   "execution_count": 108,
   "id": "9687384b-bd86-4fc7-820e-90ae46a53976",
   "metadata": {},
   "outputs": [
    {
     "data": {
      "text/plain": [
       "['신종',\n",
       " '마약',\n",
       " '사건',\n",
       " '괴물',\n",
       " '형사',\n",
       " '마석',\n",
       " '마동석',\n",
       " '서울',\n",
       " '광수',\n",
       " '배달',\n",
       " '이용',\n",
       " '마약',\n",
       " '판매',\n",
       " '사건',\n",
       " '수사',\n",
       " '수배',\n",
       " '개발자',\n",
       " '필리핀',\n",
       " '사망',\n",
       " '사건',\n",
       " '규모',\n",
       " '온라인',\n",
       " '불법',\n",
       " '도박',\n",
       " '조직',\n",
       " '연관',\n",
       " '필리핀',\n",
       " '거점',\n",
       " '납치',\n",
       " '감금',\n",
       " '폭행',\n",
       " '살인',\n",
       " '대한민국',\n",
       " '온라인',\n",
       " '불법',\n",
       " '도박',\n",
       " '시장',\n",
       " '장악',\n",
       " '특수부대',\n",
       " '용병',\n",
       " '출신',\n",
       " '빌런',\n",
       " '백창기',\n",
       " '김무열',\n",
       " '한국',\n",
       " '업계',\n",
       " '천재',\n",
       " '동철',\n",
       " '이동휘',\n",
       " '마석',\n",
       " '지환',\n",
       " '뜻밖',\n",
       " '협력',\n",
       " '제안',\n",
       " '광역',\n",
       " '수사대',\n",
       " '물론',\n",
       " '사이버',\n",
       " '수사대',\n",
       " '합류',\n",
       " '범죄',\n",
       " '소탕',\n",
       " '시작',\n",
       " '나쁘',\n",
       " '국경',\n",
       " '영역',\n",
       " '제한',\n",
       " '업그레이드',\n",
       " '소탕',\n",
       " '작전']"
      ]
     },
     "execution_count": 108,
     "metadata": {},
     "output_type": "execute_result"
    }
   ],
   "source": [
    "movie_df[\"SYNOPSISCLEAR_LIST\"][1]"
   ]
  },
  {
   "cell_type": "code",
   "execution_count": 109,
   "id": "2bdc9b9e-c36e-4522-a3ff-0b7adb83078e",
   "metadata": {},
   "outputs": [],
   "source": [
    "from gensim.models.word2vec import Word2Vec\n",
    "word2vec = Word2Vec(\n",
    "    movie_df[\"SYNOPSISCLEAR_LIST\"],\n",
    "    sg=1,\n",
    "    vector_size=100,\n",
    "    window=5,\n",
    "    workers=10\n",
    ")"
   ]
  },
  {
   "cell_type": "code",
   "execution_count": 110,
   "id": "67c31ed3-b447-4a4a-afc8-a24c6387d145",
   "metadata": {},
   "outputs": [
    {
     "data": {
      "text/plain": [
       "0"
      ]
     },
     "execution_count": 110,
     "metadata": {},
     "output_type": "execute_result"
    }
   ],
   "source": [
    "word2vec.wv.key_to_index[\"시작\"]"
   ]
  },
  {
   "cell_type": "code",
   "execution_count": 111,
   "id": "5f967588-ad15-4851-bf77-2b4beee9ad16",
   "metadata": {},
   "outputs": [
    {
     "data": {
      "text/plain": [
       "1"
      ]
     },
     "execution_count": 111,
     "metadata": {},
     "output_type": "execute_result"
    }
   ],
   "source": [
    "word2vec.wv.key_to_index[\"자신\"]"
   ]
  },
  {
   "cell_type": "code",
   "execution_count": 112,
   "id": "74b4d063-e582-4840-a31c-5333a668a3b5",
   "metadata": {},
   "outputs": [
    {
     "data": {
      "text/plain": [
       "323"
      ]
     },
     "execution_count": 112,
     "metadata": {},
     "output_type": "execute_result"
    }
   ],
   "source": [
    "word2vec.wv.key_to_index[\"지역\"]"
   ]
  },
  {
   "cell_type": "code",
   "execution_count": 113,
   "id": "fac5c286-ee16-4210-84c5-d98b85694c8f",
   "metadata": {},
   "outputs": [
    {
     "data": {
      "text/plain": [
       "[('카페', 0.9982454180717468),\n",
       " ('사상', 0.9979882836341858),\n",
       " ('이후', 0.9979478120803833),\n",
       " ('이해', 0.9979263544082642),\n",
       " ('선생', 0.9979154467582703),\n",
       " ('포기', 0.99789959192276),\n",
       " ('미미', 0.9978962540626526),\n",
       " ('감동', 0.9978901743888855),\n",
       " ('형제', 0.9978867173194885),\n",
       " ('우연', 0.9978508353233337)]"
      ]
     },
     "execution_count": 113,
     "metadata": {},
     "output_type": "execute_result"
    }
   ],
   "source": [
    "word2vec.wv.most_similar(\"인연\")"
   ]
  },
  {
   "cell_type": "code",
   "execution_count": 114,
   "id": "029ee364-6a02-4001-b278-e88cb62c620f",
   "metadata": {},
   "outputs": [
    {
     "data": {
      "text/plain": [
       "[('인생', 0.9977232217788696),\n",
       " ('공부', 0.9976749420166016),\n",
       " ('순간', 0.9974607825279236),\n",
       " ('용기', 0.9974568486213684),\n",
       " ('힘들', 0.9974219799041748),\n",
       " ('기적', 0.9974181056022644),\n",
       " ('자신', 0.9974163770675659),\n",
       " ('가을', 0.9973787665367126),\n",
       " ('도움', 0.9973683953285217),\n",
       " ('지금', 0.9973328709602356)]"
      ]
     },
     "execution_count": 114,
     "metadata": {},
     "output_type": "execute_result"
    }
   ],
   "source": [
    "word2vec.wv.most_similar(\"사랑\")"
   ]
  },
  {
   "cell_type": "code",
   "execution_count": 115,
   "id": "4bebabc0-2b74-4407-a691-74bb989fc20b",
   "metadata": {},
   "outputs": [
    {
     "data": {
      "text/plain": [
       "[('대상', 0.9981342554092407),\n",
       " ('가족', 0.9979908466339111),\n",
       " ('전쟁', 0.9979839324951172),\n",
       " ('응원', 0.9979147911071777),\n",
       " ('군사', 0.9978581666946411),\n",
       " ('당시', 0.9978374242782593),\n",
       " ('선언', 0.9978338479995728),\n",
       " ('기적', 0.9978044033050537),\n",
       " ('니시무라', 0.9977604150772095),\n",
       " ('의심', 0.9977553486824036)]"
      ]
     },
     "execution_count": 115,
     "metadata": {},
     "output_type": "execute_result"
    }
   ],
   "source": [
    "word2vec.wv.most_similar(\"한국\")"
   ]
  },
  {
   "cell_type": "code",
   "execution_count": 116,
   "id": "7d342341-3e71-48b6-8ea7-2a222cfad369",
   "metadata": {},
   "outputs": [
    {
     "data": {
      "text/plain": [
       "[('결국', 0.9981055855751038),\n",
       " ('현장', 0.9980387091636658),\n",
       " ('감옥', 0.99803626537323),\n",
       " ('대상', 0.9980245232582092),\n",
       " ('눈물', 0.9979565739631653),\n",
       " ('결정', 0.9979247450828552),\n",
       " ('합류', 0.9978914856910706),\n",
       " ('인사', 0.997887372970581),\n",
       " ('빠르', 0.9978753924369812),\n",
       " ('혼란', 0.9978703856468201)]"
      ]
     },
     "execution_count": 116,
     "metadata": {},
     "output_type": "execute_result"
    }
   ],
   "source": [
    "word2vec.wv.most_similar(\"니시무라\")"
   ]
  },
  {
   "cell_type": "code",
   "execution_count": 117,
   "id": "ec2282e3-d6d2-4dab-914d-302e21800690",
   "metadata": {},
   "outputs": [],
   "source": [
    "cursor = connection.cursor()"
   ]
  },
  {
   "cell_type": "code",
   "execution_count": 118,
   "id": "9f085726-7ab2-464b-8a9c-ad677087f228",
   "metadata": {},
   "outputs": [
    {
     "data": {
      "application/vnd.jupyter.widget-view+json": {
       "model_id": "6e387c2700e74ce08441ab6ba35ae196",
       "version_major": 2,
       "version_minor": 0
      },
      "text/plain": [
       "  0%|          | 0/485 [00:00<?, ?it/s]"
      ]
     },
     "metadata": {},
     "output_type": "display_data"
    }
   ],
   "source": [
    "for index, row in tqdm(movie_df.iterrows(), total=len(movie_df)):\n",
    "    try:\n",
    "        words = row['SYNOPSISCLEAR_LIST']\n",
    "        word_vectors = []\n",
    "        for word in words:\n",
    "            if word in word2vec.wv:\n",
    "                word_vectors.append(word2vec.wv[word])\n",
    "        if len(word_vectors) > 0:\n",
    "            avg_vector = np.mean(word_vectors, axis=0)\n",
    "        else:\n",
    "            avg_vector = np.zeros(word2vec.vector_size)\n",
    "        vector_blob = pickle.dumps(avg_vector)  \n",
    "        update_query = \"\"\"\n",
    "        UPDATE movie_tbl SET synopsis_vector = :1 WHERE num = :2\n",
    "        \"\"\"\n",
    "        cursor.execute(update_query, [vector_blob, row['NUM']])\n",
    "    except Exception as e:\n",
    "        print(f\"오류 발생 인덱스 (index): {e}\")"
   ]
  },
  {
   "cell_type": "code",
   "execution_count": 119,
   "id": "f60d63ce-705b-43f9-b200-2b78e8e82898",
   "metadata": {},
   "outputs": [],
   "source": [
    "connection.commit()"
   ]
  },
  {
   "cell_type": "code",
   "execution_count": 120,
   "id": "d6ded351-513a-4cbe-8fef-477e7bc928bf",
   "metadata": {},
   "outputs": [],
   "source": [
    "cursor.close()\n",
    "connection.close()"
   ]
  },
  {
   "cell_type": "code",
   "execution_count": null,
   "id": "8d82305c-b9da-4940-86bb-0e5e2ea70181",
   "metadata": {},
   "outputs": [],
   "source": []
  }
 ],
 "metadata": {
  "kernelspec": {
   "display_name": "Python 3 (ipykernel)",
   "language": "python",
   "name": "python3"
  },
  "language_info": {
   "codemirror_mode": {
    "name": "ipython",
    "version": 3
   },
   "file_extension": ".py",
   "mimetype": "text/x-python",
   "name": "python",
   "nbconvert_exporter": "python",
   "pygments_lexer": "ipython3",
   "version": "3.10.16"
  }
 },
 "nbformat": 4,
 "nbformat_minor": 5
}

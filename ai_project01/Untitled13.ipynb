{
 "cells": [
  {
   "cell_type": "code",
   "execution_count": 1,
   "id": "cb9e9a77-7011-4d4f-a3eb-58dbff82a340",
   "metadata": {},
   "outputs": [],
   "source": [
    "import pandas as pd\n",
    "import torch\n",
    "import torch.nn.functional as F\n",
    "import torch.optim as optim\n",
    "from sklearn.model_selection import train_test_split"
   ]
  },
  {
   "cell_type": "code",
   "execution_count": 3,
   "id": "2dfa6782-482f-43a8-b7ca-58814e392675",
   "metadata": {},
   "outputs": [],
   "source": [
    "df = pd.read_csv('heart_disease.csv')  # 파일명은 환경에 맞게 수정\n",
    "\n",
    "# 3. 특성(X)과 레이블(y) 분리\n",
    "X = df.loc[:, \"age\":\"thal\"]\n",
    "y = df[['target']]\n",
    "\n",
    "# 4. 특성 데이터 평균 및 표준편차 계산\n",
    "X_mean = X.mean()\n",
    "X_std = X.std()\n",
    "\n",
    "# 5. 특성 데이터 정규화\n",
    "X_norm = (X - X_mean) / X_std\n",
    "\n",
    "# 6. 학습/테스트 데이터 분할\n",
    "X_train, X_test, y_train, y_test = train_test_split(\n",
    "    X, y, test_size=0.2, random_state=42\n",
    ")"
   ]
  },
  {
   "cell_type": "code",
   "execution_count": 4,
   "id": "f15add0b-f339-49bf-a0dc-aa1dd3d227a2",
   "metadata": {},
   "outputs": [],
   "source": [
    "X_train_tensor = torch.tensor(X_train.values, dtype=torch.float32)\n",
    "y_train_tensor = torch.tensor(y_train.values, dtype=torch.float32)\n",
    "X_test_tensor = torch.tensor(X_test.values, dtype=torch.float32)\n",
    "y_test_tensor = torch.tensor(y_test.values, dtype=torch.float32)"
   ]
  },
  {
   "cell_type": "code",
   "execution_count": 14,
   "id": "06c96856-89fa-439f-9014-88002cb7131f",
   "metadata": {},
   "outputs": [
    {
     "data": {
      "text/plain": [
       "tensor([[62.,  0.,  0.,  ...,  2.,  0.,  2.],\n",
       "        [53.,  0.,  2.,  ...,  2.,  0.,  0.],\n",
       "        [55.,  1.,  0.,  ...,  1.,  1.,  3.],\n",
       "        ...,\n",
       "        [44.,  1.,  2.,  ...,  2.,  0.,  2.],\n",
       "        [61.,  1.,  0.,  ...,  2.,  1.,  3.],\n",
       "        [58.,  1.,  2.,  ...,  1.,  1.,  3.]])"
      ]
     },
     "execution_count": 14,
     "metadata": {},
     "output_type": "execute_result"
    }
   ],
   "source": [
    "X_test_tensor"
   ]
  },
  {
   "cell_type": "code",
   "execution_count": 15,
   "id": "b14b325d-6e1b-4b6a-81bd-64f71c9db8df",
   "metadata": {},
   "outputs": [
    {
     "data": {
      "text/plain": [
       "13"
      ]
     },
     "execution_count": 15,
     "metadata": {},
     "output_type": "execute_result"
    }
   ],
   "source": [
    "input_dim = X_train.shape[1]\n",
    "input_dim"
   ]
  },
  {
   "cell_type": "code",
   "execution_count": 6,
   "id": "4902a6b1-af1c-4c5f-9a43-432d75cfc6d9",
   "metadata": {},
   "outputs": [],
   "source": [
    "linear = torch.nn.Linear(input_dim, 1)"
   ]
  },
  {
   "cell_type": "code",
   "execution_count": 7,
   "id": "2c8ca4a4-324d-450e-a9f3-e450120edd82",
   "metadata": {},
   "outputs": [],
   "source": [
    "optimizer = optim.Adam(linear.parameters(), lr=0.01)\n",
    "loss_fn = torch.nn.BCELoss()"
   ]
  },
  {
   "cell_type": "code",
   "execution_count": 17,
   "id": "e972f49f-6a52-4f27-8536-786e2f954288",
   "metadata": {},
   "outputs": [
    {
     "name": "stdout",
     "output_type": "stream",
     "text": [
      "Epoch 1/1000, Loss: 48.4146\n",
      "Epoch 100/1000, Loss: 48.4146\n",
      "Epoch 200/1000, Loss: 48.4146\n",
      "Epoch 300/1000, Loss: 48.4146\n",
      "Epoch 400/1000, Loss: 48.4146\n",
      "Epoch 500/1000, Loss: 48.4146\n",
      "Epoch 600/1000, Loss: 48.4146\n",
      "Epoch 700/1000, Loss: 48.4146\n",
      "Epoch 800/1000, Loss: 48.4146\n",
      "Epoch 900/1000, Loss: 48.4146\n",
      "Epoch 1000/1000, Loss: 48.4146\n"
     ]
    }
   ],
   "source": [
    "epochs = 1000\n",
    "for epoch in range(epochs):\n",
    "    z = linear(X_train_tensor)\n",
    "    y_pred = torch.sigmoid(z)\n",
    "    loss = loss_fn(y_pred, y_train_tensor)\n",
    "    optimizer.zero_grad()\n",
    "    loss.backward()\n",
    "    optimizer.step()\n",
    "    if (epoch+1) % 100 == 0 or epoch == 0:\n",
    "        print(f\"Epoch {epoch+1}/{epochs}, Loss: {loss.item():.4f}\")"
   ]
  },
  {
   "cell_type": "code",
   "execution_count": 9,
   "id": "f646bf62-f6fc-4355-8f0f-bcde979dbff5",
   "metadata": {},
   "outputs": [
    {
     "name": "stdout",
     "output_type": "stream",
     "text": [
      "\n",
      "테스트 정확도: 50.24%\n"
     ]
    }
   ],
   "source": [
    "with torch.no_grad():\n",
    "    z_test = linear(X_test_tensor)\n",
    "    y_test_pred = torch.sigmoid(z_test)\n",
    "    y_test_pred_label = (y_test_pred >= 0.5).float()\n",
    "    accuracy = (y_test_pred_label == y_test_tensor).float().mean()\n",
    "    print(f\"\\n테스트 정확도: {accuracy.item() * 100:.2f}%\")"
   ]
  },
  {
   "cell_type": "code",
   "execution_count": 10,
   "id": "1ccb95b6-f59c-49a0-a6dc-99038eb22af8",
   "metadata": {},
   "outputs": [],
   "source": [
    "new_patient_1 = pd.DataFrame({\n",
    "    'age': [59],\n",
    "    'sex': [0],\n",
    "    'cp': [0],\n",
    "    'trestbps': [98],\n",
    "    'chol': [253],\n",
    "    'fbs': [0],\n",
    "    'restecg': [0],\n",
    "    'thalach': [119],\n",
    "    'exang': [0],\n",
    "    'oldpeak': [1.0],\n",
    "    'slope': [1],\n",
    "    'ca': [0],\n",
    "    'thal': [2]\n",
    "})"
   ]
  },
  {
   "cell_type": "code",
   "execution_count": null,
   "id": "0347674c-c820-480f-9a6d-3d103f128b9b",
   "metadata": {},
   "outputs": [],
   "source": [
    "with torch.no_grad():\n",
    "    new_patient_1_norm = (new_patient_1 - X_mean) / X_std\n",
    "    patient1_tensor = torch.tensor(new_patient_1_norm.values, dtype=torch.float32)\n",
    "    pred1 = torch.sigmoid(linear(patient1_tensor))\n",
    "    print(f\"\\n환자 1의 심장병 예측 확률: {pred1.item():.4f}\")"
   ]
  },
  {
   "cell_type": "code",
   "execution_count": null,
   "id": "8bb987a9-b0fb-4216-83f9-33f0298dc511",
   "metadata": {},
   "outputs": [],
   "source": []
  },
  {
   "cell_type": "code",
   "execution_count": null,
   "id": "8948baeb-3d85-4db8-bd00-b18528447a84",
   "metadata": {},
   "outputs": [],
   "source": []
  },
  {
   "cell_type": "code",
   "execution_count": null,
   "id": "167569b7-cb34-4150-bf52-5b0f5456c98a",
   "metadata": {},
   "outputs": [],
   "source": []
  },
  {
   "cell_type": "code",
   "execution_count": null,
   "id": "466d4003-1ca3-49eb-9038-48cd8bdc0f43",
   "metadata": {},
   "outputs": [],
   "source": []
  },
  {
   "cell_type": "code",
   "execution_count": null,
   "id": "f2d16cac-f34e-4984-82d9-393160822a40",
   "metadata": {},
   "outputs": [],
   "source": []
  },
  {
   "cell_type": "code",
   "execution_count": null,
   "id": "47c1c495-c160-43b9-bd9e-2f31dad7cf55",
   "metadata": {},
   "outputs": [],
   "source": []
  },
  {
   "cell_type": "code",
   "execution_count": null,
   "id": "62a0bc14-a148-4d4f-a5cf-46b3509017ef",
   "metadata": {},
   "outputs": [],
   "source": []
  },
  {
   "cell_type": "code",
   "execution_count": null,
   "id": "9471c950-2ac0-450e-8e3a-2883cf783d4d",
   "metadata": {},
   "outputs": [],
   "source": []
  },
  {
   "cell_type": "code",
   "execution_count": null,
   "id": "5d48ace3-8576-4ca4-b967-88a2baf8af70",
   "metadata": {},
   "outputs": [],
   "source": []
  }
 ],
 "metadata": {
  "kernelspec": {
   "display_name": "Python 3 (ipykernel)",
   "language": "python",
   "name": "python3"
  },
  "language_info": {
   "codemirror_mode": {
    "name": "ipython",
    "version": 3
   },
   "file_extension": ".py",
   "mimetype": "text/x-python",
   "name": "python",
   "nbconvert_exporter": "python",
   "pygments_lexer": "ipython3",
   "version": "3.11.13"
  }
 },
 "nbformat": 4,
 "nbformat_minor": 5
}
